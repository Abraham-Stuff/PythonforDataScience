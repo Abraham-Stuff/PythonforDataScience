{
 "cells": [
  {
   "cell_type": "code",
   "execution_count": 48,
   "id": "d8e2f39e-17e4-47ad-82aa-99bd1bfcbce3",
   "metadata": {},
   "outputs": [
    {
     "name": "stdout",
     "output_type": "stream",
     "text": [
      "zsh:1: command not found: pip\n"
     ]
    }
   ],
   "source": [
    "!pip install seaborn"
   ]
  },
  {
   "cell_type": "code",
   "execution_count": 3,
   "id": "c35c7435-eece-4f15-bdbf-746f7eb91111",
   "metadata": {},
   "outputs": [],
   "source": [
    "#import numpy library\n",
    "import numpy as np"
   ]
  },
  {
   "cell_type": "code",
   "execution_count": 6,
   "id": "9b0774f3-91c2-4b68-9bf0-22b569fbf98f",
   "metadata": {},
   "outputs": [],
   "source": [
    "import seaborn as sns"
   ]
  },
  {
   "cell_type": "code",
   "execution_count": 7,
   "id": "f6a9c15c-463d-4d43-b9d9-8b3da57d2521",
   "metadata": {},
   "outputs": [
    {
     "name": "stdout",
     "output_type": "stream",
     "text": [
      "[1 2 3]\n"
     ]
    }
   ],
   "source": [
    "#array np\n",
    "np_array = np.array([1, 2, 3])\n",
    "print(np_array)"
   ]
  },
  {
   "cell_type": "markdown",
   "id": "af8e3232-beb3-4edd-a154-3c2db5710abd",
   "metadata": {},
   "source": [
    "## Python Collection (List)"
   ]
  },
  {
   "cell_type": "code",
   "execution_count": 8,
   "id": "a0d5cd71-355f-4ec0-8b89-faece5c3d2b8",
   "metadata": {},
   "outputs": [
    {
     "name": "stdout",
     "output_type": "stream",
     "text": [
      "['Abraham', 30, 'Kristian', 20]\n"
     ]
    }
   ],
   "source": [
    "#Listdasar\n",
    "name_age = [\"Abraham\", 30, \"Kristian\", 20]\n",
    "print(name_age)"
   ]
  },
  {
   "cell_type": "code",
   "execution_count": 9,
   "id": "d06240d6-1cbb-4303-ad6f-649d6105c73f",
   "metadata": {},
   "outputs": [
    {
     "name": "stdout",
     "output_type": "stream",
     "text": [
      "[['Abraham', 30], ['Kristian', 20], ['Adriana', 40], ['Samuel', 50]]\n"
     ]
    }
   ],
   "source": [
    "#ListofList (Sub-List)\n",
    "name_age=[[\"Abraham\", 30],\n",
    "          [\"Kristian\", 20],\n",
    "          [\"Adriana\", 40],\n",
    "          [\"Samuel\", 50]]\n",
    "print(name_age)"
   ]
  },
  {
   "cell_type": "code",
   "execution_count": 4,
   "id": "d6559001-99ba-4290-a939-e9236846333a",
   "metadata": {},
   "outputs": [
    {
     "name": "stdout",
     "output_type": "stream",
     "text": [
      "[16.1, 15.2, 13.2, 12.1]\n",
      "['dapur', 16.1, 'ruangan tamu', 15.2, 'kamar tidur', 13.2, 'kamar mandi', 12.1]\n"
     ]
    }
   ],
   "source": [
    "#membuat list dari variabel\n",
    "\n",
    "#luas ruangan\n",
    "kitchen = 16.1\n",
    "livingroom = 15.2\n",
    "bedroom = 13.2\n",
    "bathroom = 12.1\n",
    "\n",
    "ruangan_rumah = [kitchen, livingroom, bedroom, bathroom]\n",
    "print(ruangan_rumah)\n",
    "\n",
    "\n",
    "#memasukkan judul ke setiap luas ruangan\n",
    "ruangan_rumah = [\"dapur\", kitchen, \n",
    "                 \"ruangan tamu\", livingroom, \n",
    "                 \"kamar tidur\", bedroom, \n",
    "                 \"kamar mandi\", bathroom]\n",
    "print(ruangan_rumah)"
   ]
  },
  {
   "cell_type": "markdown",
   "id": "caa938d6-3f08-4923-beec-dcc2d1e371d6",
   "metadata": {},
   "source": [
    "## Subset dan Kalkulasi List"
   ]
  },
  {
   "cell_type": "code",
   "execution_count": 8,
   "id": "b9513e99-22e1-4b98-98e6-fc909bcdb751",
   "metadata": {},
   "outputs": [
    {
     "data": {
      "text/plain": [
       "'Sikorsky'"
      ]
     },
     "execution_count": 8,
     "metadata": {},
     "output_type": "execute_result"
    }
   ],
   "source": [
    "#subseting list sederhana\n",
    "\n",
    "age_name = [\"abraham\", 26, \"Sikorsky\", 23, \"Michelle\", 25, \"Ruben\", 40]\n",
    "\n",
    "#memilih sikorsky\n",
    "age_name[2]"
   ]
  },
  {
   "cell_type": "code",
   "execution_count": 12,
   "id": "2a92e8fb-44f1-452b-a935-dac8b9901dcc",
   "metadata": {},
   "outputs": [
    {
     "data": {
      "text/plain": [
       "'Michelle'"
      ]
     },
     "execution_count": 12,
     "metadata": {},
     "output_type": "execute_result"
    }
   ],
   "source": [
    "#subseting dari index yang paling terakhir\n",
    "\n",
    "#memilih michelle\n",
    "age_name[-4]\n",
    "\n",
    "#index -4 artinya adalah urutan nomer 4 dari belakang begitu juga -1 "
   ]
  },
  {
   "cell_type": "markdown",
   "id": "a34da8e3-e25b-4325-b6f1-35939b83a0bc",
   "metadata": {},
   "source": [
    "## List Clicing"
   ]
  },
  {
   "cell_type": "code",
   "execution_count": 33,
   "id": "dca499d5-8d5d-4020-8550-649d50d81b04",
   "metadata": {},
   "outputs": [
    {
     "data": {
      "text/plain": [
       "['abraham', 26]"
      ]
     },
     "execution_count": 33,
     "metadata": {},
     "output_type": "execute_result"
    }
   ],
   "source": [
    "##Slicing adalah sebuah metode ketika hendak memilih multiple values yang lokasi indexnya \n",
    "##berurutan pada kumpulan data ada\n",
    "\n",
    "age_name = [\"abraham\", 26, \"Sikorsky\", 23, \"Michelle\", 25, \"Ruben\", 40]\n",
    "#mengambil index urutan ke 3 dan 6\n",
    "age_name[0:2]\n",
    "##yang harus diperhatikan dalam melalukan slicing:\n",
    "    #urutan index terkahir akan dikurangin 1 dalam menampilkan index"
   ]
  },
  {
   "cell_type": "code",
   "execution_count": 29,
   "id": "7dedfc8f-e8e8-453a-9c09-c650cae9688c",
   "metadata": {},
   "outputs": [
    {
     "data": {
      "text/plain": [
       "['Ruben', 40]"
      ]
     },
     "execution_count": 29,
     "metadata": {},
     "output_type": "execute_result"
    }
   ],
   "source": [
    "age_name[6:8] #contoh ke dua dalam slicing"
   ]
  },
  {
   "cell_type": "code",
   "execution_count": 34,
   "id": "8933a2b1-6b54-4871-8c0b-0e591578d64c",
   "metadata": {},
   "outputs": [
    {
     "data": {
      "text/plain": [
       "[23, 'Michelle', 25, 'Ruben', 40]"
      ]
     },
     "execution_count": 34,
     "metadata": {},
     "output_type": "execute_result"
    }
   ],
   "source": [
    "#Slicing tanpa Ending\n",
    "age_name[3:] #akan memunculkan nilai yang pada index ke 3 hingga terakhir"
   ]
  },
  {
   "cell_type": "code",
   "execution_count": 36,
   "id": "5a8b65c5-f3c4-44a8-8721-c69b0d64c78f",
   "metadata": {},
   "outputs": [
    {
     "data": {
      "text/plain": [
       "['abraham', 26, 'Sikorsky']"
      ]
     },
     "execution_count": 36,
     "metadata": {},
     "output_type": "execute_result"
    }
   ],
   "source": [
    "#Slicing tanpa Start\n",
    "age_name[:3] #akan memunculkan nilai yang pada index ke 0 hingga ke index ke 3"
   ]
  },
  {
   "cell_type": "markdown",
   "id": "9fa6a660-6485-4207-973d-bb575782685a",
   "metadata": {},
   "source": [
    "## Calculating List"
   ]
  },
  {
   "cell_type": "code",
   "execution_count": 42,
   "id": "71a7063d-ca2b-4e99-9c2d-f48f34bf6601",
   "metadata": {},
   "outputs": [
    {
     "name": "stdout",
     "output_type": "stream",
     "text": [
      "25.0\n"
     ]
    }
   ],
   "source": [
    "#list dari luas masing - masing ruangan dalam m2\n",
    "luas_ruangan = ['dapur', 19.0,\n",
    "                'ruang tamu', 20.0,\n",
    "                'kamar tidur', 10,\n",
    "                'kamar mandi', 5]\n",
    "\n",
    "#hitung luas service area dalam m2\n",
    "service_area = luas_ruangan[3] + luas_ruangan[7]\n",
    "print(service_area)"
   ]
  },
  {
   "cell_type": "markdown",
   "id": "3feebf87-2856-4218-aa93-9b9931fa80a5",
   "metadata": {},
   "source": [
    "## Manipulating List"
   ]
  },
  {
   "cell_type": "code",
   "execution_count": 63,
   "id": "f5d82b4e-590e-4543-833f-9ffcbc096ed2",
   "metadata": {},
   "outputs": [
    {
     "name": "stdout",
     "output_type": "stream",
     "text": [
      "['Timothy', 8.9, 'Andreas', 9.1, 'Kruzzer', 8.6, 'Abraham', 9.8]\n"
     ]
    }
   ],
   "source": [
    "#Merubah Element dalam list(Change List Elements)\n",
    "\n",
    "##change list elements adalah sebuah metode yang dapat digunakan untuk memperbaiki(correcting)\n",
    "##dan menggantin(replacing) element atau value yang ada dalam list\n",
    "\n",
    "#varibel_nama[index] = nilai yang baru\n",
    "\n",
    "student_grade =[\"Timothy\", 8.9, \"Andreas\", 9.1, \"Kruzzer\", 8.6, \"Abraham\", 7.9]\n",
    "#ganti nilai abraham menjadi 9.8\n",
    "student_grade[7] = 9.8\n",
    "print(student_grade)\n"
   ]
  },
  {
   "cell_type": "code",
   "execution_count": 64,
   "id": "a75e42df-9786-455b-9b45-4a74e713330a",
   "metadata": {},
   "outputs": [
    {
     "name": "stdout",
     "output_type": "stream",
     "text": [
      "['Timothy', 8.9, 'Andreas Tarigan', 8.8, 'Kruzzer', 8.6, 'Abraham', 9.8]\n"
     ]
    }
   ],
   "source": [
    "#Change Multiple List Elements\n",
    "student_grade[2:4]= \"Andreas Tarigan\", 8.8\n",
    "print(student_grade)"
   ]
  },
  {
   "cell_type": "code",
   "execution_count": 65,
   "id": "3d4c28bc-f995-47db-b91b-2fe277b067c5",
   "metadata": {},
   "outputs": [
    {
     "name": "stdout",
     "output_type": "stream",
     "text": [
      "['Timothy', 8.9, 'Andreas Tarigan', 8.8, 'Kruzzer', 8.6, 'Abraham', 9.8, 'Combo', 9.5]\n"
     ]
    }
   ],
   "source": [
    "#Extending element list (menambahkan element kedalam list)\n",
    "total_student = student_grade + [\"Combo\", 9.5]\n",
    "print(total_student)"
   ]
  },
  {
   "cell_type": "code",
   "execution_count": 66,
   "id": "655cf5bb-a1b8-4791-a317-33caf5a1b0ea",
   "metadata": {},
   "outputs": [
    {
     "name": "stdout",
     "output_type": "stream",
     "text": [
      "['Andreas Tarigan', 8.8, 'Kruzzer', 8.6, 'Abraham', 9.8]\n"
     ]
    }
   ],
   "source": [
    "#Removing List Element(Menghapus List dalam Element)\n",
    "del(student_grade[0:2])\n",
    "print(student_grade)"
   ]
  },
  {
   "cell_type": "code",
   "execution_count": 68,
   "id": "82a6a7a6-697f-4ef5-9b89-5cb4a3e745b5",
   "metadata": {},
   "outputs": [
    {
     "name": "stdout",
     "output_type": "stream",
     "text": [
      "[1, 2, 3, 4, 5, 6, 7, 8, 9, 10]\n"
     ]
    }
   ],
   "source": [
    "##cara kerja operator aritmatika dengan List\n",
    "##untuk menggabungkan 2 list\n",
    "list_pertama = ([1, 2, 3, 4, 5])\n",
    "list_kedua   = ([6, 7, 8, 9, 10])\n",
    "\n",
    "list_gabungan = list_pertama + list_kedua\n",
    "print(list_gabungan)"
   ]
  },
  {
   "cell_type": "code",
   "execution_count": null,
   "id": "f8c4543a-aaa3-4159-9d0d-5cb53051bcd6",
   "metadata": {},
   "outputs": [],
   "source": []
  }
 ],
 "metadata": {
  "kernelspec": {
   "display_name": "Python 3 (ipykernel)",
   "language": "python",
   "name": "python3"
  },
  "language_info": {
   "codemirror_mode": {
    "name": "ipython",
    "version": 3
   },
   "file_extension": ".py",
   "mimetype": "text/x-python",
   "name": "python",
   "nbconvert_exporter": "python",
   "pygments_lexer": "ipython3",
   "version": "3.8.2"
  }
 },
 "nbformat": 4,
 "nbformat_minor": 5
}
