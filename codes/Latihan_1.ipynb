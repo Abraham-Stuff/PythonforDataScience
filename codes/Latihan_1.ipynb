{
 "cells": [
  {
   "cell_type": "markdown",
   "id": "ec435603-f229-4f05-af50-dbe5e0cb7e66",
   "metadata": {},
   "source": [
    "# Latihan Tipe Data dan Penggunaan Variabel"
   ]
  },
  {
   "cell_type": "code",
   "execution_count": 2,
   "id": "6ab0e0ba-fd56-42c9-aa34-458fc427c3e5",
   "metadata": {},
   "outputs": [],
   "source": [
    "#Latihan ini untuk mengasah keterampilan memahami Tipe data dan Penggunaan Variabel\n",
    "#Terdapat 4(empat) tipe data yang digunakan dalam Latihan ini yaitu :\n",
    "    #Integer\n",
    "    #String\n",
    "    #Boolean\n",
    "    #Floating\n",
    "#Keterangan setiap Tipe data dan penggunaan Variabel baca di command yang diberikan\n",
    "#Selamat Latihan"
   ]
  },
  {
   "cell_type": "code",
   "execution_count": 11,
   "id": "c4952539-86bc-41aa-b0c9-cd737f8512d6",
   "metadata": {},
   "outputs": [
    {
     "name": "stdout",
     "output_type": "stream",
     "text": [
      "Nama Mahasiswa        : Abraham Tarigan \n",
      "Umur Mahasiswa        : 26\n",
      "Jenis Kelamin Pria    : True\n",
      "Jenis Kelamin Wanita  : False\n",
      "Berat Badan Mahasiswa : 73.1\n"
     ]
    }
   ],
   "source": [
    "namaMahasiswa = \"Abrahams Tarigan \" #masukkan nama kamu disini (Gunakan Tipe Data String)\n",
    "umurMahasiswa = 26 #masukkan umur kamu disini (Gunakan Tipe Data Integer)\n",
    "#Untuk Jenis kelamin silahkan masukkan jenis kelamin masing - masing misalnya Pria dan Wanita \n",
    "#jika jenis kelamin Kamu adalah pria maka = :\n",
    "pria = True #Masukkan Jenis Kelamin Kamu disini (Gunakan Tipe Data Boolean yaitu: True or False)\n",
    "#jika jenis kelamin Kamu adalah wanita maka = :\n",
    "wanita = False #Masukkan Jenis Kelamin Kamu disini (Gunakan Tipe Data Boolean yaitu: True or False)\n",
    "beratBadan = 73.1 #Masukkan berat badan kamu (Gunakan Tipe Data Floating)\n",
    "\n",
    "print(\"Nama Mahasiswa        :\",namaMahasiswa)\n",
    "print(\"Umur Mahasiswa        :\",umurMahasiswa)\n",
    "print(\"Jenis Kelamin Pria    :\",pria)\n",
    "print(\"Jenis Kelamin Wanita  :\",wanita)\n",
    "print(\"Berat Badan Mahasiswa :\",beratBadan)"
   ]
  },
  {
   "cell_type": "code",
   "execution_count": 14,
   "id": "45e0cbc0-82d9-4320-af6f-689f8606dd00",
   "metadata": {},
   "outputs": [
    {
     "data": {
      "text/plain": [
       "str"
      ]
     },
     "execution_count": 14,
     "metadata": {},
     "output_type": "execute_result"
    }
   ],
   "source": [
    "#Latihan ini untuk mengecek tipe data yang digunakan.\n",
    "#kembali tampilkan jenis tipe data dengan variable yang kamu gunakan diatas\n",
    "#contoh:\n",
    "    #type(namaMahasiswa) --> akan menampilkan tipe data 'str' lihat dihasilnya \n",
    "type(namaMahasiswa)\n",
    "#lanjutkan sampai variabel untuk berat badan mahasiswa"
   ]
  },
  {
   "cell_type": "markdown",
   "id": "593587df-a59b-4620-82ae-f0f153f1e007",
   "metadata": {},
   "source": [
    "## Multiple values didalam Variabel"
   ]
  },
  {
   "cell_type": "code",
   "execution_count": 2,
   "id": "b505ae87-cf7a-4992-82e5-98bc9372d6d7",
   "metadata": {},
   "outputs": [
    {
     "name": "stdout",
     "output_type": "stream",
     "text": [
      "('Abraham', 'Matius', 'Alexander', 'Michael')\n",
      "(20, 30, 40, 51)\n",
      "(1.45, 2.3, 5, 6)\n",
      "(True, False, True, False)\n"
     ]
    }
   ],
   "source": [
    "#variable string\n",
    "namaMahasiswa = (\"Abraham\", \"Matius\", \"Alexander\", \"Michael\")\n",
    "\n",
    "#variabel integer\n",
    "umurMahasiswa = (20, 30, 40, 51)\n",
    "\n",
    "#variable floating\n",
    "beratBadan = (1.45, 2.30, 5,6)\n",
    "\n",
    "#variable boolean\n",
    "jenisKelamin = (True, False, True, False)\n",
    "\n",
    "print(namaMahasiswa)\n",
    "print(umurMahasiswa)\n",
    "print(beratBadan)\n",
    "print(jenisKelamin)\n",
    "\n",
    "\n"
   ]
  },
  {
   "cell_type": "markdown",
   "id": "b32d9507-6122-4925-8d00-9f9243ec50f7",
   "metadata": {},
   "source": [
    "## Working Directory Management"
   ]
  },
  {
   "cell_type": "code",
   "execution_count": 21,
   "id": "f5b9fbd3-3d5b-4798-b795-eee7b4bf27bf",
   "metadata": {},
   "outputs": [],
   "source": [
    "import os"
   ]
  },
  {
   "cell_type": "code",
   "execution_count": 57,
   "id": "720b7348-fcfa-4429-b44b-e67cadccd798",
   "metadata": {},
   "outputs": [
    {
     "data": {
      "text/plain": [
       "'/Users/macbookpro2013/Library/Mobile Documents/com~apple~CloudDocs/Devanta Abraham Tarigan/Projects/Python Beginners/1/codes'"
      ]
     },
     "execution_count": 57,
     "metadata": {},
     "output_type": "execute_result"
    }
   ],
   "source": [
    "os.getcwd() ##untuk mengecek lokasi tempat kerja"
   ]
  },
  {
   "cell_type": "code",
   "execution_count": 23,
   "id": "8335620d-9b6e-442a-9442-e022074baaf7",
   "metadata": {},
   "outputs": [
    {
     "data": {
      "text/plain": [
       "['Latihan_pertama.ipynb', '.ipynb_checkpoints']"
      ]
     },
     "execution_count": 23,
     "metadata": {},
     "output_type": "execute_result"
    }
   ],
   "source": [
    "os.listdir() ##untuk mengecek file didalam direktori"
   ]
  },
  {
   "cell_type": "code",
   "execution_count": 56,
   "id": "d55bd73a-a2db-4fb1-9879-97e6dba4447d",
   "metadata": {},
   "outputs": [],
   "source": [
    "os.chdir(\"../codes\") ##untuk mengubah lokasi tempat kerja"
   ]
  },
  {
   "cell_type": "markdown",
   "id": "e08ebe9f-241b-418d-baf1-99d3b4b22335",
   "metadata": {},
   "source": [
    "## Python calculator"
   ]
  },
  {
   "cell_type": "code",
   "execution_count": 30,
   "id": "98a47c9f-5bf9-4a5b-a2a4-c870ce01b639",
   "metadata": {},
   "outputs": [
    {
     "data": {
      "text/plain": [
       "16"
      ]
     },
     "execution_count": 30,
     "metadata": {},
     "output_type": "execute_result"
    }
   ],
   "source": [
    "4 ** 2 #perpangkatan(Exponentiation)"
   ]
  },
  {
   "cell_type": "code",
   "execution_count": 31,
   "id": "bb78db79-5592-4c7c-b797-d8d653c329db",
   "metadata": {},
   "outputs": [
    {
     "data": {
      "text/plain": [
       "15"
      ]
     },
     "execution_count": 31,
     "metadata": {},
     "output_type": "execute_result"
    }
   ],
   "source": [
    "3 * 5 #perkalian(Multiplication)"
   ]
  },
  {
   "cell_type": "code",
   "execution_count": 33,
   "id": "4ddf43fb-47f6-486f-b252-68f79b02b2bb",
   "metadata": {},
   "outputs": [
    {
     "data": {
      "text/plain": [
       "1"
      ]
     },
     "execution_count": 33,
     "metadata": {},
     "output_type": "execute_result"
    }
   ],
   "source": [
    "9 % 2 #module = sisa hasil bagi"
   ]
  },
  {
   "cell_type": "code",
   "execution_count": 34,
   "id": "4004d4ea-b49b-41eb-99e6-14084696cd0f",
   "metadata": {},
   "outputs": [
    {
     "data": {
      "text/plain": [
       "2.0"
      ]
     },
     "execution_count": 34,
     "metadata": {},
     "output_type": "execute_result"
    }
   ],
   "source": [
    "10/5 #pembagian(Division)"
   ]
  },
  {
   "cell_type": "code",
   "execution_count": 35,
   "id": "f3e8496b-7d7f-48f2-823c-abd9a4b4f780",
   "metadata": {},
   "outputs": [
    {
     "data": {
      "text/plain": [
       "10"
      ]
     },
     "execution_count": 35,
     "metadata": {},
     "output_type": "execute_result"
    }
   ],
   "source": [
    "5 + 5 #penjumlahan(Sum)"
   ]
  },
  {
   "cell_type": "code",
   "execution_count": 37,
   "id": "c36615ba-bb49-43a5-a0ad-ab2f841ed51b",
   "metadata": {},
   "outputs": [
    {
     "data": {
      "text/plain": [
       "2"
      ]
     },
     "execution_count": 37,
     "metadata": {},
     "output_type": "execute_result"
    }
   ],
   "source": [
    "4 - 2 #pengurangan"
   ]
  },
  {
   "cell_type": "code",
   "execution_count": 41,
   "id": "dd1bd5c1-e4ae-4d1e-9b0a-ec82949400a4",
   "metadata": {},
   "outputs": [
    {
     "data": {
      "text/plain": [
       "'abcd'"
      ]
     },
     "execution_count": 41,
     "metadata": {},
     "output_type": "execute_result"
    }
   ],
   "source": [
    "\"ab\" + \"cd\" #penjumlahan string"
   ]
  },
  {
   "cell_type": "markdown",
   "id": "1ecc427b-efcf-428a-af22-fe915e43fcfa",
   "metadata": {},
   "source": [
    "## Kalkulasi dan Konversi Variabel"
   ]
  },
  {
   "cell_type": "code",
   "execution_count": 42,
   "id": "c22ab452-887c-4781-b2f8-8b452ecc6f69",
   "metadata": {},
   "outputs": [
    {
     "name": "stdout",
     "output_type": "stream",
     "text": [
      "10.0\n"
     ]
    }
   ],
   "source": [
    "# mengalikan integer dengan floating\n",
    "x = 2.5\n",
    "y = 4\n",
    "\n",
    "xy = x * y\n",
    "print(xy)"
   ]
  },
  {
   "cell_type": "code",
   "execution_count": 48,
   "id": "9dd6f5f2-e2a1-4aba-8b5c-58ea57e3c3e2",
   "metadata": {},
   "outputs": [
    {
     "name": "stdout",
     "output_type": "stream",
     "text": [
      "Hai Abraham\n"
     ]
    }
   ],
   "source": [
    "# menjumlahkan (sum) string\n",
    "x = \"Hai \"\n",
    "y = \"Abraham\"\n",
    "\n",
    "xy = x + y\n",
    "print(xy)"
   ]
  },
  {
   "cell_type": "code",
   "execution_count": 47,
   "id": "122c702e-2b29-4ebb-aa41-bf906a1a9f1d",
   "metadata": {},
   "outputs": [
    {
     "name": "stdout",
     "output_type": "stream",
     "text": [
      "1\n"
     ]
    }
   ],
   "source": [
    "# menjumlahkan boolean\n",
    "x = True #true memiliki nilai 1\n",
    "y = False #false memiliki nilai 0\n",
    "\n",
    "xy = x + y\n",
    "print(xy)"
   ]
  },
  {
   "cell_type": "code",
   "execution_count": 59,
   "id": "a6ff1d0e-93f2-4671-b2b4-4a6cfbb86e88",
   "metadata": {},
   "outputs": [
    {
     "name": "stdout",
     "output_type": "stream",
     "text": [
      "Modal awal jualan baju adalah Rp.50000 dan hasil dari penjualan baju adalah Rp.60000 berarti saya mendapatkan untung sebesar Rp.10000\n"
     ]
    }
   ],
   "source": [
    "#hasil jualan 50 baju\n",
    "modal = 1000 * 50\n",
    "hasil = 1200 * 50\n",
    "\n",
    "#laporan hasil penjualan (converting integer ke string)\n",
    "print(\"Modal awal jualan baju adalah Rp.\" + str(modal) + \n",
    "      \" dan hasil dari penjualan baju adalah Rp.\" + str(hasil) +\n",
    "      \" berarti saya mendapatkan untung sebesar Rp.\" + str(hasil - modal))"
   ]
  },
  {
   "cell_type": "code",
   "execution_count": null,
   "id": "4562cb6c-1857-4f3d-aa1d-443f045b45c8",
   "metadata": {},
   "outputs": [],
   "source": []
  }
 ],
 "metadata": {
  "kernelspec": {
   "display_name": "Python 3 (ipykernel)",
   "language": "python",
   "name": "python3"
  },
  "language_info": {
   "codemirror_mode": {
    "name": "ipython",
    "version": 3
   },
   "file_extension": ".py",
   "mimetype": "text/x-python",
   "name": "python",
   "nbconvert_exporter": "python",
   "pygments_lexer": "ipython3",
   "version": "3.10.0"
  }
 },
 "nbformat": 4,
 "nbformat_minor": 5
}
