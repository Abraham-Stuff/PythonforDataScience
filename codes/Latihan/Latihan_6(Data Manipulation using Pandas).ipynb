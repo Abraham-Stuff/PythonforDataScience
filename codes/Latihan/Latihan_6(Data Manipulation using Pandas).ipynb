{
 "cells": [
  {
   "cell_type": "code",
   "execution_count": 1,
   "id": "360ee978-02e1-4c8a-a524-2aa17d5e127d",
   "metadata": {},
   "outputs": [],
   "source": [
    "import numpy as np"
   ]
  },
  {
   "cell_type": "code",
   "execution_count": 2,
   "id": "c88d72db-5962-421b-94fb-a9c6d86078aa",
   "metadata": {},
   "outputs": [],
   "source": [
    "import pandas as pd"
   ]
  },
  {
   "cell_type": "code",
   "execution_count": 3,
   "id": "e8c7069f-1326-4040-a236-039ece4c4681",
   "metadata": {},
   "outputs": [],
   "source": [
    "import os"
   ]
  },
  {
   "cell_type": "code",
   "execution_count": 5,
   "id": "4aae4853-1ef7-4fbb-823d-bae8087c7bb3",
   "metadata": {},
   "outputs": [
    {
     "data": {
      "text/plain": [
       "'/Users/abraham/Library/Mobile Documents/com~apple~CloudDocs/Devanta Abraham Tarigan/Projects/Python DSAI/Data Visualisation and Data Manipulation/data/input'"
      ]
     },
     "execution_count": 5,
     "metadata": {},
     "output_type": "execute_result"
    }
   ],
   "source": [
    "##showing the current working directory\n",
    "os.getcwd()"
   ]
  },
  {
   "cell_type": "code",
   "execution_count": 4,
   "id": "0f8ea36f-53e1-42e7-bf3e-7b73fcf9a219",
   "metadata": {},
   "outputs": [],
   "source": [
    "##changing the working directory\n",
    "os.chdir(\"../data/input\")"
   ]
  },
  {
   "cell_type": "code",
   "execution_count": 6,
   "id": "5e176bd3-2867-49ce-bd80-9ec843490ab6",
   "metadata": {},
   "outputs": [
    {
     "data": {
      "text/plain": [
       "['temperatures.csv',\n",
       " 'baseball.csv',\n",
       " 'sales_subset.csv',\n",
       " '.ipynb_checkpoints',\n",
       " 'brics.csv',\n",
       " 'FIFA_dirty_dataset.csv',\n",
       " 'cars.csv',\n",
       " 'gapminder.csv']"
      ]
     },
     "execution_count": 6,
     "metadata": {},
     "output_type": "execute_result"
    }
   ],
   "source": [
    "#list of current directory\n",
    "os.listdir()"
   ]
  },
  {
   "cell_type": "code",
   "execution_count": 11,
   "id": "994ec658-a7d6-47c3-97ad-0e6237903aa3",
   "metadata": {},
   "outputs": [
    {
     "data": {
      "text/plain": [
       "'/Users/abraham/Library/Mobile Documents/com~apple~CloudDocs/Devanta Abraham Tarigan/Projects/Python DSAI/Data Visualisation and Data Manipulation/codes'"
      ]
     },
     "execution_count": 11,
     "metadata": {},
     "output_type": "execute_result"
    }
   ],
   "source": [
    "os.getcwd()"
   ]
  },
  {
   "cell_type": "code",
   "execution_count": 12,
   "id": "625d201f-e42d-4263-938f-4a5f866792e6",
   "metadata": {},
   "outputs": [],
   "source": [
    "os.chdir(\"Latihan/\")"
   ]
  },
  {
   "cell_type": "code",
   "execution_count": 13,
   "id": "cc894112-0239-455f-8171-e1913473483e",
   "metadata": {},
   "outputs": [
    {
     "data": {
      "text/plain": [
       "'/Users/abraham/Library/Mobile Documents/com~apple~CloudDocs/Devanta Abraham Tarigan/Projects/Python DSAI/Data Visualisation and Data Manipulation/codes/Latihan'"
      ]
     },
     "execution_count": 13,
     "metadata": {},
     "output_type": "execute_result"
    }
   ],
   "source": [
    "os.getcwd()"
   ]
  },
  {
   "cell_type": "code",
   "execution_count": 15,
   "id": "e274e665-bf42-44e1-a560-282a0696b5a8",
   "metadata": {},
   "outputs": [
    {
     "data": {
      "text/html": [
       "<div>\n",
       "<style scoped>\n",
       "    .dataframe tbody tr th:only-of-type {\n",
       "        vertical-align: middle;\n",
       "    }\n",
       "\n",
       "    .dataframe tbody tr th {\n",
       "        vertical-align: top;\n",
       "    }\n",
       "\n",
       "    .dataframe thead th {\n",
       "        text-align: right;\n",
       "    }\n",
       "</style>\n",
       "<table border=\"1\" class=\"dataframe\">\n",
       "  <thead>\n",
       "    <tr style=\"text-align: right;\">\n",
       "      <th></th>\n",
       "      <th>date</th>\n",
       "      <th>city</th>\n",
       "      <th>country</th>\n",
       "      <th>avg_temp_c</th>\n",
       "    </tr>\n",
       "  </thead>\n",
       "  <tbody>\n",
       "    <tr>\n",
       "      <th>0</th>\n",
       "      <td>2000-01-01</td>\n",
       "      <td>Abidjan</td>\n",
       "      <td>Côte D'Ivoire</td>\n",
       "      <td>27.293</td>\n",
       "    </tr>\n",
       "    <tr>\n",
       "      <th>1</th>\n",
       "      <td>2000-02-01</td>\n",
       "      <td>Abidjan</td>\n",
       "      <td>Côte D'Ivoire</td>\n",
       "      <td>27.685</td>\n",
       "    </tr>\n",
       "    <tr>\n",
       "      <th>2</th>\n",
       "      <td>2000-03-01</td>\n",
       "      <td>Abidjan</td>\n",
       "      <td>Côte D'Ivoire</td>\n",
       "      <td>29.061</td>\n",
       "    </tr>\n",
       "    <tr>\n",
       "      <th>3</th>\n",
       "      <td>2000-04-01</td>\n",
       "      <td>Abidjan</td>\n",
       "      <td>Côte D'Ivoire</td>\n",
       "      <td>28.162</td>\n",
       "    </tr>\n",
       "    <tr>\n",
       "      <th>4</th>\n",
       "      <td>2000-05-01</td>\n",
       "      <td>Abidjan</td>\n",
       "      <td>Côte D'Ivoire</td>\n",
       "      <td>27.547</td>\n",
       "    </tr>\n",
       "  </tbody>\n",
       "</table>\n",
       "</div>"
      ],
      "text/plain": [
       "         date     city        country  avg_temp_c\n",
       "0  2000-01-01  Abidjan  Côte D'Ivoire      27.293\n",
       "1  2000-02-01  Abidjan  Côte D'Ivoire      27.685\n",
       "2  2000-03-01  Abidjan  Côte D'Ivoire      29.061\n",
       "3  2000-04-01  Abidjan  Côte D'Ivoire      28.162\n",
       "4  2000-05-01  Abidjan  Côte D'Ivoire      27.547"
      ]
     },
     "execution_count": 15,
     "metadata": {},
     "output_type": "execute_result"
    }
   ],
   "source": [
    "tempratures = pd.read_csv(\"../../data/input/temperatures.csv\", index_col = 0)\n",
    "tempratures.head()"
   ]
  },
  {
   "cell_type": "code",
   "execution_count": 15,
   "id": "5053d3e3-7b45-4b69-b41b-6d37fda65b38",
   "metadata": {},
   "outputs": [
    {
     "data": {
      "text/html": [
       "<div>\n",
       "<style scoped>\n",
       "    .dataframe tbody tr th:only-of-type {\n",
       "        vertical-align: middle;\n",
       "    }\n",
       "\n",
       "    .dataframe tbody tr th {\n",
       "        vertical-align: top;\n",
       "    }\n",
       "\n",
       "    .dataframe thead th {\n",
       "        text-align: right;\n",
       "    }\n",
       "</style>\n",
       "<table border=\"1\" class=\"dataframe\">\n",
       "  <thead>\n",
       "    <tr style=\"text-align: right;\">\n",
       "      <th></th>\n",
       "      <th>date</th>\n",
       "      <th>city</th>\n",
       "      <th>country</th>\n",
       "      <th>avg_temp_c</th>\n",
       "    </tr>\n",
       "  </thead>\n",
       "  <tbody>\n",
       "    <tr>\n",
       "      <th>16494</th>\n",
       "      <td>2013-04-01</td>\n",
       "      <td>Xian</td>\n",
       "      <td>China</td>\n",
       "      <td>12.563</td>\n",
       "    </tr>\n",
       "    <tr>\n",
       "      <th>16495</th>\n",
       "      <td>2013-05-01</td>\n",
       "      <td>Xian</td>\n",
       "      <td>China</td>\n",
       "      <td>18.979</td>\n",
       "    </tr>\n",
       "    <tr>\n",
       "      <th>16496</th>\n",
       "      <td>2013-06-01</td>\n",
       "      <td>Xian</td>\n",
       "      <td>China</td>\n",
       "      <td>23.522</td>\n",
       "    </tr>\n",
       "    <tr>\n",
       "      <th>16497</th>\n",
       "      <td>2013-07-01</td>\n",
       "      <td>Xian</td>\n",
       "      <td>China</td>\n",
       "      <td>25.251</td>\n",
       "    </tr>\n",
       "    <tr>\n",
       "      <th>16498</th>\n",
       "      <td>2013-08-01</td>\n",
       "      <td>Xian</td>\n",
       "      <td>China</td>\n",
       "      <td>24.528</td>\n",
       "    </tr>\n",
       "    <tr>\n",
       "      <th>16499</th>\n",
       "      <td>2013-09-01</td>\n",
       "      <td>Xian</td>\n",
       "      <td>China</td>\n",
       "      <td>NaN</td>\n",
       "    </tr>\n",
       "  </tbody>\n",
       "</table>\n",
       "</div>"
      ],
      "text/plain": [
       "             date  city country  avg_temp_c\n",
       "16494  2013-04-01  Xian   China      12.563\n",
       "16495  2013-05-01  Xian   China      18.979\n",
       "16496  2013-06-01  Xian   China      23.522\n",
       "16497  2013-07-01  Xian   China      25.251\n",
       "16498  2013-08-01  Xian   China      24.528\n",
       "16499  2013-09-01  Xian   China         NaN"
      ]
     },
     "execution_count": 15,
     "metadata": {},
     "output_type": "execute_result"
    }
   ],
   "source": [
    "tempratures.tail(6)"
   ]
  },
  {
   "cell_type": "code",
   "execution_count": 16,
   "id": "ab4c3356-0b6c-4492-803a-fdf36f1aa905",
   "metadata": {},
   "outputs": [
    {
     "data": {
      "text/html": [
       "<div>\n",
       "<style scoped>\n",
       "    .dataframe tbody tr th:only-of-type {\n",
       "        vertical-align: middle;\n",
       "    }\n",
       "\n",
       "    .dataframe tbody tr th {\n",
       "        vertical-align: top;\n",
       "    }\n",
       "\n",
       "    .dataframe thead th {\n",
       "        text-align: right;\n",
       "    }\n",
       "</style>\n",
       "<table border=\"1\" class=\"dataframe\">\n",
       "  <thead>\n",
       "    <tr style=\"text-align: right;\">\n",
       "      <th></th>\n",
       "      <th>avg_temp_c</th>\n",
       "    </tr>\n",
       "  </thead>\n",
       "  <tbody>\n",
       "    <tr>\n",
       "      <th>count</th>\n",
       "      <td>16407.000000</td>\n",
       "    </tr>\n",
       "    <tr>\n",
       "      <th>mean</th>\n",
       "      <td>19.732877</td>\n",
       "    </tr>\n",
       "    <tr>\n",
       "      <th>std</th>\n",
       "      <td>9.579635</td>\n",
       "    </tr>\n",
       "    <tr>\n",
       "      <th>min</th>\n",
       "      <td>-23.495000</td>\n",
       "    </tr>\n",
       "    <tr>\n",
       "      <th>25%</th>\n",
       "      <td>14.870000</td>\n",
       "    </tr>\n",
       "    <tr>\n",
       "      <th>50%</th>\n",
       "      <td>22.119000</td>\n",
       "    </tr>\n",
       "    <tr>\n",
       "      <th>75%</th>\n",
       "      <td>27.001500</td>\n",
       "    </tr>\n",
       "    <tr>\n",
       "      <th>max</th>\n",
       "      <td>38.283000</td>\n",
       "    </tr>\n",
       "  </tbody>\n",
       "</table>\n",
       "</div>"
      ],
      "text/plain": [
       "         avg_temp_c\n",
       "count  16407.000000\n",
       "mean      19.732877\n",
       "std        9.579635\n",
       "min      -23.495000\n",
       "25%       14.870000\n",
       "50%       22.119000\n",
       "75%       27.001500\n",
       "max       38.283000"
      ]
     },
     "execution_count": 16,
     "metadata": {},
     "output_type": "execute_result"
    }
   ],
   "source": [
    "tempratures.describe()"
   ]
  },
  {
   "cell_type": "code",
   "execution_count": 21,
   "id": "ce27eb1e-f4c2-4665-bf62-bc47b93979b4",
   "metadata": {},
   "outputs": [
    {
     "data": {
      "text/plain": [
       "'2000-01-01'"
      ]
     },
     "execution_count": 21,
     "metadata": {},
     "output_type": "execute_result"
    }
   ],
   "source": [
    "##shwowing the first index of data in the record of data\n",
    "tempratures[\"date\"].min()"
   ]
  },
  {
   "cell_type": "code",
   "execution_count": 22,
   "id": "6b1dd860-84b6-4989-81ef-545daf7e1d64",
   "metadata": {},
   "outputs": [
    {
     "data": {
      "text/plain": [
       "-23.495"
      ]
     },
     "execution_count": 22,
     "metadata": {},
     "output_type": "execute_result"
    }
   ],
   "source": [
    "##showing the avg of the \"avg_temp_c\" column\n",
    "tempratures[\"avg_temp_c\"].min()"
   ]
  },
  {
   "cell_type": "code",
   "execution_count": 18,
   "id": "a38b5f0b-63a7-490e-bbe1-ec352523cf1e",
   "metadata": {},
   "outputs": [
    {
     "name": "stdout",
     "output_type": "stream",
     "text": [
      "19.732876577070762\n",
      "22.119\n"
     ]
    }
   ],
   "source": [
    "print(tempratures[\"avg_temp_c\"].mean())\n",
    "print(tempratures[\"avg_temp_c\"].median())"
   ]
  },
  {
   "cell_type": "code",
   "execution_count": 19,
   "id": "22fb23e1-9eb4-4697-acc9-fb18dd889b9b",
   "metadata": {},
   "outputs": [
    {
     "data": {
      "text/plain": [
       "0    27.056\n",
       "dtype: float64"
      ]
     },
     "execution_count": 19,
     "metadata": {},
     "output_type": "execute_result"
    }
   ],
   "source": [
    "##showing the modus \n",
    "tempratures[\"avg_temp_c\"].mode()"
   ]
  },
  {
   "cell_type": "code",
   "execution_count": 20,
   "id": "fed4a00f-a2a6-4275-b483-5167790afe5e",
   "metadata": {},
   "outputs": [
    {
     "data": {
      "text/plain": [
       "<AxesSubplot:>"
      ]
     },
     "execution_count": 20,
     "metadata": {},
     "output_type": "execute_result"
    },
    {
     "data": {
      "image/png": "[encoded data removed]",
      "text/plain": [
       "<Figure size 432x288 with 1 Axes>"
      ]
     },
     "metadata": {
      "needs_background": "light"
     },
     "output_type": "display_data"
    }
   ],
   "source": [
    "tempratures[\"avg_temp_c\"].plot()"
   ]
  },
  {
   "cell_type": "code",
   "execution_count": 16,
   "id": "cacc4eb2-b6ac-418a-a807-4c621420dd21",
   "metadata": {},
   "outputs": [
    {
     "data": {
      "text/html": [
       "<div>\n",
       "<style scoped>\n",
       "    .dataframe tbody tr th:only-of-type {\n",
       "        vertical-align: middle;\n",
       "    }\n",
       "\n",
       "    .dataframe tbody tr th {\n",
       "        vertical-align: top;\n",
       "    }\n",
       "\n",
       "    .dataframe thead th {\n",
       "        text-align: right;\n",
       "    }\n",
       "</style>\n",
       "<table border=\"1\" class=\"dataframe\">\n",
       "  <thead>\n",
       "    <tr style=\"text-align: right;\">\n",
       "      <th></th>\n",
       "      <th>store</th>\n",
       "      <th>type</th>\n",
       "      <th>department</th>\n",
       "      <th>date</th>\n",
       "      <th>weekly_sales</th>\n",
       "      <th>is_holiday</th>\n",
       "      <th>temperature_c</th>\n",
       "      <th>fuel_price_usd_per_l</th>\n",
       "      <th>unemployment</th>\n",
       "    </tr>\n",
       "  </thead>\n",
       "  <tbody>\n",
       "    <tr>\n",
       "      <th>0</th>\n",
       "      <td>1</td>\n",
       "      <td>A</td>\n",
       "      <td>1</td>\n",
       "      <td>2010-02-05</td>\n",
       "      <td>24924.50</td>\n",
       "      <td>False</td>\n",
       "      <td>5.727778</td>\n",
       "      <td>0.679451</td>\n",
       "      <td>8.106</td>\n",
       "    </tr>\n",
       "    <tr>\n",
       "      <th>1</th>\n",
       "      <td>1</td>\n",
       "      <td>A</td>\n",
       "      <td>1</td>\n",
       "      <td>2010-03-05</td>\n",
       "      <td>21827.90</td>\n",
       "      <td>False</td>\n",
       "      <td>8.055556</td>\n",
       "      <td>0.693452</td>\n",
       "      <td>8.106</td>\n",
       "    </tr>\n",
       "    <tr>\n",
       "      <th>2</th>\n",
       "      <td>1</td>\n",
       "      <td>A</td>\n",
       "      <td>1</td>\n",
       "      <td>2010-04-02</td>\n",
       "      <td>57258.43</td>\n",
       "      <td>False</td>\n",
       "      <td>16.816667</td>\n",
       "      <td>0.718284</td>\n",
       "      <td>7.808</td>\n",
       "    </tr>\n",
       "    <tr>\n",
       "      <th>3</th>\n",
       "      <td>1</td>\n",
       "      <td>A</td>\n",
       "      <td>1</td>\n",
       "      <td>2010-05-07</td>\n",
       "      <td>17413.94</td>\n",
       "      <td>False</td>\n",
       "      <td>22.527778</td>\n",
       "      <td>0.748928</td>\n",
       "      <td>7.808</td>\n",
       "    </tr>\n",
       "    <tr>\n",
       "      <th>4</th>\n",
       "      <td>1</td>\n",
       "      <td>A</td>\n",
       "      <td>1</td>\n",
       "      <td>2010-06-04</td>\n",
       "      <td>17558.09</td>\n",
       "      <td>False</td>\n",
       "      <td>27.050000</td>\n",
       "      <td>0.714586</td>\n",
       "      <td>7.808</td>\n",
       "    </tr>\n",
       "    <tr>\n",
       "      <th>...</th>\n",
       "      <td>...</td>\n",
       "      <td>...</td>\n",
       "      <td>...</td>\n",
       "      <td>...</td>\n",
       "      <td>...</td>\n",
       "      <td>...</td>\n",
       "      <td>...</td>\n",
       "      <td>...</td>\n",
       "      <td>...</td>\n",
       "    </tr>\n",
       "    <tr>\n",
       "      <th>10769</th>\n",
       "      <td>39</td>\n",
       "      <td>A</td>\n",
       "      <td>99</td>\n",
       "      <td>2011-12-09</td>\n",
       "      <td>895.00</td>\n",
       "      <td>False</td>\n",
       "      <td>9.644444</td>\n",
       "      <td>0.834256</td>\n",
       "      <td>7.716</td>\n",
       "    </tr>\n",
       "    <tr>\n",
       "      <th>10770</th>\n",
       "      <td>39</td>\n",
       "      <td>A</td>\n",
       "      <td>99</td>\n",
       "      <td>2012-02-03</td>\n",
       "      <td>350.00</td>\n",
       "      <td>False</td>\n",
       "      <td>15.938889</td>\n",
       "      <td>0.887619</td>\n",
       "      <td>7.244</td>\n",
       "    </tr>\n",
       "    <tr>\n",
       "      <th>10771</th>\n",
       "      <td>39</td>\n",
       "      <td>A</td>\n",
       "      <td>99</td>\n",
       "      <td>2012-06-08</td>\n",
       "      <td>450.00</td>\n",
       "      <td>False</td>\n",
       "      <td>27.288889</td>\n",
       "      <td>0.911922</td>\n",
       "      <td>6.989</td>\n",
       "    </tr>\n",
       "    <tr>\n",
       "      <th>10772</th>\n",
       "      <td>39</td>\n",
       "      <td>A</td>\n",
       "      <td>99</td>\n",
       "      <td>2012-07-13</td>\n",
       "      <td>0.06</td>\n",
       "      <td>False</td>\n",
       "      <td>25.644444</td>\n",
       "      <td>0.860145</td>\n",
       "      <td>6.623</td>\n",
       "    </tr>\n",
       "    <tr>\n",
       "      <th>10773</th>\n",
       "      <td>39</td>\n",
       "      <td>A</td>\n",
       "      <td>99</td>\n",
       "      <td>2012-10-05</td>\n",
       "      <td>915.00</td>\n",
       "      <td>False</td>\n",
       "      <td>22.250000</td>\n",
       "      <td>0.955511</td>\n",
       "      <td>6.228</td>\n",
       "    </tr>\n",
       "  </tbody>\n",
       "</table>\n",
       "<p>10774 rows × 9 columns</p>\n",
       "</div>"
      ],
      "text/plain": [
       "       store type  department        date  weekly_sales  is_holiday  \\\n",
       "0          1    A           1  2010-02-05      24924.50       False   \n",
       "1          1    A           1  2010-03-05      21827.90       False   \n",
       "2          1    A           1  2010-04-02      57258.43       False   \n",
       "3          1    A           1  2010-05-07      17413.94       False   \n",
       "4          1    A           1  2010-06-04      17558.09       False   \n",
       "...      ...  ...         ...         ...           ...         ...   \n",
       "10769     39    A          99  2011-12-09        895.00       False   \n",
       "10770     39    A          99  2012-02-03        350.00       False   \n",
       "10771     39    A          99  2012-06-08        450.00       False   \n",
       "10772     39    A          99  2012-07-13          0.06       False   \n",
       "10773     39    A          99  2012-10-05        915.00       False   \n",
       "\n",
       "       temperature_c  fuel_price_usd_per_l  unemployment  \n",
       "0           5.727778              0.679451         8.106  \n",
       "1           8.055556              0.693452         8.106  \n",
       "2          16.816667              0.718284         7.808  \n",
       "3          22.527778              0.748928         7.808  \n",
       "4          27.050000              0.714586         7.808  \n",
       "...              ...                   ...           ...  \n",
       "10769       9.644444              0.834256         7.716  \n",
       "10770      15.938889              0.887619         7.244  \n",
       "10771      27.288889              0.911922         6.989  \n",
       "10772      25.644444              0.860145         6.623  \n",
       "10773      22.250000              0.955511         6.228  \n",
       "\n",
       "[10774 rows x 9 columns]"
      ]
     },
     "execution_count": 16,
     "metadata": {},
     "output_type": "execute_result"
    }
   ],
   "source": [
    "df_penjualan = pd.read_csv(\"../../data/input/sales_subset.csv\", index_col = 0)\n",
    "df_penjualan"
   ]
  },
  {
   "cell_type": "code",
   "execution_count": 21,
   "id": "a429e0c6-f312-4f1c-852e-ff2b60ff8310",
   "metadata": {},
   "outputs": [
    {
     "data": {
      "text/html": [
       "<div>\n",
       "<style scoped>\n",
       "    .dataframe tbody tr th:only-of-type {\n",
       "        vertical-align: middle;\n",
       "    }\n",
       "\n",
       "    .dataframe tbody tr th {\n",
       "        vertical-align: top;\n",
       "    }\n",
       "\n",
       "    .dataframe thead th {\n",
       "        text-align: right;\n",
       "    }\n",
       "</style>\n",
       "<table border=\"1\" class=\"dataframe\">\n",
       "  <thead>\n",
       "    <tr style=\"text-align: right;\">\n",
       "      <th></th>\n",
       "      <th>store</th>\n",
       "      <th>type</th>\n",
       "      <th>department</th>\n",
       "      <th>date</th>\n",
       "      <th>weekly_sales</th>\n",
       "      <th>is_holiday</th>\n",
       "      <th>temperature_c</th>\n",
       "      <th>fuel_price_usd_per_l</th>\n",
       "      <th>unemployment</th>\n",
       "    </tr>\n",
       "  </thead>\n",
       "  <tbody>\n",
       "    <tr>\n",
       "      <th>0</th>\n",
       "      <td>1</td>\n",
       "      <td>A</td>\n",
       "      <td>1</td>\n",
       "      <td>2010-02-05</td>\n",
       "      <td>24924.50</td>\n",
       "      <td>False</td>\n",
       "      <td>5.727778</td>\n",
       "      <td>0.679451</td>\n",
       "      <td>8.106</td>\n",
       "    </tr>\n",
       "    <tr>\n",
       "      <th>594</th>\n",
       "      <td>1</td>\n",
       "      <td>A</td>\n",
       "      <td>55</td>\n",
       "      <td>2011-01-07</td>\n",
       "      <td>13296.99</td>\n",
       "      <td>False</td>\n",
       "      <td>9.038889</td>\n",
       "      <td>0.786176</td>\n",
       "      <td>7.742</td>\n",
       "    </tr>\n",
       "    <tr>\n",
       "      <th>595</th>\n",
       "      <td>1</td>\n",
       "      <td>A</td>\n",
       "      <td>56</td>\n",
       "      <td>2010-02-05</td>\n",
       "      <td>2567.36</td>\n",
       "      <td>False</td>\n",
       "      <td>5.727778</td>\n",
       "      <td>0.679451</td>\n",
       "      <td>8.106</td>\n",
       "    </tr>\n",
       "    <tr>\n",
       "      <th>596</th>\n",
       "      <td>1</td>\n",
       "      <td>A</td>\n",
       "      <td>56</td>\n",
       "      <td>2010-03-05</td>\n",
       "      <td>5298.62</td>\n",
       "      <td>False</td>\n",
       "      <td>8.055556</td>\n",
       "      <td>0.693452</td>\n",
       "      <td>8.106</td>\n",
       "    </tr>\n",
       "    <tr>\n",
       "      <th>597</th>\n",
       "      <td>1</td>\n",
       "      <td>A</td>\n",
       "      <td>56</td>\n",
       "      <td>2010-04-02</td>\n",
       "      <td>13928.36</td>\n",
       "      <td>False</td>\n",
       "      <td>16.816667</td>\n",
       "      <td>0.718284</td>\n",
       "      <td>7.808</td>\n",
       "    </tr>\n",
       "    <tr>\n",
       "      <th>...</th>\n",
       "      <td>...</td>\n",
       "      <td>...</td>\n",
       "      <td>...</td>\n",
       "      <td>...</td>\n",
       "      <td>...</td>\n",
       "      <td>...</td>\n",
       "      <td>...</td>\n",
       "      <td>...</td>\n",
       "      <td>...</td>\n",
       "    </tr>\n",
       "    <tr>\n",
       "      <th>10194</th>\n",
       "      <td>39</td>\n",
       "      <td>A</td>\n",
       "      <td>26</td>\n",
       "      <td>2010-10-01</td>\n",
       "      <td>9749.31</td>\n",
       "      <td>False</td>\n",
       "      <td>22.633333</td>\n",
       "      <td>0.687640</td>\n",
       "      <td>8.476</td>\n",
       "    </tr>\n",
       "    <tr>\n",
       "      <th>10195</th>\n",
       "      <td>39</td>\n",
       "      <td>A</td>\n",
       "      <td>26</td>\n",
       "      <td>2010-11-05</td>\n",
       "      <td>12699.18</td>\n",
       "      <td>False</td>\n",
       "      <td>16.455556</td>\n",
       "      <td>0.710359</td>\n",
       "      <td>8.476</td>\n",
       "    </tr>\n",
       "    <tr>\n",
       "      <th>10196</th>\n",
       "      <td>39</td>\n",
       "      <td>A</td>\n",
       "      <td>26</td>\n",
       "      <td>2010-12-03</td>\n",
       "      <td>9331.27</td>\n",
       "      <td>False</td>\n",
       "      <td>11.972222</td>\n",
       "      <td>0.715378</td>\n",
       "      <td>8.476</td>\n",
       "    </tr>\n",
       "    <tr>\n",
       "      <th>10185</th>\n",
       "      <td>39</td>\n",
       "      <td>A</td>\n",
       "      <td>25</td>\n",
       "      <td>2011-01-07</td>\n",
       "      <td>4434.44</td>\n",
       "      <td>False</td>\n",
       "      <td>11.522222</td>\n",
       "      <td>0.786176</td>\n",
       "      <td>8.395</td>\n",
       "    </tr>\n",
       "    <tr>\n",
       "      <th>10773</th>\n",
       "      <td>39</td>\n",
       "      <td>A</td>\n",
       "      <td>99</td>\n",
       "      <td>2012-10-05</td>\n",
       "      <td>915.00</td>\n",
       "      <td>False</td>\n",
       "      <td>22.250000</td>\n",
       "      <td>0.955511</td>\n",
       "      <td>6.228</td>\n",
       "    </tr>\n",
       "  </tbody>\n",
       "</table>\n",
       "<p>10774 rows × 9 columns</p>\n",
       "</div>"
      ],
      "text/plain": [
       "       store type  department        date  weekly_sales  is_holiday  \\\n",
       "0          1    A           1  2010-02-05      24924.50       False   \n",
       "594        1    A          55  2011-01-07      13296.99       False   \n",
       "595        1    A          56  2010-02-05       2567.36       False   \n",
       "596        1    A          56  2010-03-05       5298.62       False   \n",
       "597        1    A          56  2010-04-02      13928.36       False   \n",
       "...      ...  ...         ...         ...           ...         ...   \n",
       "10194     39    A          26  2010-10-01       9749.31       False   \n",
       "10195     39    A          26  2010-11-05      12699.18       False   \n",
       "10196     39    A          26  2010-12-03       9331.27       False   \n",
       "10185     39    A          25  2011-01-07       4434.44       False   \n",
       "10773     39    A          99  2012-10-05        915.00       False   \n",
       "\n",
       "       temperature_c  fuel_price_usd_per_l  unemployment  \n",
       "0           5.727778              0.679451         8.106  \n",
       "594         9.038889              0.786176         7.742  \n",
       "595         5.727778              0.679451         8.106  \n",
       "596         8.055556              0.693452         8.106  \n",
       "597        16.816667              0.718284         7.808  \n",
       "...              ...                   ...           ...  \n",
       "10194      22.633333              0.687640         8.476  \n",
       "10195      16.455556              0.710359         8.476  \n",
       "10196      11.972222              0.715378         8.476  \n",
       "10185      11.522222              0.786176         8.395  \n",
       "10773      22.250000              0.955511         6.228  \n",
       "\n",
       "[10774 rows x 9 columns]"
      ]
     },
     "execution_count": 21,
     "metadata": {},
     "output_type": "execute_result"
    }
   ],
   "source": [
    "kumulatif_penjualan = df_penjualan.sort_values(\"store\")\n",
    "kumulatif_penjualan"
   ]
  },
  {
   "cell_type": "code",
   "execution_count": 22,
   "id": "3334f4f3-cf40-4b15-9721-3f789f428090",
   "metadata": {},
   "outputs": [
    {
     "name": "stdout",
     "output_type": "stream",
     "text": [
      "             date  weekly_sales  cum_weekly_sales  cum_max_sales\n",
      "0      2010-02-05      24924.50           24924.0       24924.50\n",
      "594    2011-01-07      13296.99           38221.0       24924.50\n",
      "595    2010-02-05       2567.36           40789.0       24924.50\n",
      "596    2010-03-05       5298.62           46087.0       24924.50\n",
      "597    2010-04-02      13928.36           60016.0       24924.50\n",
      "...           ...           ...               ...            ...\n",
      "10194  2010-10-01       9749.31       256867339.0      293966.05\n",
      "10195  2010-11-05      12699.18       256880038.0      293966.05\n",
      "10196  2010-12-03       9331.27       256889369.0      293966.05\n",
      "10185  2011-01-07       4434.44       256893804.0      293966.05\n",
      "10773  2012-10-05        915.00       256894719.0      293966.05\n",
      "\n",
      "[10774 rows x 4 columns]\n"
     ]
    }
   ],
   "source": [
    "##get the cummulative sum of weekly_sales, add as cum_weekly_sales col\n",
    "kumulatif_penjualan[\"cum_weekly_sales\"] = kumulatif_penjualan[\"weekly_sales\"].cumsum().round()\n",
    "\n",
    "##get the cummulative max of weekly_sales, add as cum_max_sales col\n",
    "kumulatif_penjualan[\"cum_max_sales\"] = kumulatif_penjualan[\"weekly_sales\"].cummax()\n",
    "\n",
    "## see the colums we calculated\n",
    "print(kumulatif_penjualan[[\"date\", \"weekly_sales\", \"cum_weekly_sales\", \"cum_max_sales\"]])"
   ]
  },
  {
   "cell_type": "code",
   "execution_count": 23,
   "id": "fa685ec1-be0d-4802-891b-784bb42f2c58",
   "metadata": {},
   "outputs": [
    {
     "data": {
      "text/html": [
       "<div>\n",
       "<style scoped>\n",
       "    .dataframe tbody tr th:only-of-type {\n",
       "        vertical-align: middle;\n",
       "    }\n",
       "\n",
       "    .dataframe tbody tr th {\n",
       "        vertical-align: top;\n",
       "    }\n",
       "\n",
       "    .dataframe thead th {\n",
       "        text-align: right;\n",
       "    }\n",
       "</style>\n",
       "<table border=\"1\" class=\"dataframe\">\n",
       "  <thead>\n",
       "    <tr style=\"text-align: right;\">\n",
       "      <th></th>\n",
       "      <th>date</th>\n",
       "      <th>weekly_sales</th>\n",
       "      <th>cum_weekly_sales</th>\n",
       "      <th>cum_max_sales</th>\n",
       "    </tr>\n",
       "  </thead>\n",
       "  <tbody>\n",
       "    <tr>\n",
       "      <th>0</th>\n",
       "      <td>2010-02-05</td>\n",
       "      <td>24924.50</td>\n",
       "      <td>24924.0</td>\n",
       "      <td>24924.50</td>\n",
       "    </tr>\n",
       "    <tr>\n",
       "      <th>594</th>\n",
       "      <td>2011-01-07</td>\n",
       "      <td>13296.99</td>\n",
       "      <td>38221.0</td>\n",
       "      <td>24924.50</td>\n",
       "    </tr>\n",
       "    <tr>\n",
       "      <th>595</th>\n",
       "      <td>2010-02-05</td>\n",
       "      <td>2567.36</td>\n",
       "      <td>40789.0</td>\n",
       "      <td>24924.50</td>\n",
       "    </tr>\n",
       "    <tr>\n",
       "      <th>596</th>\n",
       "      <td>2010-03-05</td>\n",
       "      <td>5298.62</td>\n",
       "      <td>46087.0</td>\n",
       "      <td>24924.50</td>\n",
       "    </tr>\n",
       "    <tr>\n",
       "      <th>597</th>\n",
       "      <td>2010-04-02</td>\n",
       "      <td>13928.36</td>\n",
       "      <td>60016.0</td>\n",
       "      <td>24924.50</td>\n",
       "    </tr>\n",
       "    <tr>\n",
       "      <th>...</th>\n",
       "      <td>...</td>\n",
       "      <td>...</td>\n",
       "      <td>...</td>\n",
       "      <td>...</td>\n",
       "    </tr>\n",
       "    <tr>\n",
       "      <th>10194</th>\n",
       "      <td>2010-10-01</td>\n",
       "      <td>9749.31</td>\n",
       "      <td>256867339.0</td>\n",
       "      <td>293966.05</td>\n",
       "    </tr>\n",
       "    <tr>\n",
       "      <th>10195</th>\n",
       "      <td>2010-11-05</td>\n",
       "      <td>12699.18</td>\n",
       "      <td>256880038.0</td>\n",
       "      <td>293966.05</td>\n",
       "    </tr>\n",
       "    <tr>\n",
       "      <th>10196</th>\n",
       "      <td>2010-12-03</td>\n",
       "      <td>9331.27</td>\n",
       "      <td>256889369.0</td>\n",
       "      <td>293966.05</td>\n",
       "    </tr>\n",
       "    <tr>\n",
       "      <th>10185</th>\n",
       "      <td>2011-01-07</td>\n",
       "      <td>4434.44</td>\n",
       "      <td>256893804.0</td>\n",
       "      <td>293966.05</td>\n",
       "    </tr>\n",
       "    <tr>\n",
       "      <th>10773</th>\n",
       "      <td>2012-10-05</td>\n",
       "      <td>915.00</td>\n",
       "      <td>256894719.0</td>\n",
       "      <td>293966.05</td>\n",
       "    </tr>\n",
       "  </tbody>\n",
       "</table>\n",
       "<p>10774 rows × 4 columns</p>\n",
       "</div>"
      ],
      "text/plain": [
       "             date  weekly_sales  cum_weekly_sales  cum_max_sales\n",
       "0      2010-02-05      24924.50           24924.0       24924.50\n",
       "594    2011-01-07      13296.99           38221.0       24924.50\n",
       "595    2010-02-05       2567.36           40789.0       24924.50\n",
       "596    2010-03-05       5298.62           46087.0       24924.50\n",
       "597    2010-04-02      13928.36           60016.0       24924.50\n",
       "...           ...           ...               ...            ...\n",
       "10194  2010-10-01       9749.31       256867339.0      293966.05\n",
       "10195  2010-11-05      12699.18       256880038.0      293966.05\n",
       "10196  2010-12-03       9331.27       256889369.0      293966.05\n",
       "10185  2011-01-07       4434.44       256893804.0      293966.05\n",
       "10773  2012-10-05        915.00       256894719.0      293966.05\n",
       "\n",
       "[10774 rows x 4 columns]"
      ]
     },
     "execution_count": 23,
     "metadata": {},
     "output_type": "execute_result"
    }
   ],
   "source": [
    "## see the colums we calculated\n",
    "kumulatif_penjualan[[\"date\", \"weekly_sales\", \"cum_weekly_sales\", \"cum_max_sales\"]]"
   ]
  },
  {
   "cell_type": "code",
   "execution_count": 49,
   "id": "55909cc4-6833-4fc1-8dbc-bcd188dd61ab",
   "metadata": {},
   "outputs": [
    {
     "data": {
      "text/plain": [
       "5128.481000000001"
      ]
     },
     "execution_count": 49,
     "metadata": {},
     "output_type": "execute_result"
    }
   ],
   "source": [
    "##Customizing Functions for Summary Statistics\n",
    "def percentile_30(column):\n",
    "    return column.quantile(0.3)\n",
    "\n",
    "df_penjualan[\"weekly_sales\"].agg(percentile_30)"
   ]
  },
  {
   "cell_type": "code",
   "execution_count": 92,
   "id": "d536fe77-e28a-458b-92fd-4776c3db18ee",
   "metadata": {},
   "outputs": [
    {
     "data": {
      "text/plain": [
       "28482.734999999997"
      ]
     },
     "execution_count": 92,
     "metadata": {},
     "output_type": "execute_result"
    }
   ],
   "source": [
    "def iqr(column):\n",
    "    return column.quantile(0.75) - column.quantile(0.25)\n",
    "##this showing the agregat Beetween Q1(Quantile 1) and Q3(Quantile 3)\n",
    "df_penjualan[\"weekly_sales\"].agg(iqr)"
   ]
  },
  {
   "cell_type": "code",
   "execution_count": 107,
   "id": "956329df-3941-4bc2-a22e-f4036d29039c",
   "metadata": {},
   "outputs": [
    {
     "data": {
      "text/html": [
       "<div>\n",
       "<style scoped>\n",
       "    .dataframe tbody tr th:only-of-type {\n",
       "        vertical-align: middle;\n",
       "    }\n",
       "\n",
       "    .dataframe tbody tr th {\n",
       "        vertical-align: top;\n",
       "    }\n",
       "\n",
       "    .dataframe thead th {\n",
       "        text-align: right;\n",
       "    }\n",
       "</style>\n",
       "<table border=\"1\" class=\"dataframe\">\n",
       "  <thead>\n",
       "    <tr style=\"text-align: right;\">\n",
       "      <th></th>\n",
       "      <th>nilai_ujian</th>\n",
       "      <th>nilai_akhir</th>\n",
       "    </tr>\n",
       "  </thead>\n",
       "  <tbody>\n",
       "    <tr>\n",
       "      <th>0</th>\n",
       "      <td>90</td>\n",
       "      <td>90</td>\n",
       "    </tr>\n",
       "    <tr>\n",
       "      <th>1</th>\n",
       "      <td>90</td>\n",
       "      <td>90</td>\n",
       "    </tr>\n",
       "    <tr>\n",
       "      <th>2</th>\n",
       "      <td>90</td>\n",
       "      <td>90</td>\n",
       "    </tr>\n",
       "    <tr>\n",
       "      <th>3</th>\n",
       "      <td>100</td>\n",
       "      <td>100</td>\n",
       "    </tr>\n",
       "    <tr>\n",
       "      <th>4</th>\n",
       "      <td>100</td>\n",
       "      <td>100</td>\n",
       "    </tr>\n",
       "    <tr>\n",
       "      <th>5</th>\n",
       "      <td>100</td>\n",
       "      <td>100</td>\n",
       "    </tr>\n",
       "    <tr>\n",
       "      <th>6</th>\n",
       "      <td>100</td>\n",
       "      <td>100</td>\n",
       "    </tr>\n",
       "  </tbody>\n",
       "</table>\n",
       "</div>"
      ],
      "text/plain": [
       "   nilai_ujian  nilai_akhir\n",
       "0           90           90\n",
       "1           90           90\n",
       "2           90           90\n",
       "3          100          100\n",
       "4          100          100\n",
       "5          100          100\n",
       "6          100          100"
      ]
     },
     "execution_count": 107,
     "metadata": {},
     "output_type": "execute_result"
    }
   ],
   "source": [
    "import pandas as pd\n",
    "import numpy as np\n",
    "nilai = pd.DataFrame({'nilai_ujian' : [90,90,90,100,100,100,100],\n",
    "                      'nilai_akhir' : [90,90,90,100,100,100,100]})\n",
    "nilai"
   ]
  },
  {
   "cell_type": "code",
   "execution_count": 60,
   "id": "b5d8f195-6735-4102-8918-707bbec3c941",
   "metadata": {},
   "outputs": [
    {
     "data": {
      "text/plain": [
       "12049.064999999999"
      ]
     },
     "execution_count": 60,
     "metadata": {},
     "output_type": "execute_result"
    }
   ],
   "source": [
    "df_penjualan[\"weekly_sales\"].median()"
   ]
  },
  {
   "cell_type": "code",
   "execution_count": 66,
   "id": "071c2864-7268-417a-9997-f55baba990e1",
   "metadata": {},
   "outputs": [
    {
     "data": {
      "text/plain": [
       "94.0"
      ]
     },
     "execution_count": 66,
     "metadata": {},
     "output_type": "execute_result"
    }
   ],
   "source": [
    "nilai[\"nilai_ujian\"].median()"
   ]
  },
  {
   "cell_type": "code",
   "execution_count": 91,
   "id": "fffa9d28-e23a-4a58-b0fb-44a9e5ae9fe7",
   "metadata": {},
   "outputs": [
    {
     "data": {
      "text/plain": [
       "5.0"
      ]
     },
     "execution_count": 91,
     "metadata": {},
     "output_type": "execute_result"
    }
   ],
   "source": [
    "def iqr(column):\n",
    "    return column.quantile(0.75) - column.quantile(0.25)\n",
    "##this showing the agregat Beetween Q1 and Q3\n",
    "nilai[\"nilai_ujian\"].agg(iqr)"
   ]
  },
  {
   "cell_type": "code",
   "execution_count": 82,
   "id": "d084b526-68c0-4435-a32f-38f21b3f0103",
   "metadata": {},
   "outputs": [
    {
     "data": {
      "text/plain": [
       "nilai_ujian    90.0\n",
       "Name: 0.25, dtype: float64"
      ]
     },
     "execution_count": 82,
     "metadata": {},
     "output_type": "execute_result"
    }
   ],
   "source": [
    "nilai.quantile(0.25)\n"
   ]
  },
  {
   "cell_type": "code",
   "execution_count": 110,
   "id": "87eaa078-9d7c-46c2-826f-d555f89fe8d8",
   "metadata": {},
   "outputs": [
    {
     "data": {
      "text/plain": [
       "100    4\n",
       "90     3\n",
       "Name: nilai_ujian, dtype: int64"
      ]
     },
     "execution_count": 110,
     "metadata": {},
     "output_type": "execute_result"
    }
   ],
   "source": [
    "hitung_nilai = nilai[\"nilai_ujian\"].value_counts()\n",
    "hitung_nilai"
   ]
  },
  {
   "cell_type": "code",
   "execution_count": 83,
   "id": "7d8ea9c2-e5eb-465d-9a79-1220faf76617",
   "metadata": {},
   "outputs": [
    {
     "data": {
      "text/plain": [
       "3867.1150000000002"
      ]
     },
     "execution_count": 83,
     "metadata": {},
     "output_type": "execute_result"
    }
   ],
   "source": [
    "df_penjualan[\"weekly_sales\"].quantile(0.25)"
   ]
  },
  {
   "cell_type": "code",
   "execution_count": 85,
   "id": "20a20133-29f4-408c-aba0-8d4c198964af",
   "metadata": {},
   "outputs": [
    {
     "data": {
      "text/plain": [
       "32349.85"
      ]
     },
     "execution_count": 85,
     "metadata": {},
     "output_type": "execute_result"
    }
   ],
   "source": [
    "df_penjualan[\"weekly_sales\"].quantile(0.25)"
   ]
  },
  {
   "cell_type": "code",
   "execution_count": 88,
   "id": "b886fdd4-7ece-4eec-bf5a-2873aa9b1705",
   "metadata": {},
   "outputs": [],
   "source": [
    "hitung = df_penjualan[\"weekly_sales\"].quantile(0.75) - df_penjualan[\"weekly_sales\"].quantile(0.25)"
   ]
  },
  {
   "cell_type": "code",
   "execution_count": 89,
   "id": "3758280f-3550-4f94-bef8-4c56a08803d9",
   "metadata": {},
   "outputs": [
    {
     "name": "stdout",
     "output_type": "stream",
     "text": [
      "28482.734999999997\n"
     ]
    }
   ],
   "source": [
    "print(hitung)"
   ]
  },
  {
   "cell_type": "code",
   "execution_count": 90,
   "id": "886a5ad4-679d-497e-9995-180fbb683b55",
   "metadata": {},
   "outputs": [
    {
     "data": {
      "text/plain": [
       "12049.064999999999"
      ]
     },
     "execution_count": 90,
     "metadata": {},
     "output_type": "execute_result"
    }
   ],
   "source": [
    "df_penjualan[\"weekly_sales\"].quantile(0.50)"
   ]
  },
  {
   "cell_type": "code",
   "execution_count": 95,
   "id": "0ef1e19e-25ea-4272-936e-6e6cb8a7dcdd",
   "metadata": {},
   "outputs": [
    {
     "name": "stdout",
     "output_type": "stream",
     "text": [
      "A    9872\n",
      "B     902\n",
      "Name: type, dtype: int64\n"
     ]
    }
   ],
   "source": [
    "## calculating Categorial Variabel\n",
    "\n",
    "#calculate the variabel type\n",
    "hitung_tipe = df_penjualan[\"type\"].value_counts()\n",
    "print(hitung_tipe)"
   ]
  },
  {
   "cell_type": "code",
   "execution_count": 96,
   "id": "eb622131-28b8-4556-b2d0-3dc929bbdb3e",
   "metadata": {},
   "outputs": [
    {
     "data": {
      "text/plain": [
       "A    0.91628\n",
       "B    0.08372\n",
       "Name: type, dtype: float64"
      ]
     },
     "execution_count": 96,
     "metadata": {},
     "output_type": "execute_result"
    }
   ],
   "source": [
    "#get the proportion from variable type\n",
    "hitung_tipe_proporsi = df_penjualan[\"type\"].value_counts(normalize = True)\n",
    "hitung_tipe_proporsi"
   ]
  },
  {
   "cell_type": "code",
   "execution_count": 100,
   "id": "c2526409-490b-4c31-8e0c-207879949620",
   "metadata": {},
   "outputs": [
    {
     "data": {
      "text/plain": [
       "8     144\n",
       "44    144\n",
       "21    144\n",
       "13    144\n",
       "5     144\n",
       "     ... \n",
       "50     72\n",
       "78     56\n",
       "77     39\n",
       "39      7\n",
       "43      2\n",
       "Name: department, Length: 80, dtype: int64"
      ]
     },
     "execution_count": 100,
     "metadata": {},
     "output_type": "execute_result"
    }
   ],
   "source": [
    "#calculate the variable \"department\" and do sort\n",
    "hitung_dept_sort=df_penjualan[\"department\"].value_counts(sort=True)\n",
    "hitung_dept_sort"
   ]
  },
  {
   "cell_type": "code",
   "execution_count": 101,
   "id": "f69a9f2d-353e-4222-8aee-b9341130ce1b",
   "metadata": {},
   "outputs": [
    {
     "data": {
      "text/plain": [
       "8     0.013366\n",
       "44    0.013366\n",
       "21    0.013366\n",
       "13    0.013366\n",
       "5     0.013366\n",
       "        ...   \n",
       "50    0.006683\n",
       "78    0.005198\n",
       "77    0.003620\n",
       "39    0.000650\n",
       "43    0.000186\n",
       "Name: department, Length: 80, dtype: float64"
      ]
     },
     "execution_count": 101,
     "metadata": {},
     "output_type": "execute_result"
    }
   ],
   "source": [
    "#calculate the variable \"department\" and do sort, and proportion\n",
    "hitung_dept_sort_prop=df_penjualan[\"department\"].value_counts(sort=True, normalize=True)\n",
    "hitung_dept_sort_prop"
   ]
  },
  {
   "cell_type": "markdown",
   "id": "144e4120-e411-4022-913f-49d681b5e42a",
   "metadata": {},
   "source": [
    "## Dropping Duplicate Values"
   ]
  },
  {
   "cell_type": "code",
   "execution_count": 10,
   "id": "d41c8c5b-6f66-4ba9-829e-4a3aa2f9acd4",
   "metadata": {},
   "outputs": [
    {
     "data": {
      "text/html": [
       "<div>\n",
       "<style scoped>\n",
       "    .dataframe tbody tr th:only-of-type {\n",
       "        vertical-align: middle;\n",
       "    }\n",
       "\n",
       "    .dataframe tbody tr th {\n",
       "        vertical-align: top;\n",
       "    }\n",
       "\n",
       "    .dataframe thead th {\n",
       "        text-align: right;\n",
       "    }\n",
       "</style>\n",
       "<table border=\"1\" class=\"dataframe\">\n",
       "  <thead>\n",
       "    <tr style=\"text-align: right;\">\n",
       "      <th></th>\n",
       "      <th>store</th>\n",
       "      <th>type</th>\n",
       "      <th>department</th>\n",
       "      <th>date</th>\n",
       "      <th>weekly_sales</th>\n",
       "      <th>is_holiday</th>\n",
       "      <th>temperature_c</th>\n",
       "      <th>fuel_price_usd_per_l</th>\n",
       "      <th>unemployment</th>\n",
       "    </tr>\n",
       "  </thead>\n",
       "  <tbody>\n",
       "    <tr>\n",
       "      <th>10111</th>\n",
       "      <td>39</td>\n",
       "      <td>A</td>\n",
       "      <td>19</td>\n",
       "      <td>2011-03-11</td>\n",
       "      <td>7.0</td>\n",
       "      <td>False</td>\n",
       "      <td>14.638889</td>\n",
       "      <td>0.913772</td>\n",
       "      <td>8.395</td>\n",
       "    </tr>\n",
       "    <tr>\n",
       "      <th>10510</th>\n",
       "      <td>39</td>\n",
       "      <td>A</td>\n",
       "      <td>60</td>\n",
       "      <td>2011-03-11</td>\n",
       "      <td>7.0</td>\n",
       "      <td>False</td>\n",
       "      <td>14.638889</td>\n",
       "      <td>0.913772</td>\n",
       "      <td>8.395</td>\n",
       "    </tr>\n",
       "  </tbody>\n",
       "</table>\n",
       "</div>"
      ],
      "text/plain": [
       "       store type  department        date  weekly_sales  is_holiday  \\\n",
       "10111     39    A          19  2011-03-11           7.0       False   \n",
       "10510     39    A          60  2011-03-11           7.0       False   \n",
       "\n",
       "       temperature_c  fuel_price_usd_per_l  unemployment  \n",
       "10111      14.638889              0.913772         8.395  \n",
       "10510      14.638889              0.913772         8.395  "
      ]
     },
     "execution_count": 10,
     "metadata": {},
     "output_type": "execute_result"
    }
   ],
   "source": [
    "#check duplicates\n",
    "df_penjualan[df_penjualan[[\"weekly_sales\", \"temperature_c\", \"store\"]].duplicated(keep = False)]"
   ]
  },
  {
   "cell_type": "code",
   "execution_count": 134,
   "id": "5cfdba84-1766-4790-9a25-f950a95bf98b",
   "metadata": {},
   "outputs": [
    {
     "data": {
      "text/html": [
       "<div>\n",
       "<style scoped>\n",
       "    .dataframe tbody tr th:only-of-type {\n",
       "        vertical-align: middle;\n",
       "    }\n",
       "\n",
       "    .dataframe tbody tr th {\n",
       "        vertical-align: top;\n",
       "    }\n",
       "\n",
       "    .dataframe thead th {\n",
       "        text-align: right;\n",
       "    }\n",
       "</style>\n",
       "<table border=\"1\" class=\"dataframe\">\n",
       "  <thead>\n",
       "    <tr style=\"text-align: right;\">\n",
       "      <th></th>\n",
       "      <th>store</th>\n",
       "      <th>type</th>\n",
       "      <th>department</th>\n",
       "      <th>date</th>\n",
       "      <th>weekly_sales</th>\n",
       "      <th>is_holiday</th>\n",
       "      <th>temperature_c</th>\n",
       "      <th>fuel_price_usd_per_l</th>\n",
       "      <th>unemployment</th>\n",
       "    </tr>\n",
       "  </thead>\n",
       "  <tbody>\n",
       "    <tr>\n",
       "      <th>0</th>\n",
       "      <td>1</td>\n",
       "      <td>A</td>\n",
       "      <td>1</td>\n",
       "      <td>2010-02-05</td>\n",
       "      <td>24924.50</td>\n",
       "      <td>False</td>\n",
       "      <td>5.727778</td>\n",
       "      <td>0.679451</td>\n",
       "      <td>8.106</td>\n",
       "    </tr>\n",
       "    <tr>\n",
       "      <th>3593</th>\n",
       "      <td>10</td>\n",
       "      <td>B</td>\n",
       "      <td>1</td>\n",
       "      <td>2010-02-05</td>\n",
       "      <td>40212.84</td>\n",
       "      <td>False</td>\n",
       "      <td>12.411111</td>\n",
       "      <td>0.782478</td>\n",
       "      <td>9.765</td>\n",
       "    </tr>\n",
       "  </tbody>\n",
       "</table>\n",
       "</div>"
      ],
      "text/plain": [
       "      store type  department        date  weekly_sales  is_holiday  \\\n",
       "0         1    A           1  2010-02-05      24924.50       False   \n",
       "3593     10    B           1  2010-02-05      40212.84       False   \n",
       "\n",
       "      temperature_c  fuel_price_usd_per_l  unemployment  \n",
       "0          5.727778              0.679451         8.106  \n",
       "3593      12.411111              0.782478         9.765  "
      ]
     },
     "execution_count": 134,
     "metadata": {},
     "output_type": "execute_result"
    }
   ],
   "source": [
    "tipe = df_penjualan.drop_duplicates(subset = [\"type\"])\n",
    "tipe"
   ]
  },
  {
   "cell_type": "code",
   "execution_count": 132,
   "id": "645bf183-fed2-47ac-b32d-aa71eb1c4fd4",
   "metadata": {},
   "outputs": [
    {
     "data": {
      "text/html": [
       "<div>\n",
       "<style scoped>\n",
       "    .dataframe tbody tr th:only-of-type {\n",
       "        vertical-align: middle;\n",
       "    }\n",
       "\n",
       "    .dataframe tbody tr th {\n",
       "        vertical-align: top;\n",
       "    }\n",
       "\n",
       "    .dataframe thead th {\n",
       "        text-align: right;\n",
       "    }\n",
       "</style>\n",
       "<table border=\"1\" class=\"dataframe\">\n",
       "  <thead>\n",
       "    <tr style=\"text-align: right;\">\n",
       "      <th></th>\n",
       "      <th>store</th>\n",
       "      <th>type</th>\n",
       "      <th>department</th>\n",
       "      <th>date</th>\n",
       "      <th>weekly_sales</th>\n",
       "      <th>is_holiday</th>\n",
       "      <th>temperature_c</th>\n",
       "      <th>fuel_price_usd_per_l</th>\n",
       "      <th>unemployment</th>\n",
       "    </tr>\n",
       "  </thead>\n",
       "  <tbody>\n",
       "    <tr>\n",
       "      <th>0</th>\n",
       "      <td>1</td>\n",
       "      <td>A</td>\n",
       "      <td>1</td>\n",
       "      <td>2010-02-05</td>\n",
       "      <td>24924.50</td>\n",
       "      <td>False</td>\n",
       "      <td>5.727778</td>\n",
       "      <td>0.679451</td>\n",
       "      <td>8.106</td>\n",
       "    </tr>\n",
       "    <tr>\n",
       "      <th>3593</th>\n",
       "      <td>10</td>\n",
       "      <td>B</td>\n",
       "      <td>1</td>\n",
       "      <td>2010-02-05</td>\n",
       "      <td>40212.84</td>\n",
       "      <td>False</td>\n",
       "      <td>12.411111</td>\n",
       "      <td>0.782478</td>\n",
       "      <td>9.765</td>\n",
       "    </tr>\n",
       "  </tbody>\n",
       "</table>\n",
       "</div>"
      ],
      "text/plain": [
       "      store type  department        date  weekly_sales  is_holiday  \\\n",
       "0         1    A           1  2010-02-05      24924.50       False   \n",
       "3593     10    B           1  2010-02-05      40212.84       False   \n",
       "\n",
       "      temperature_c  fuel_price_usd_per_l  unemployment  \n",
       "0          5.727778              0.679451         8.106  \n",
       "3593      12.411111              0.782478         9.765  "
      ]
     },
     "execution_count": 132,
     "metadata": {},
     "output_type": "execute_result"
    }
   ],
   "source": []
  },
  {
   "cell_type": "code",
   "execution_count": 5,
   "id": "751449a4-ed70-41ef-b4b6-7f601902b6f0",
   "metadata": {},
   "outputs": [],
   "source": [
    "df = pd.DataFrame({\n",
    "    'brand': ['Yum Yum', 'Yum Yum', 'Indomie', 'Indomie', 'Indomie'],\n",
    "    'style': ['cup', 'cup', 'cup', 'pack', 'pack'],\n",
    "    'rating': [4, 4, 3.5, 15, 5]\n",
    "})"
   ]
  },
  {
   "cell_type": "code",
   "execution_count": 143,
   "id": "0558d195-3784-41af-bc7b-2bda15734611",
   "metadata": {},
   "outputs": [
    {
     "data": {
      "text/html": [
       "<div>\n",
       "<style scoped>\n",
       "    .dataframe tbody tr th:only-of-type {\n",
       "        vertical-align: middle;\n",
       "    }\n",
       "\n",
       "    .dataframe tbody tr th {\n",
       "        vertical-align: top;\n",
       "    }\n",
       "\n",
       "    .dataframe thead th {\n",
       "        text-align: right;\n",
       "    }\n",
       "</style>\n",
       "<table border=\"1\" class=\"dataframe\">\n",
       "  <thead>\n",
       "    <tr style=\"text-align: right;\">\n",
       "      <th></th>\n",
       "      <th>brand</th>\n",
       "      <th>style</th>\n",
       "      <th>rating</th>\n",
       "    </tr>\n",
       "  </thead>\n",
       "  <tbody>\n",
       "    <tr>\n",
       "      <th>0</th>\n",
       "      <td>Yum Yum</td>\n",
       "      <td>cup</td>\n",
       "      <td>4.0</td>\n",
       "    </tr>\n",
       "    <tr>\n",
       "      <th>1</th>\n",
       "      <td>Yum Yum</td>\n",
       "      <td>cup</td>\n",
       "      <td>4.0</td>\n",
       "    </tr>\n",
       "    <tr>\n",
       "      <th>2</th>\n",
       "      <td>Indomie</td>\n",
       "      <td>cup</td>\n",
       "      <td>3.5</td>\n",
       "    </tr>\n",
       "    <tr>\n",
       "      <th>3</th>\n",
       "      <td>Indomie</td>\n",
       "      <td>pack</td>\n",
       "      <td>15.0</td>\n",
       "    </tr>\n",
       "    <tr>\n",
       "      <th>4</th>\n",
       "      <td>Indomie</td>\n",
       "      <td>pack</td>\n",
       "      <td>5.0</td>\n",
       "    </tr>\n",
       "  </tbody>\n",
       "</table>\n",
       "</div>"
      ],
      "text/plain": [
       "     brand style  rating\n",
       "0  Yum Yum   cup     4.0\n",
       "1  Yum Yum   cup     4.0\n",
       "2  Indomie   cup     3.5\n",
       "3  Indomie  pack    15.0\n",
       "4  Indomie  pack     5.0"
      ]
     },
     "execution_count": 143,
     "metadata": {},
     "output_type": "execute_result"
    }
   ],
   "source": [
    "df"
   ]
  },
  {
   "cell_type": "code",
   "execution_count": 141,
   "id": "e1aae4a4-7902-4b8f-a447-1bfb0e8c8954",
   "metadata": {},
   "outputs": [
    {
     "data": {
      "text/html": [
       "<div>\n",
       "<style scoped>\n",
       "    .dataframe tbody tr th:only-of-type {\n",
       "        vertical-align: middle;\n",
       "    }\n",
       "\n",
       "    .dataframe tbody tr th {\n",
       "        vertical-align: top;\n",
       "    }\n",
       "\n",
       "    .dataframe thead th {\n",
       "        text-align: right;\n",
       "    }\n",
       "</style>\n",
       "<table border=\"1\" class=\"dataframe\">\n",
       "  <thead>\n",
       "    <tr style=\"text-align: right;\">\n",
       "      <th></th>\n",
       "      <th>brand</th>\n",
       "      <th>style</th>\n",
       "      <th>rating</th>\n",
       "    </tr>\n",
       "  </thead>\n",
       "  <tbody>\n",
       "    <tr>\n",
       "      <th>0</th>\n",
       "      <td>Yum Yum</td>\n",
       "      <td>cup</td>\n",
       "      <td>4.0</td>\n",
       "    </tr>\n",
       "    <tr>\n",
       "      <th>2</th>\n",
       "      <td>Indomie</td>\n",
       "      <td>cup</td>\n",
       "      <td>3.5</td>\n",
       "    </tr>\n",
       "    <tr>\n",
       "      <th>3</th>\n",
       "      <td>Indomie</td>\n",
       "      <td>pack</td>\n",
       "      <td>15.0</td>\n",
       "    </tr>\n",
       "    <tr>\n",
       "      <th>4</th>\n",
       "      <td>Indomie</td>\n",
       "      <td>pack</td>\n",
       "      <td>5.0</td>\n",
       "    </tr>\n",
       "  </tbody>\n",
       "</table>\n",
       "</div>"
      ],
      "text/plain": [
       "     brand style  rating\n",
       "0  Yum Yum   cup     4.0\n",
       "2  Indomie   cup     3.5\n",
       "3  Indomie  pack    15.0\n",
       "4  Indomie  pack     5.0"
      ]
     },
     "execution_count": 141,
     "metadata": {},
     "output_type": "execute_result"
    }
   ],
   "source": [
    "df.drop_duplicates()"
   ]
  },
  {
   "cell_type": "code",
   "execution_count": 150,
   "id": "aadb6171-683b-4d64-91ec-c494f5a0d040",
   "metadata": {},
   "outputs": [
    {
     "data": {
      "text/html": [
       "<div>\n",
       "<style scoped>\n",
       "    .dataframe tbody tr th:only-of-type {\n",
       "        vertical-align: middle;\n",
       "    }\n",
       "\n",
       "    .dataframe tbody tr th {\n",
       "        vertical-align: top;\n",
       "    }\n",
       "\n",
       "    .dataframe thead th {\n",
       "        text-align: right;\n",
       "    }\n",
       "</style>\n",
       "<table border=\"1\" class=\"dataframe\">\n",
       "  <thead>\n",
       "    <tr style=\"text-align: right;\">\n",
       "      <th></th>\n",
       "      <th>brand</th>\n",
       "      <th>style</th>\n",
       "      <th>rating</th>\n",
       "    </tr>\n",
       "  </thead>\n",
       "  <tbody>\n",
       "    <tr>\n",
       "      <th>0</th>\n",
       "      <td>Yum Yum</td>\n",
       "      <td>cup</td>\n",
       "      <td>4.0</td>\n",
       "    </tr>\n",
       "    <tr>\n",
       "      <th>2</th>\n",
       "      <td>Indomie</td>\n",
       "      <td>cup</td>\n",
       "      <td>3.5</td>\n",
       "    </tr>\n",
       "  </tbody>\n",
       "</table>\n",
       "</div>"
      ],
      "text/plain": [
       "     brand style  rating\n",
       "0  Yum Yum   cup     4.0\n",
       "2  Indomie   cup     3.5"
      ]
     },
     "execution_count": 150,
     "metadata": {},
     "output_type": "execute_result"
    }
   ],
   "source": [
    "#droping the duplicates while variable = brand has duplicated brand\n",
    "df.drop_duplicates(subset=['brand'])\n"
   ]
  },
  {
   "cell_type": "code",
   "execution_count": 6,
   "id": "89032923-7de2-4a44-b6a2-1a79c4cbdbea",
   "metadata": {},
   "outputs": [
    {
     "data": {
      "text/html": [
       "<div>\n",
       "<style scoped>\n",
       "    .dataframe tbody tr th:only-of-type {\n",
       "        vertical-align: middle;\n",
       "    }\n",
       "\n",
       "    .dataframe tbody tr th {\n",
       "        vertical-align: top;\n",
       "    }\n",
       "\n",
       "    .dataframe thead th {\n",
       "        text-align: right;\n",
       "    }\n",
       "</style>\n",
       "<table border=\"1\" class=\"dataframe\">\n",
       "  <thead>\n",
       "    <tr style=\"text-align: right;\">\n",
       "      <th></th>\n",
       "      <th>brand</th>\n",
       "      <th>style</th>\n",
       "      <th>rating</th>\n",
       "    </tr>\n",
       "  </thead>\n",
       "  <tbody>\n",
       "    <tr>\n",
       "      <th>1</th>\n",
       "      <td>Yum Yum</td>\n",
       "      <td>cup</td>\n",
       "      <td>4.0</td>\n",
       "    </tr>\n",
       "    <tr>\n",
       "      <th>4</th>\n",
       "      <td>Indomie</td>\n",
       "      <td>pack</td>\n",
       "      <td>5.0</td>\n",
       "    </tr>\n",
       "  </tbody>\n",
       "</table>\n",
       "</div>"
      ],
      "text/plain": [
       "     brand style  rating\n",
       "1  Yum Yum   cup     4.0\n",
       "4  Indomie  pack     5.0"
      ]
     },
     "execution_count": 6,
     "metadata": {},
     "output_type": "execute_result"
    }
   ],
   "source": [
    "#droping the duplicates while variable = brand has duplicated brand and keep the last value\n",
    "df.drop_duplicates(subset=['brand'], keep=\"last\")"
   ]
  },
  {
   "cell_type": "code",
   "execution_count": 156,
   "id": "6f2352d8-a9b3-44cd-9c97-d15e73d81329",
   "metadata": {},
   "outputs": [
    {
     "data": {
      "text/html": [
       "<div>\n",
       "<style scoped>\n",
       "    .dataframe tbody tr th:only-of-type {\n",
       "        vertical-align: middle;\n",
       "    }\n",
       "\n",
       "    .dataframe tbody tr th {\n",
       "        vertical-align: top;\n",
       "    }\n",
       "\n",
       "    .dataframe thead th {\n",
       "        text-align: right;\n",
       "    }\n",
       "</style>\n",
       "<table border=\"1\" class=\"dataframe\">\n",
       "  <thead>\n",
       "    <tr style=\"text-align: right;\">\n",
       "      <th></th>\n",
       "      <th>store</th>\n",
       "      <th>type</th>\n",
       "      <th>department</th>\n",
       "      <th>date</th>\n",
       "      <th>weekly_sales</th>\n",
       "      <th>is_holiday</th>\n",
       "      <th>temperature_c</th>\n",
       "      <th>fuel_price_usd_per_l</th>\n",
       "      <th>unemployment</th>\n",
       "    </tr>\n",
       "  </thead>\n",
       "  <tbody>\n",
       "    <tr>\n",
       "      <th>900</th>\n",
       "      <td>1</td>\n",
       "      <td>A</td>\n",
       "      <td>99</td>\n",
       "      <td>2012-10-05</td>\n",
       "      <td>635.00</td>\n",
       "      <td>False</td>\n",
       "      <td>20.305556</td>\n",
       "      <td>0.955511</td>\n",
       "      <td>6.573</td>\n",
       "    </tr>\n",
       "    <tr>\n",
       "      <th>1797</th>\n",
       "      <td>2</td>\n",
       "      <td>A</td>\n",
       "      <td>99</td>\n",
       "      <td>2012-10-05</td>\n",
       "      <td>595.00</td>\n",
       "      <td>False</td>\n",
       "      <td>21.261111</td>\n",
       "      <td>0.955511</td>\n",
       "      <td>6.170</td>\n",
       "    </tr>\n",
       "    <tr>\n",
       "      <th>2698</th>\n",
       "      <td>4</td>\n",
       "      <td>A</td>\n",
       "      <td>99</td>\n",
       "      <td>2012-10-05</td>\n",
       "      <td>490.00</td>\n",
       "      <td>False</td>\n",
       "      <td>17.261111</td>\n",
       "      <td>0.956303</td>\n",
       "      <td>3.879</td>\n",
       "    </tr>\n",
       "    <tr>\n",
       "      <th>3592</th>\n",
       "      <td>6</td>\n",
       "      <td>A</td>\n",
       "      <td>99</td>\n",
       "      <td>2012-10-05</td>\n",
       "      <td>440.00</td>\n",
       "      <td>False</td>\n",
       "      <td>21.577778</td>\n",
       "      <td>0.955511</td>\n",
       "      <td>5.329</td>\n",
       "    </tr>\n",
       "    <tr>\n",
       "      <th>4494</th>\n",
       "      <td>10</td>\n",
       "      <td>B</td>\n",
       "      <td>98</td>\n",
       "      <td>2011-01-07</td>\n",
       "      <td>36.36</td>\n",
       "      <td>False</td>\n",
       "      <td>6.350000</td>\n",
       "      <td>0.868334</td>\n",
       "      <td>8.744</td>\n",
       "    </tr>\n",
       "    <tr>\n",
       "      <th>5407</th>\n",
       "      <td>13</td>\n",
       "      <td>A</td>\n",
       "      <td>99</td>\n",
       "      <td>2012-10-05</td>\n",
       "      <td>1130.00</td>\n",
       "      <td>False</td>\n",
       "      <td>16.550000</td>\n",
       "      <td>1.007817</td>\n",
       "      <td>5.621</td>\n",
       "    </tr>\n",
       "    <tr>\n",
       "      <th>6292</th>\n",
       "      <td>14</td>\n",
       "      <td>A</td>\n",
       "      <td>99</td>\n",
       "      <td>2012-10-05</td>\n",
       "      <td>750.00</td>\n",
       "      <td>False</td>\n",
       "      <td>18.272222</td>\n",
       "      <td>1.052726</td>\n",
       "      <td>8.667</td>\n",
       "    </tr>\n",
       "    <tr>\n",
       "      <th>7198</th>\n",
       "      <td>19</td>\n",
       "      <td>A</td>\n",
       "      <td>99</td>\n",
       "      <td>2012-10-05</td>\n",
       "      <td>870.00</td>\n",
       "      <td>False</td>\n",
       "      <td>15.477778</td>\n",
       "      <td>1.096579</td>\n",
       "      <td>7.992</td>\n",
       "    </tr>\n",
       "    <tr>\n",
       "      <th>8108</th>\n",
       "      <td>20</td>\n",
       "      <td>A</td>\n",
       "      <td>99</td>\n",
       "      <td>2012-10-05</td>\n",
       "      <td>660.00</td>\n",
       "      <td>False</td>\n",
       "      <td>15.983333</td>\n",
       "      <td>1.052726</td>\n",
       "      <td>7.293</td>\n",
       "    </tr>\n",
       "    <tr>\n",
       "      <th>9008</th>\n",
       "      <td>27</td>\n",
       "      <td>A</td>\n",
       "      <td>99</td>\n",
       "      <td>2012-10-05</td>\n",
       "      <td>435.00</td>\n",
       "      <td>False</td>\n",
       "      <td>18.055556</td>\n",
       "      <td>1.096579</td>\n",
       "      <td>8.000</td>\n",
       "    </tr>\n",
       "    <tr>\n",
       "      <th>9898</th>\n",
       "      <td>31</td>\n",
       "      <td>A</td>\n",
       "      <td>99</td>\n",
       "      <td>2012-01-20</td>\n",
       "      <td>0.02</td>\n",
       "      <td>False</td>\n",
       "      <td>11.227778</td>\n",
       "      <td>0.863315</td>\n",
       "      <td>7.057</td>\n",
       "    </tr>\n",
       "    <tr>\n",
       "      <th>10773</th>\n",
       "      <td>39</td>\n",
       "      <td>A</td>\n",
       "      <td>99</td>\n",
       "      <td>2012-10-05</td>\n",
       "      <td>915.00</td>\n",
       "      <td>False</td>\n",
       "      <td>22.250000</td>\n",
       "      <td>0.955511</td>\n",
       "      <td>6.228</td>\n",
       "    </tr>\n",
       "  </tbody>\n",
       "</table>\n",
       "</div>"
      ],
      "text/plain": [
       "       store type  department        date  weekly_sales  is_holiday  \\\n",
       "900        1    A          99  2012-10-05        635.00       False   \n",
       "1797       2    A          99  2012-10-05        595.00       False   \n",
       "2698       4    A          99  2012-10-05        490.00       False   \n",
       "3592       6    A          99  2012-10-05        440.00       False   \n",
       "4494      10    B          98  2011-01-07         36.36       False   \n",
       "5407      13    A          99  2012-10-05       1130.00       False   \n",
       "6292      14    A          99  2012-10-05        750.00       False   \n",
       "7198      19    A          99  2012-10-05        870.00       False   \n",
       "8108      20    A          99  2012-10-05        660.00       False   \n",
       "9008      27    A          99  2012-10-05        435.00       False   \n",
       "9898      31    A          99  2012-01-20          0.02       False   \n",
       "10773     39    A          99  2012-10-05        915.00       False   \n",
       "\n",
       "       temperature_c  fuel_price_usd_per_l  unemployment  \n",
       "900        20.305556              0.955511         6.573  \n",
       "1797       21.261111              0.955511         6.170  \n",
       "2698       17.261111              0.956303         3.879  \n",
       "3592       21.577778              0.955511         5.329  \n",
       "4494        6.350000              0.868334         8.744  \n",
       "5407       16.550000              1.007817         5.621  \n",
       "6292       18.272222              1.052726         8.667  \n",
       "7198       15.477778              1.096579         7.992  \n",
       "8108       15.983333              1.052726         7.293  \n",
       "9008       18.055556              1.096579         8.000  \n",
       "9898       11.227778              0.863315         7.057  \n",
       "10773      22.250000              0.955511         6.228  "
      ]
     },
     "execution_count": 156,
     "metadata": {},
     "output_type": "execute_result"
    }
   ],
   "source": [
    "#droping the duplicates while variable = \"type\", and \"store\" has duplicated brand and keep the last value\n",
    "tipe_dan_toko = df_penjualan.drop_duplicates(subset=[\"type\", \"store\"], keep=\"last\")\n",
    "tipe_dan_toko"
   ]
  },
  {
   "cell_type": "markdown",
   "id": "dbb72291-f518-48c3-bca7-0cafea21ea71",
   "metadata": {},
   "source": [
    "## Grouping Summary Statistics"
   ]
  },
  {
   "cell_type": "code",
   "execution_count": 61,
   "id": "5eb30aab-8d5c-4df7-947b-9b12589aaebd",
   "metadata": {},
   "outputs": [
    {
     "data": {
      "text/plain": [
       "<bound method NDFrame._add_numeric_operations.<locals>.sum of 0        24924.50\n",
       "1        21827.90\n",
       "2        57258.43\n",
       "3        17413.94\n",
       "4        17558.09\n",
       "           ...   \n",
       "10769      895.00\n",
       "10770      350.00\n",
       "10771      450.00\n",
       "10772        0.06\n",
       "10773      915.00\n",
       "Name: weekly_sales, Length: 10774, dtype: float64>"
      ]
     },
     "execution_count": 61,
     "metadata": {},
     "output_type": "execute_result"
    }
   ],
   "source": [
    "#summary statistics calculation without groupby()\n",
    "penjualan_perminggu = df_penjualan[\"weekly_sales\"].sum\n",
    "penjualan_perminggu"
   ]
  },
  {
   "cell_type": "code",
   "execution_count": 53,
   "id": "641951e8-0b47-415f-9a6a-6329f5fd7b94",
   "metadata": {},
   "outputs": [
    {
     "data": {
      "text/plain": [
       "233716315.01"
      ]
     },
     "execution_count": 53,
     "metadata": {},
     "output_type": "execute_result"
    }
   ],
   "source": [
    "#subset untuk stores A dan kalkulasi total weekly sales tidak menggunakan groupby\n",
    "tipe_a = df_penjualan[df_penjualan[\"type\"] == \"A\" ] [\"weekly_sales\"].sum()\n",
    "tipe_a"
   ]
  },
  {
   "cell_type": "code",
   "execution_count": 54,
   "id": "8579405d-057e-4197-970d-db851b9ddb10",
   "metadata": {},
   "outputs": [
    {
     "data": {
      "text/plain": [
       "A    9872\n",
       "B     902\n",
       "Name: type, dtype: int64"
      ]
     },
     "execution_count": 54,
     "metadata": {},
     "output_type": "execute_result"
    }
   ],
   "source": [
    "##disini bukan termasuk gruping summary statistic namun untuk menghitung label Column \"type\" \n",
    "hitung_nilai_column_type = df_penjualan[\"type\"].value_counts()\n",
    "hitung_nilai_column_type\n"
   ]
  },
  {
   "cell_type": "code",
   "execution_count": 55,
   "id": "58d8410d-99bb-4a29-901d-3b62e1722a67",
   "metadata": {},
   "outputs": [
    {
     "data": {
      "text/plain": [
       "23178403.89"
      ]
     },
     "execution_count": 55,
     "metadata": {},
     "output_type": "execute_result"
    }
   ],
   "source": [
    "#subset untuk stores B dan kalkulasi total weekly sales tidak menggunakan groupby\n",
    "tipe_b = df_penjualan[df_penjualan[\"type\"] == \"B\" ] [\"weekly_sales\"].sum()\n",
    "tipe_b"
   ]
  },
  {
   "cell_type": "code",
   "execution_count": 56,
   "id": "11e7183f-5d89-4857-873c-146fc107f104",
   "metadata": {},
   "outputs": [
    {
     "data": {
      "text/plain": [
       "0.0"
      ]
     },
     "execution_count": 56,
     "metadata": {},
     "output_type": "execute_result"
    }
   ],
   "source": [
    "#subset untuk stores B dan kalkulasi total weekly sales tidak menggunakan groupby\n",
    "tipe_c = df_penjualan[df_penjualan[\"type\"] == \"C\" ] [\"weekly_sales\"].sum()\n",
    "tipe_c"
   ]
  },
  {
   "cell_type": "code",
   "execution_count": null,
   "id": "2effacca-b2d7-41ce-9c60-0ecff86c62af",
   "metadata": {},
   "outputs": [],
   "source": []
  },
  {
   "cell_type": "code",
   "execution_count": 71,
   "id": "3df0c293-641b-4994-ab97-8ae43e24bb4f",
   "metadata": {},
   "outputs": [
    {
     "data": {
      "text/plain": [
       "type\n",
       "A    2.337163e+08\n",
       "B    2.317840e+07\n",
       "Name: weekly_sales, dtype: float64"
      ]
     },
     "execution_count": 71,
     "metadata": {},
     "output_type": "execute_result"
    }
   ],
   "source": [
    "##kalkulasi weekly sales dengan menggunakan groupby\n",
    "\n",
    "sales_group_by = df_penjualan.groupby(\"type\")[\"weekly_sales\"].sum()\n",
    "sales_group_by"
   ]
  },
  {
   "cell_type": "code",
   "execution_count": 76,
   "id": "3872c71e-0a45-4299-8a45-2184e27eb6a9",
   "metadata": {},
   "outputs": [
    {
     "data": {
      "text/plain": [
       "type\n",
       "A    23674.667242\n",
       "B    25696.678370\n",
       "dtype: float64"
      ]
     },
     "execution_count": 76,
     "metadata": {},
     "output_type": "execute_result"
    }
   ],
   "source": [
    "proporsi_penjualan_groupby_type = sales_group_by / hitung_nilai_column_type\n",
    "proporsi_penjualan_groupby_type"
   ]
  },
  {
   "cell_type": "markdown",
   "id": "3cdf69e2-1357-4bd3-9800-0015cef27fde",
   "metadata": {},
   "source": [
    "## Summarizing multiple group of values"
   ]
  },
  {
   "cell_type": "code",
   "execution_count": 81,
   "id": "8e1c10c7-20c2-4711-8d90-3cafa6083a68",
   "metadata": {},
   "outputs": [
    {
     "data": {
      "text/html": [
       "<div>\n",
       "<style scoped>\n",
       "    .dataframe tbody tr th:only-of-type {\n",
       "        vertical-align: middle;\n",
       "    }\n",
       "\n",
       "    .dataframe tbody tr th {\n",
       "        vertical-align: top;\n",
       "    }\n",
       "\n",
       "    .dataframe thead th {\n",
       "        text-align: right;\n",
       "    }\n",
       "</style>\n",
       "<table border=\"1\" class=\"dataframe\">\n",
       "  <thead>\n",
       "    <tr style=\"text-align: right;\">\n",
       "      <th></th>\n",
       "      <th>amin</th>\n",
       "      <th>amax</th>\n",
       "      <th>mean</th>\n",
       "      <th>median</th>\n",
       "    </tr>\n",
       "    <tr>\n",
       "      <th>type</th>\n",
       "      <th></th>\n",
       "      <th></th>\n",
       "      <th></th>\n",
       "      <th></th>\n",
       "    </tr>\n",
       "  </thead>\n",
       "  <tbody>\n",
       "    <tr>\n",
       "      <th>A</th>\n",
       "      <td>-1098.0</td>\n",
       "      <td>293966.05</td>\n",
       "      <td>23674.667242</td>\n",
       "      <td>11943.92</td>\n",
       "    </tr>\n",
       "    <tr>\n",
       "      <th>B</th>\n",
       "      <td>-798.0</td>\n",
       "      <td>232558.51</td>\n",
       "      <td>25696.678370</td>\n",
       "      <td>13336.08</td>\n",
       "    </tr>\n",
       "  </tbody>\n",
       "</table>\n",
       "</div>"
      ],
      "text/plain": [
       "        amin       amax          mean    median\n",
       "type                                           \n",
       "A    -1098.0  293966.05  23674.667242  11943.92\n",
       "B     -798.0  232558.51  25696.678370  13336.08"
      ]
     },
     "execution_count": 81,
     "metadata": {},
     "output_type": "execute_result"
    }
   ],
   "source": [
    "# Untuk setiap toko, aggregat weekly sales dengan np.min, max, mean, and median\n",
    "statistik_penjualan = df_penjualan.groupby(\"type\")[\"weekly_sales\"].agg([np.min, np.max, np.mean, np.median])\n",
    "statistik_penjualan"
   ]
  },
  {
   "cell_type": "code",
   "execution_count": null,
   "id": "142a868b-3dea-4c4f-871e-c5ef0aca791d",
   "metadata": {},
   "outputs": [],
   "source": []
  }
 ],
 "metadata": {
  "kernelspec": {
   "display_name": "Python 3 (ipykernel)",
   "language": "python",
   "name": "python3"
  },
  "language_info": {
   "codemirror_mode": {
    "name": "ipython",
    "version": 3
   },
   "file_extension": ".py",
   "mimetype": "text/x-python",
   "name": "python",
   "nbconvert_exporter": "python",
   "pygments_lexer": "ipython3",
   "version": "3.10.0"
  }
 },
 "nbformat": 4,
 "nbformat_minor": 5
}
