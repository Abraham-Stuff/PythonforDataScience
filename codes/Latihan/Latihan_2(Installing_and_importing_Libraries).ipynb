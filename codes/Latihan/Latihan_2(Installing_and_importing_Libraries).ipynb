{
 "cells": [
  {
   "cell_type": "code",
   "execution_count": 3,
   "id": "d8e2f39e-17e4-47ad-82aa-99bd1bfcbce3",
   "metadata": {},
   "outputs": [
    {
     "name": "stdout",
     "output_type": "stream",
     "text": [
      "Defaulting to user installation because normal site-packages is not writeable\n",
      "Collecting seaborn\n",
      "  Downloading seaborn-0.11.2-py3-none-any.whl (292 kB)\n",
      "\u001b[2K     \u001b[90m━━━━━━━━━━━━━━━━━━━━━━━━━━━━━━━━━━━━━━━\u001b[0m \u001b[32m292.8/292.8 kB\u001b[0m \u001b[31m4.0 MB/s\u001b[0m eta \u001b[36m0:00:00\u001b[0ma \u001b[36m0:00:01\u001b[0m\n",
      "\u001b[?25hRequirement already satisfied: numpy>=1.15 in /Users/macbookpro2013_d/Library/Python/3.8/lib/python/site-packages (from seaborn) (1.23.1)\n",
      "Collecting scipy>=1.0\n",
      "  Downloading scipy-1.8.1-cp38-cp38-macosx_12_0_universal2.macosx_10_9_x86_64.whl (55.3 MB)\n",
      "\u001b[2K     \u001b[90m━━━━━━━━━━━━━━━━━━━━━━━━━━━━━━━━━━━━━━━━\u001b[0m \u001b[32m55.3/55.3 MB\u001b[0m \u001b[31m9.3 MB/s\u001b[0m eta \u001b[36m0:00:00\u001b[0m:00:01\u001b[0m00:01\u001b[0m\n",
      "\u001b[?25hRequirement already satisfied: pandas>=0.23 in /Users/macbookpro2013_d/Library/Python/3.8/lib/python/site-packages (from seaborn) (1.4.3)\n",
      "Collecting matplotlib>=2.2\n",
      "  Downloading matplotlib-3.5.2-cp38-cp38-macosx_10_9_x86_64.whl (7.3 MB)\n",
      "\u001b[2K     \u001b[90m━━━━━━━━━━━━━━━━━━━━━━━━━━━━━━━━━━━━━━━━\u001b[0m \u001b[32m7.3/7.3 MB\u001b[0m \u001b[31m10.6 MB/s\u001b[0m eta \u001b[36m0:00:00\u001b[0m00:01\u001b[0m00:01\u001b[0m\n",
      "\u001b[?25hCollecting pillow>=6.2.0\n",
      "  Downloading Pillow-9.2.0-cp38-cp38-macosx_10_10_x86_64.whl (3.1 MB)\n",
      "\u001b[2K     \u001b[90m━━━━━━━━━━━━━━━━━━━━━━━━━━━━━━━━━━━━━━━━\u001b[0m \u001b[32m3.1/3.1 MB\u001b[0m \u001b[31m9.9 MB/s\u001b[0m eta \u001b[36m0:00:00\u001b[0m:00:01\u001b[0m00:01\u001b[0m\n",
      "\u001b[?25hRequirement already satisfied: python-dateutil>=2.7 in /Users/macbookpro2013_d/Library/Python/3.8/lib/python/site-packages (from matplotlib>=2.2->seaborn) (2.8.2)\n",
      "Collecting kiwisolver>=1.0.1\n",
      "  Downloading kiwisolver-1.4.4-cp38-cp38-macosx_10_9_x86_64.whl (65 kB)\n",
      "\u001b[2K     \u001b[90m━━━━━━━━━━━━━━━━━━━━━━━━━━━━━━━━━━━━━━━━\u001b[0m \u001b[32m65.4/65.4 kB\u001b[0m \u001b[31m4.8 MB/s\u001b[0m eta \u001b[36m0:00:00\u001b[0m\n",
      "\u001b[?25hRequirement already satisfied: packaging>=20.0 in /Users/macbookpro2013_d/Library/Python/3.8/lib/python/site-packages (from matplotlib>=2.2->seaborn) (21.3)\n",
      "Collecting fonttools>=4.22.0\n",
      "  Downloading fonttools-4.34.4-py3-none-any.whl (944 kB)\n",
      "\u001b[2K     \u001b[90m━━━━━━━━━━━━━━━━━━━━━━━━━━━━━━━━━━━━━━━\u001b[0m \u001b[32m944.1/944.1 kB\u001b[0m \u001b[31m8.3 MB/s\u001b[0m eta \u001b[36m0:00:00\u001b[0m00:01\u001b[0m00:01\u001b[0m\n",
      "\u001b[?25hCollecting cycler>=0.10\n",
      "  Downloading cycler-0.11.0-py3-none-any.whl (6.4 kB)\n",
      "Requirement already satisfied: pyparsing>=2.2.1 in /Users/macbookpro2013_d/Library/Python/3.8/lib/python/site-packages (from matplotlib>=2.2->seaborn) (3.0.9)\n",
      "Requirement already satisfied: pytz>=2020.1 in /Users/macbookpro2013_d/Library/Python/3.8/lib/python/site-packages (from pandas>=0.23->seaborn) (2022.1)\n",
      "Requirement already satisfied: six>=1.5 in /Library/Developer/CommandLineTools/Library/Frameworks/Python3.framework/Versions/3.8/lib/python3.8/site-packages (from python-dateutil>=2.7->matplotlib>=2.2->seaborn) (1.15.0)\n",
      "Installing collected packages: scipy, pillow, kiwisolver, fonttools, cycler, matplotlib, seaborn\n",
      "\u001b[33m  WARNING: The scripts fonttools, pyftmerge, pyftsubset and ttx are installed in '/Users/macbookpro2013_d/Library/Python/3.8/bin' which is not on PATH.\n",
      "  Consider adding this directory to PATH or, if you prefer to suppress this warning, use --no-warn-script-location.\u001b[0m\u001b[33m\n",
      "\u001b[0mSuccessfully installed cycler-0.11.0 fonttools-4.34.4 kiwisolver-1.4.4 matplotlib-3.5.2 pillow-9.2.0 scipy-1.8.1 seaborn-0.11.2\n",
      "\n",
      "\u001b[1m[\u001b[0m\u001b[34;49mnotice\u001b[0m\u001b[1;39;49m]\u001b[0m\u001b[39;49m A new release of pip available: \u001b[0m\u001b[31;49m19.2.3\u001b[0m\u001b[39;49m -> \u001b[0m\u001b[32;49m22.2\u001b[0m\n",
      "\u001b[1m[\u001b[0m\u001b[34;49mnotice\u001b[0m\u001b[1;39;49m]\u001b[0m\u001b[39;49m To update, run: \u001b[0m\u001b[32;49m/Library/Developer/CommandLineTools/usr/bin/python3 -m pip install --upgrade pip\u001b[0m\n"
     ]
    }
   ],
   "source": [
    "!pip install seaborn"
   ]
  },
  {
   "cell_type": "code",
   "execution_count": 1,
   "id": "c35c7435-eece-4f15-bdbf-746f7eb91111",
   "metadata": {},
   "outputs": [],
   "source": [
    "#import numpy library\n",
    "import numpy as np"
   ]
  },
  {
   "cell_type": "code",
   "execution_count": 2,
   "id": "9b0774f3-91c2-4b68-9bf0-22b569fbf98f",
   "metadata": {},
   "outputs": [
    {
     "ename": "ModuleNotFoundError",
     "evalue": "No module named 'seaborn'",
     "output_type": "error",
     "traceback": [
      "\u001b[0;31m---------------------------------------------------------------------------\u001b[0m",
      "\u001b[0;31mModuleNotFoundError\u001b[0m                       Traceback (most recent call last)",
      "Input \u001b[0;32mIn [2]\u001b[0m, in \u001b[0;36m<cell line: 1>\u001b[0;34m()\u001b[0m\n\u001b[0;32m----> 1\u001b[0m \u001b[38;5;28;01mimport\u001b[39;00m \u001b[38;5;21;01mseaborn\u001b[39;00m \u001b[38;5;28;01mas\u001b[39;00m \u001b[38;5;21;01msns\u001b[39;00m\n",
      "\u001b[0;31mModuleNotFoundError\u001b[0m: No module named 'seaborn'"
     ]
    }
   ],
   "source": [
    "import seaborn as sns"
   ]
  },
  {
   "cell_type": "code",
   "execution_count": 7,
   "id": "f6a9c15c-463d-4d43-b9d9-8b3da57d2521",
   "metadata": {},
   "outputs": [
    {
     "name": "stdout",
     "output_type": "stream",
     "text": [
      "[1 2 3]\n"
     ]
    }
   ],
   "source": [
    "#array np\n",
    "np_array = np.array([1, 2, 3])\n",
    "print(np_array)"
   ]
  },
  {
   "cell_type": "markdown",
   "id": "af8e3232-beb3-4edd-a154-3c2db5710abd",
   "metadata": {},
   "source": [
    "## Python Collection (List)"
   ]
  },
  {
   "cell_type": "code",
   "execution_count": 8,
   "id": "a0d5cd71-355f-4ec0-8b89-faece5c3d2b8",
   "metadata": {},
   "outputs": [
    {
     "name": "stdout",
     "output_type": "stream",
     "text": [
      "['Abraham', 30, 'Kristian', 20]\n"
     ]
    }
   ],
   "source": [
    "#Listdasar\n",
    "name_age = [\"Abraham\", 30, \"Kristian\", 20]\n",
    "print(name_age)"
   ]
  },
  {
   "cell_type": "code",
   "execution_count": 9,
   "id": "d06240d6-1cbb-4303-ad6f-649d6105c73f",
   "metadata": {},
   "outputs": [
    {
     "name": "stdout",
     "output_type": "stream",
     "text": [
      "[['Abraham', 30], ['Kristian', 20], ['Adriana', 40], ['Samuel', 50]]\n"
     ]
    }
   ],
   "source": [
    "#ListofList (Sub-List)\n",
    "name_age=[[\"Abraham\", 30],\n",
    "          [\"Kristian\", 20],\n",
    "          [\"Adriana\", 40],\n",
    "          [\"Samuel\", 50]]\n",
    "print(name_age)"
   ]
  },
  {
   "cell_type": "code",
   "execution_count": 4,
   "id": "d6559001-99ba-4290-a939-e9236846333a",
   "metadata": {},
   "outputs": [
    {
     "name": "stdout",
     "output_type": "stream",
     "text": [
      "[16.1, 15.2, 13.2, 12.1]\n",
      "['dapur', 16.1, 'ruangan tamu', 15.2, 'kamar tidur', 13.2, 'kamar mandi', 12.1]\n"
     ]
    }
   ],
   "source": [
    "#membuat list dari variabel\n",
    "\n",
    "#luas ruangan\n",
    "kitchen = 16.1\n",
    "livingroom = 15.2\n",
    "bedroom = 13.2\n",
    "bathroom = 12.1\n",
    "\n",
    "ruangan_rumah = [kitchen, livingroom, bedroom, bathroom]\n",
    "print(ruangan_rumah)\n",
    "\n",
    "\n",
    "#memasukkan judul ke setiap luas ruangan\n",
    "ruangan_rumah = [\"dapur\", kitchen, \n",
    "                 \"ruangan tamu\", livingroom, \n",
    "                 \"kamar tidur\", bedroom, \n",
    "                 \"kamar mandi\", bathroom]\n",
    "print(ruangan_rumah)"
   ]
  },
  {
   "cell_type": "markdown",
   "id": "caa938d6-3f08-4923-beec-dcc2d1e371d6",
   "metadata": {},
   "source": [
    "## Subset dan Kalkulasi List"
   ]
  },
  {
   "cell_type": "code",
   "execution_count": 8,
   "id": "b9513e99-22e1-4b98-98e6-fc909bcdb751",
   "metadata": {},
   "outputs": [
    {
     "data": {
      "text/plain": [
       "'Sikorsky'"
      ]
     },
     "execution_count": 8,
     "metadata": {},
     "output_type": "execute_result"
    }
   ],
   "source": [
    "#subseting list sederhana\n",
    "\n",
    "age_name = [\"abraham\", 26, \"Sikorsky\", 23, \"Michelle\", 25, \"Ruben\", 40]\n",
    "\n",
    "#memilih sikorsky\n",
    "age_name[2]"
   ]
  },
  {
   "cell_type": "code",
   "execution_count": 12,
   "id": "2a92e8fb-44f1-452b-a935-dac8b9901dcc",
   "metadata": {},
   "outputs": [
    {
     "data": {
      "text/plain": [
       "'Michelle'"
      ]
     },
     "execution_count": 12,
     "metadata": {},
     "output_type": "execute_result"
    }
   ],
   "source": [
    "#subseting dari index yang paling terakhir\n",
    "\n",
    "#memilih michelle\n",
    "age_name[-4]\n",
    "\n",
    "#index -4 artinya adalah urutan nomer 4 dari belakang begitu juga -1 "
   ]
  },
  {
   "cell_type": "markdown",
   "id": "a34da8e3-e25b-4325-b6f1-35939b83a0bc",
   "metadata": {},
   "source": [
    "## List Clicing"
   ]
  },
  {
   "cell_type": "code",
   "execution_count": 33,
   "id": "dca499d5-8d5d-4020-8550-649d50d81b04",
   "metadata": {},
   "outputs": [
    {
     "data": {
      "text/plain": [
       "['abraham', 26]"
      ]
     },
     "execution_count": 33,
     "metadata": {},
     "output_type": "execute_result"
    }
   ],
   "source": [
    "##Slicing adalah sebuah metode ketika hendak memilih multiple values yang lokasi indexnya \n",
    "##berurutan pada kumpulan data ada\n",
    "\n",
    "age_name = [\"abraham\", 26, \"Sikorsky\", 23, \"Michelle\", 25, \"Ruben\", 40]\n",
    "#mengambil index urutan ke 3 dan 6\n",
    "age_name[0:2]\n",
    "##yang harus diperhatikan dalam melalukan slicing:\n",
    "    #urutan index terkahir akan dikurangin 1 dalam menampilkan index"
   ]
  },
  {
   "cell_type": "code",
   "execution_count": 29,
   "id": "7dedfc8f-e8e8-453a-9c09-c650cae9688c",
   "metadata": {},
   "outputs": [
    {
     "data": {
      "text/plain": [
       "['Ruben', 40]"
      ]
     },
     "execution_count": 29,
     "metadata": {},
     "output_type": "execute_result"
    }
   ],
   "source": [
    "age_name[6:8] #contoh ke dua dalam slicing"
   ]
  },
  {
   "cell_type": "code",
   "execution_count": 34,
   "id": "8933a2b1-6b54-4871-8c0b-0e591578d64c",
   "metadata": {},
   "outputs": [
    {
     "data": {
      "text/plain": [
       "[23, 'Michelle', 25, 'Ruben', 40]"
      ]
     },
     "execution_count": 34,
     "metadata": {},
     "output_type": "execute_result"
    }
   ],
   "source": [
    "#Slicing tanpa Ending\n",
    "age_name[3:] #akan memunculkan nilai yang pada index ke 3 hingga terakhir"
   ]
  },
  {
   "cell_type": "code",
   "execution_count": 36,
   "id": "5a8b65c5-f3c4-44a8-8721-c69b0d64c78f",
   "metadata": {},
   "outputs": [
    {
     "data": {
      "text/plain": [
       "['abraham', 26, 'Sikorsky']"
      ]
     },
     "execution_count": 36,
     "metadata": {},
     "output_type": "execute_result"
    }
   ],
   "source": [
    "#Slicing tanpa Start\n",
    "age_name[:3] #akan memunculkan nilai yang pada index ke 0 hingga ke index ke 3"
   ]
  },
  {
   "cell_type": "markdown",
   "id": "9fa6a660-6485-4207-973d-bb575782685a",
   "metadata": {},
   "source": [
    "## Calculating List"
   ]
  },
  {
   "cell_type": "code",
   "execution_count": 42,
   "id": "71a7063d-ca2b-4e99-9c2d-f48f34bf6601",
   "metadata": {},
   "outputs": [
    {
     "name": "stdout",
     "output_type": "stream",
     "text": [
      "25.0\n"
     ]
    }
   ],
   "source": [
    "#list dari luas masing - masing ruangan dalam m2\n",
    "luas_ruangan = ['dapur', 19.0,\n",
    "                'ruang tamu', 20.0,\n",
    "                'kamar tidur', 10,\n",
    "                'kamar mandi', 5]\n",
    "\n",
    "#hitung luas service area dalam m2\n",
    "service_area = luas_ruangan[3] + luas_ruangan[7]\n",
    "print(service_area)"
   ]
  },
  {
   "cell_type": "markdown",
   "id": "3feebf87-2856-4218-aa93-9b9931fa80a5",
   "metadata": {},
   "source": [
    "## Manipulating List"
   ]
  },
  {
   "cell_type": "code",
   "execution_count": 63,
   "id": "f5d82b4e-590e-4543-833f-9ffcbc096ed2",
   "metadata": {},
   "outputs": [
    {
     "name": "stdout",
     "output_type": "stream",
     "text": [
      "['Timothy', 8.9, 'Andreas', 9.1, 'Kruzzer', 8.6, 'Abraham', 9.8]\n"
     ]
    }
   ],
   "source": [
    "#Merubah Element dalam list(Change List Elements)\n",
    "\n",
    "##change list elements adalah sebuah metode yang dapat digunakan untuk memperbaiki(correcting)\n",
    "##dan menggantin(replacing) element atau value yang ada dalam list\n",
    "\n",
    "#varibel_nama[index] = nilai yang baru\n",
    "\n",
    "student_grade =[\"Timothy\", 8.9, \"Andreas\", 9.1, \"Kruzzer\", 8.6, \"Abraham\", 7.9]\n",
    "#ganti nilai abraham menjadi 9.8\n",
    "student_grade[7] = 9.8\n",
    "print(student_grade)\n"
   ]
  },
  {
   "cell_type": "code",
   "execution_count": 64,
   "id": "a75e42df-9786-455b-9b45-4a74e713330a",
   "metadata": {},
   "outputs": [
    {
     "name": "stdout",
     "output_type": "stream",
     "text": [
      "['Timothy', 8.9, 'Andreas Tarigan', 8.8, 'Kruzzer', 8.6, 'Abraham', 9.8]\n"
     ]
    }
   ],
   "source": [
    "#Change Multiple List Elements\n",
    "student_grade[2:4]= \"Andreas Tarigan\", 8.8\n",
    "print(student_grade)"
   ]
  },
  {
   "cell_type": "code",
   "execution_count": 65,
   "id": "3d4c28bc-f995-47db-b91b-2fe277b067c5",
   "metadata": {},
   "outputs": [
    {
     "name": "stdout",
     "output_type": "stream",
     "text": [
      "['Timothy', 8.9, 'Andreas Tarigan', 8.8, 'Kruzzer', 8.6, 'Abraham', 9.8, 'Combo', 9.5]\n"
     ]
    }
   ],
   "source": [
    "#Extending element list (menambahkan element kedalam list)\n",
    "total_student = student_grade + [\"Combo\", 9.5]\n",
    "print(total_student)"
   ]
  },
  {
   "cell_type": "code",
   "execution_count": 66,
   "id": "655cf5bb-a1b8-4791-a317-33caf5a1b0ea",
   "metadata": {},
   "outputs": [
    {
     "name": "stdout",
     "output_type": "stream",
     "text": [
      "['Andreas Tarigan', 8.8, 'Kruzzer', 8.6, 'Abraham', 9.8]\n"
     ]
    }
   ],
   "source": [
    "#Removing List Element(Menghapus List dalam Element)\n",
    "del(student_grade[0:2])\n",
    "print(student_grade)"
   ]
  },
  {
   "cell_type": "code",
   "execution_count": 68,
   "id": "82a6a7a6-697f-4ef5-9b89-5cb4a3e745b5",
   "metadata": {},
   "outputs": [
    {
     "name": "stdout",
     "output_type": "stream",
     "text": [
      "[1, 2, 3, 4, 5, 6, 7, 8, 9, 10]\n"
     ]
    }
   ],
   "source": [
    "##cara kerja operator aritmatika dengan List\n",
    "##untuk menggabungkan 2 list\n",
    "list_pertama = ([1, 2, 3, 4, 5])\n",
    "list_kedua   = ([6, 7, 8, 9, 10])\n",
    "\n",
    "list_gabungan = list_pertama + list_kedua\n",
    "print(list_gabungan)"
   ]
  },
  {
   "cell_type": "code",
   "execution_count": null,
   "id": "f8c4543a-aaa3-4159-9d0d-5cb53051bcd6",
   "metadata": {},
   "outputs": [],
   "source": []
  }
 ],
 "metadata": {
  "kernelspec": {
   "display_name": "Python 3 (ipykernel)",
   "language": "python",
   "name": "python3"
  },
  "language_info": {
   "codemirror_mode": {
    "name": "ipython",
    "version": 3
   },
   "file_extension": ".py",
   "mimetype": "text/x-python",
   "name": "python",
   "nbconvert_exporter": "python",
   "pygments_lexer": "ipython3",
   "version": "3.8.2"
  }
 },
 "nbformat": 4,
 "nbformat_minor": 5
}
