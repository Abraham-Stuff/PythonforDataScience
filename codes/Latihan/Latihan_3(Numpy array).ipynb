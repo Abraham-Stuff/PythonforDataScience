{
 "cells": [
  {
   "cell_type": "markdown",
   "id": "fd93b165-ab0b-4d8e-a8dc-ca71432ef2a1",
   "metadata": {},
   "source": [
    "## Numpy array (What is Numpy array)"
   ]
  },
  {
   "cell_type": "code",
   "execution_count": 3,
   "id": "d986fbd5-3eda-4a2b-b0ec-f042002ae437",
   "metadata": {},
   "outputs": [
    {
     "name": "stdout",
     "output_type": "stream",
     "text": [
      "WARNING: pip is being invoked by an old script wrapper. This will fail in a future version of pip.\n",
      "Please see https://github.com/pypa/pip/issues/5599 for advice on fixing the underlying issue.\n",
      "To avoid this problem you can invoke Python with '-m pip' instead of running pip directly.\n",
      "Defaulting to user installation because normal site-packages is not writeable\n",
      "Requirement already satisfied: numpy in /Users/macbookpro2013/Library/Python/3.8/lib/python/site-packages (1.22.3)\n"
     ]
    }
   ],
   "source": [
    "#install numpy package\n",
    "!pip3 install numpy"
   ]
  },
  {
   "cell_type": "code",
   "execution_count": 4,
   "id": "65580e68-50d1-4919-baa0-16b042d4a62c",
   "metadata": {},
   "outputs": [],
   "source": [
    "#import numpy as np\n",
    "import numpy as np"
   ]
  },
  {
   "cell_type": "markdown",
   "id": "6483faa6-79b5-4ac5-96ba-e1f7ad374913",
   "metadata": {},
   "source": [
    "## Creating Numpy array"
   ]
  },
  {
   "cell_type": "code",
   "execution_count": 7,
   "id": "1d30077b-9e32-45dc-9ab2-131e5494346f",
   "metadata": {},
   "outputs": [
    {
     "name": "stdout",
     "output_type": "stream",
     "text": [
      "[17.77777778 19.53125    20.76124567 25.71166208 24.22145329 17.7154195 ]\n"
     ]
    }
   ],
   "source": [
    "import numpy as np\n",
    "\n",
    "#tinggi badan\n",
    "tinggi_badan = np.array([1.50, 1.60, 1.70, 1.65, 1.70, 1.68])\n",
    "#berat badan\n",
    "berat_badan = np.array([40, 50, 60, 70, 70, 50])\n",
    "\n",
    "#menghitung BMI (Boddy Mass Index)\n",
    "BMI = berat_badan / tinggi_badan ** 2\n",
    "print(BMI)"
   ]
  },
  {
   "cell_type": "code",
   "execution_count": 8,
   "id": "f25611a5-a2ef-44bd-8529-cce83766089d",
   "metadata": {},
   "outputs": [
    {
     "data": {
      "text/plain": [
       "array(['Saya', '100', 'True'], dtype='<U21')"
      ]
     },
     "execution_count": 8,
     "metadata": {},
     "output_type": "execute_result"
    }
   ],
   "source": [
    "#numpy array limitations\n",
    "np.array([\"Saya\", 100, True])"
   ]
  },
  {
   "cell_type": "code",
   "execution_count": 17,
   "id": "dd7972e7-64f4-4bae-a617-d4230f6ebb46",
   "metadata": {},
   "outputs": [
    {
     "name": "stdout",
     "output_type": "stream",
     "text": [
      "[11000 43000 54000 25000]\n"
     ]
    }
   ],
   "source": [
    "import numpy as np\n",
    "\n",
    "#menjumlahkan dua array berikut\n",
    "jajan_anak      = np.array([1000, 3000, 4000, 5000])\n",
    "belanja_makanan = np.array([10000, 40000, 50000, 20000])\n",
    "\n",
    "pengeluaran_harian = jajan_anak + belanja_makanan\n",
    "print(pengeluaran_harian)"
   ]
  },
  {
   "cell_type": "code",
   "execution_count": 18,
   "id": "9a1077c9-a32f-4c6d-bc78-86e9f788f51b",
   "metadata": {},
   "outputs": [
    {
     "name": "stdout",
     "output_type": "stream",
     "text": [
      "[ 330000 1290000 1620000  750000]\n"
     ]
    }
   ],
   "source": [
    "#hasilkan pegeluaran harian perbulan\n",
    "pengeluaran_bulanan = pengeluaran_harian * 30\n",
    "print(pengeluaran_bulanan)"
   ]
  },
  {
   "cell_type": "code",
   "execution_count": 21,
   "id": "cf3aa620-f74b-46e4-a7ea-327cbc97939e",
   "metadata": {},
   "outputs": [
    {
     "name": "stdout",
     "output_type": "stream",
     "text": [
      "[ 82500. 322500. 405000. 187500.]\n"
     ]
    }
   ],
   "source": [
    "#hasilkan pengeluaran per minggu\n",
    "pengeluaran_mingguan = pengeluaran_bulanan / 4\n",
    "print(pengeluaran_mingguan)"
   ]
  },
  {
   "cell_type": "markdown",
   "id": "5b9b3415-1f9c-485f-95f3-7ff5bb6caed6",
   "metadata": {},
   "source": [
    "## Subsetting Numpy array"
   ]
  },
  {
   "cell_type": "markdown",
   "id": "e5595055-0cbb-48ef-893a-df41bcd2314f",
   "metadata": {},
   "source": [
    "Subsetting NumPy array dengan [] Square Brackets"
   ]
  },
  {
   "cell_type": "code",
   "execution_count": 30,
   "id": "07d7ac3f-f270-41cd-a1ff-3b5364c7a445",
   "metadata": {},
   "outputs": [
    {
     "data": {
      "text/plain": [
       "array([1.8 , 1.65])"
      ]
     },
     "execution_count": 30,
     "metadata": {},
     "output_type": "execute_result"
    }
   ],
   "source": [
    "#tinggi badan pasien dalam (m)\n",
    "tinggi_badan = np.array([1.70, 1.80, 1.65, 1.58, 1.89])\n",
    "#pilih element index pertama dan ketiga\n",
    "tinggi_badan[1:3]"
   ]
  },
  {
   "cell_type": "markdown",
   "id": "70a01e97-6cf2-4e98-ace0-d9ace4e9e456",
   "metadata": {},
   "source": [
    "Subsetting dengan comparison operatos Hasilnya Boolean(Logic)"
   ]
  },
  {
   "cell_type": "code",
   "execution_count": 33,
   "id": "bef02f12-8b32-4405-9fa4-8791555c0356",
   "metadata": {},
   "outputs": [
    {
     "name": "stdout",
     "output_type": "stream",
     "text": [
      "[False False  True  True False]\n"
     ]
    }
   ],
   "source": [
    "#berat badan pasien dalam (kg)\n",
    "berat_badan = np.array([50, 70, 88, 90, 65])\n",
    "pasien_obesitas = berat_badan > 75\n",
    "print(pasien_obesitas)"
   ]
  },
  {
   "cell_type": "markdown",
   "id": "b09a3560-6b19-4278-8fe4-3475b9d9b7cf",
   "metadata": {},
   "source": [
    "## Numpy Multidimensional Array"
   ]
  },
  {
   "cell_type": "markdown",
   "id": "13d74b7f-caab-482a-b02e-2123bd7d60fb",
   "metadata": {},
   "source": [
    "Perbedaan dan persamaan dasar antara 1D NumPy array dan 2D NumPy array.\n"
   ]
  },
  {
   "cell_type": "code",
   "execution_count": 34,
   "id": "1a89b8fc-e2ff-4c03-8816-3298873119fc",
   "metadata": {},
   "outputs": [],
   "source": [
    "#1(Satu) Dimensional Array\n",
    "    ##Tidak Memiliki Kolom\n",
    "    ##Salah satu cara membuat 1D NumPy array yaitu dengan 1 list\n",
    "    ##Hanya bisa terdiri dari 1 tipe data\n",
    "    \n",
    "#2(Dua) Dimensional Array\n",
    "    ##Bisa memiliki Kolom\n",
    "    ##Salah satu cara membuat 2D NumPy array yaitu dengan list of list\n",
    "    ##Hanya bisa terdiri dari 1 tipe data"
   ]
  },
  {
   "cell_type": "code",
   "execution_count": 39,
   "id": "08cf81b4-d9d2-498b-95e7-1157fe2c18fe",
   "metadata": {},
   "outputs": [
    {
     "data": {
      "text/plain": [
       "(5, 2)"
      ]
     },
     "execution_count": 39,
     "metadata": {},
     "output_type": "execute_result"
    }
   ],
   "source": [
    "#membuat 2D array tim_basket dengan a List of List\n",
    "tim_basket = [[180, 68.4],\n",
    "              [190, 75],\n",
    "              [183, 65.1],\n",
    "              [186, 77.3],\n",
    "              [198, 85.2]]\n",
    "\n",
    "#create a 2D NumPy array from tim_basket: np_tim_basket\n",
    "np_tim_basket = np.array(tim_basket)\n",
    "#print out the shape of np_tim_basket\n",
    "np_tim_basket.shape\n",
    "\n",
    "#5 -> adalah jumlah baris(Row)\n",
    "#2 -> adalah jumlah kolom(Column)"
   ]
  },
  {
   "cell_type": "markdown",
   "id": "7d465f0f-8c05-4122-bd82-6212fcd8b092",
   "metadata": {},
   "source": [
    "## Calculating Numpy Array (Kalkulasi Numpy array)"
   ]
  },
  {
   "cell_type": "code",
   "execution_count": 97,
   "id": "d558a753-2a55-4f56-977e-6063cb9a839b",
   "metadata": {},
   "outputs": [],
   "source": [
    "#2D NumPy array : tinggi bada(cm), berat badan(kg)\n",
    "tim_basket = np.array([[300, 68.4],\n",
    "                       [190, 75],\n",
    "                       [113, 65.1],\n",
    "                       [186, 77.3],\n",
    "                       [198, 85.2]])"
   ]
  },
  {
   "cell_type": "code",
   "execution_count": 98,
   "id": "0286d874-386e-4412-9afb-a16595455751",
   "metadata": {},
   "outputs": [
    {
     "name": "stdout",
     "output_type": "stream",
     "text": [
      "[3.   1.9  1.13 1.86 1.98]\n"
     ]
    }
   ],
   "source": [
    "#rubah tinggi badan ke satuan meter(m)\n",
    "tinggi_meter = tim_basket[:, 0] / 100\n",
    "print(tinggi_meter)"
   ]
  },
  {
   "cell_type": "code",
   "execution_count": 100,
   "id": "93bef4cf-e22c-4249-a564-55bcf891234d",
   "metadata": {},
   "outputs": [
    {
     "name": "stdout",
     "output_type": "stream",
     "text": [
      "Tinggi dalam Meter dari index ke 0 hingga ke 3 : [3.   1.9  1.13]\n",
      "Rata - Rata tinggi pemain dari index ke 0 hingga ke 3 : 2.0100000000000002\n",
      "Nilai tengah tinggi pemain dari index ke 0 hingga ke 3 : 1.9\n"
     ]
    },
    {
     "data": {
      "text/plain": [
       "0.7673764830033996"
      ]
     },
     "execution_count": 100,
     "metadata": {},
     "output_type": "execute_result"
    }
   ],
   "source": [
    "#rubah tinggi badan index ke 0 hingga index ke 3\n",
    "tinggi_meter = tim_basket[0:3:, 0] / 100\n",
    "print(\"Tinggi dalam Meter dari index ke 0 hingga ke 3 :\", tinggi_meter)\n",
    "#hitung rata rata tinggi pemain dari index ke 0 hingga ke 3\n",
    "mean = np.mean(tinggi_meter)\n",
    "print(\"Rata - Rata tinggi pemain dari index ke 0 hingga ke 3 :\", mean)\n",
    "#hitung median(nilai tengah) dari index ke 0 hingga ke 3\n",
    "median = np.median(tinggi_meter)\n",
    "print(\"Nilai tengah tinggi pemain dari index ke 0 hingga ke 3 :\", median)\n",
    "np.std(tinggi_meter)"
   ]
  },
  {
   "cell_type": "code",
   "execution_count": null,
   "id": "780554a9-9d2d-4ac3-9922-e5a19df46a2a",
   "metadata": {},
   "outputs": [],
   "source": []
  }
 ],
 "metadata": {
  "kernelspec": {
   "display_name": "Python 3 (ipykernel)",
   "language": "python",
   "name": "python3"
  },
  "language_info": {
   "codemirror_mode": {
    "name": "ipython",
    "version": 3
   },
   "file_extension": ".py",
   "mimetype": "text/x-python",
   "name": "python",
   "nbconvert_exporter": "python",
   "pygments_lexer": "ipython3",
   "version": "3.8.2"
  }
 },
 "nbformat": 4,
 "nbformat_minor": 5
}
