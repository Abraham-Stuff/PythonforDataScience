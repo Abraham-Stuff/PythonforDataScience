{
 "cells": [
  {
   "cell_type": "code",
   "execution_count": 1,
   "id": "bcad9e92-2941-4c72-bd19-29dc56c61e35",
   "metadata": {},
   "outputs": [],
   "source": [
    "## for loop"
   ]
  },
  {
   "cell_type": "code",
   "execution_count": 8,
   "id": "31c7b54c-9eb7-4fef-9cc1-d31fa11960cb",
   "metadata": {},
   "outputs": [
    {
     "name": "stdout",
     "output_type": "stream",
     "text": [
      "79.9\n",
      "89.1\n",
      "82.2\n",
      "50.2\n",
      "65.9\n"
     ]
    }
   ],
   "source": [
    "patient_bmi = [79.9, 89.1, 82.2, 50.2, 65.9]\n",
    "\n",
    "for bmi in patient_bmi:\n",
    "    print(bmi)"
   ]
  },
  {
   "cell_type": "code",
   "execution_count": 14,
   "id": "c9a45f0b-c018-46e7-8a0c-f59cae7dba8a",
   "metadata": {},
   "outputs": [
    {
     "name": "stdout",
     "output_type": "stream",
     "text": [
      "patient 1 : 79.9\n",
      "patient 2 : 89.1\n",
      "patient 3 : 82.2\n",
      "patient 4 : 50.2\n",
      "patient 5 : 65.9\n"
     ]
    }
   ],
   "source": [
    "## for loop over list\n",
    "## showing the patient index from index 1\n",
    "for index, bmi in enumerate(patient_bmi):\n",
    "    print(\"patient \" + str(index + 1) + \" : \"+ str(bmi))"
   ]
  },
  {
   "cell_type": "code",
   "execution_count": 17,
   "id": "71c47bd0-c3d3-4747-a848-a5eba76383d7",
   "metadata": {},
   "outputs": [
    {
     "name": "stdout",
     "output_type": "stream",
     "text": [
      "luas teras adalah 11.25 m2\n",
      "luas dapur adalah 18.0 m2\n",
      "luas ruang tamu adalah 20.0 m2\n",
      "luas kamar mandi adalah 9.5 m2\n"
     ]
    }
   ],
   "source": [
    "##loops over list of lists\n",
    "## room of list of lists\n",
    "\n",
    "rooms = [[\"teras\", 11.25],\n",
    "         [\"dapur\", 18.0],\n",
    "         [\"ruang tamu\", 20.0],\n",
    "         [\"kamar mandi\", 9.50]]\n",
    "\n",
    "## creating for loop untuk masing - masing ruangan\n",
    "for x in rooms:\n",
    "    print(\"luas \" + x[0] + \" adalah \" + str(x[1]) + \" m2\")\n",
    "             "
   ]
  },
  {
   "cell_type": "code",
   "execution_count": 25,
   "id": "0eb0a2a6-da52-4924-82a3-3807482ca3ba",
   "metadata": {},
   "outputs": [
    {
     "name": "stdout",
     "output_type": "stream",
     "text": [
      "21.555 kg\n",
      "18.777 kg\n",
      "25.799 kg\n",
      "22.772 kg\n",
      "78.111 kg\n",
      "23.231 kg\n"
     ]
    }
   ],
   "source": [
    "## loop over multidimension NumPy array\n",
    "\n",
    "import numpy as np \n",
    "BMI = np.array([[21.555, 18.777, 25.799], [22.772, 78.111, 23.231]])\n",
    "\n",
    "for x in np.nditer(BMI):\n",
    "    print(str(x) + \" kg\")"
   ]
  },
  {
   "cell_type": "markdown",
   "id": "8749a4e9-4182-4cf2-b482-5c5d38fbcde0",
   "metadata": {},
   "source": [
    "## Function"
   ]
  },
  {
   "cell_type": "code",
   "execution_count": 26,
   "id": "8a34d86c-eb63-4fbe-b5ad-3a6fa94a08ad",
   "metadata": {},
   "outputs": [],
   "source": [
    "def hallo_function():\n",
    "    print(\"Hallo, my name is Abraham\")"
   ]
  },
  {
   "cell_type": "code",
   "execution_count": 27,
   "id": "8353bc06-de2c-4ef7-a824-6b4be46e11b2",
   "metadata": {},
   "outputs": [
    {
     "name": "stdout",
     "output_type": "stream",
     "text": [
      "Hallo, my name is Abraham\n"
     ]
    }
   ],
   "source": [
    "hallo_function()"
   ]
  },
  {
   "cell_type": "code",
   "execution_count": 31,
   "id": "857e294f-bdf3-421c-bd78-77e69ab4c213",
   "metadata": {},
   "outputs": [],
   "source": [
    "def sum_function(x, y):\n",
    "    return x + y\n"
   ]
  },
  {
   "cell_type": "code",
   "execution_count": 32,
   "id": "e6841461-af7e-48a1-b177-d3c666355289",
   "metadata": {},
   "outputs": [],
   "source": [
    "x = 2 \n",
    "y = 2 "
   ]
  },
  {
   "cell_type": "code",
   "execution_count": 33,
   "id": "bd658db0-b785-4b4a-ae09-24731585619b",
   "metadata": {},
   "outputs": [
    {
     "data": {
      "text/plain": [
       "4"
      ]
     },
     "execution_count": 33,
     "metadata": {},
     "output_type": "execute_result"
    }
   ],
   "source": [
    "sum_function(x,y)"
   ]
  },
  {
   "cell_type": "code",
   "execution_count": 40,
   "id": "530781ae-a62c-40c1-a3f1-a8690e686a60",
   "metadata": {},
   "outputs": [
    {
     "name": "stdout",
     "output_type": "stream",
     "text": [
      "9\n"
     ]
    }
   ],
   "source": [
    "hasil = sum_function(4,5)\n",
    "print(hasil)"
   ]
  },
  {
   "cell_type": "code",
   "execution_count": 47,
   "id": "6e12ef17-e026-4680-8207-63d10d671f19",
   "metadata": {},
   "outputs": [
    {
     "name": "stdout",
     "output_type": "stream",
     "text": [
      "Anggur\n",
      "Pisang\n",
      "Manggaa\n"
     ]
    }
   ],
   "source": [
    "def fungsi_print_buah(buah):\n",
    "    for x in buah:\n",
    "        print(x)\n",
    "buah = [\"Anggur\" , \"Pisang\", \"Manggaa\"] \n",
    "\n",
    "\n",
    "fungsi_print_buah(buah)"
   ]
  },
  {
   "cell_type": "code",
   "execution_count": 48,
   "id": "9feb4038-a397-4789-b22e-f14e0aa0c008",
   "metadata": {},
   "outputs": [
    {
     "name": "stdout",
     "output_type": "stream",
     "text": [
      "['Anggur', 'Pisang', 'Manggaa']\n"
     ]
    }
   ],
   "source": [
    "## arbitary arguments\n",
    "def fungsi_print_buah(*buah):\n",
    "    for x in buah:\n",
    "        print(x)\n",
    "##buah = [\"Anggur\" , \"Pisang\", \"Manggaa\", \"Jeruk\"] \n",
    "\n",
    "\n",
    "fungsi_print_buah(buah)"
   ]
  },
  {
   "cell_type": "code",
   "execution_count": 53,
   "id": "a725441a-894b-4adf-bd51-c3021320f9dc",
   "metadata": {},
   "outputs": [
    {
     "name": "stdout",
     "output_type": "stream",
     "text": [
      "anggur\n",
      "jeruk\n",
      "mangga\n"
     ]
    }
   ],
   "source": [
    "## keyword arguments\n",
    "## keywors agumens use while callings function in which have format key = value\n",
    "\n",
    "def fungsi_print_buah(buah1, buah2, buah3):\n",
    "    print(buah1)\n",
    "    print(buah2)\n",
    "    print(buah3)\n",
    "    \n",
    "fungsi_print_buah(buah1 = \"anggur\", buah2=\"jeruk\", buah3=\"mangga\")"
   ]
  },
  {
   "cell_type": "code",
   "execution_count": 58,
   "id": "ce3330c0-7f80-4338-ab6b-1c8de5ea454e",
   "metadata": {},
   "outputs": [
    {
     "name": "stdout",
     "output_type": "stream",
     "text": [
      "anggur\n",
      "jeruk\n",
      "mangga\n"
     ]
    }
   ],
   "source": [
    "## *kwargs \n",
    "## use ** while we can not determine how much keywors arguments will be give in to function\n",
    "\n",
    "def fungsi_print_buah(**buah):\n",
    "    print(buah[\"buah1\"])\n",
    "    print(buah[\"buah2\"])\n",
    "    print(buah[\"buah3\"])\n",
    "    \n",
    "fungsi_print_buah(buah1 = \"anggur\", buah2=\"jeruk\", buah3=\"mangga\", buah4=\"Pete\")"
   ]
  },
  {
   "cell_type": "code",
   "execution_count": 74,
   "id": "cbc762cd-32a1-452e-97ef-8c8cd23ac4e4",
   "metadata": {},
   "outputs": [
    {
     "name": "stdout",
     "output_type": "stream",
     "text": [
      "dict_keys(['Thailand', 'Kamboja', 'Indonesia', 'Malaysia', 'Myanmar', 'Vietnam', 'Filipina', 'Laos', 'Brunei Darusalam'])\n"
     ]
    }
   ],
   "source": [
    "## Creating Dictionary\n",
    "## SUBSETTING\n",
    "ASEAN = {\"Thailand\" : \"Bangkok\", \"Kamboja\" : \"Pnom Penh\",\n",
    "         \"Indonesia\" : \"Jakarta\", \"Malaysia\" : \"Kuala Lumpur\",\n",
    "         \"Myanmar\" : \"Naypydaw\", \"Vietnam\" : \"Hanoi\",\n",
    "         \"Filipina\" : \"Manila\", \"Laos\": \"Vientiane\",\n",
    "         \"Brunei Darusalam\" : \"Bandar Seri Begawan\"}\n",
    "#access keys in dictionary\n",
    "print(ASEAN.keys())"
   ]
  },
  {
   "cell_type": "code",
   "execution_count": 65,
   "id": "64e77af5-85b6-4a55-9e3b-9cd4a7ee3907",
   "metadata": {},
   "outputs": [
    {
     "data": {
      "text/plain": [
       "'Jakarta'"
      ]
     },
     "execution_count": 65,
     "metadata": {},
     "output_type": "execute_result"
    }
   ],
   "source": [
    "## Subsetting key values \n",
    "\n",
    "ASEAN[\"Indonesia\"]"
   ]
  },
  {
   "cell_type": "code",
   "execution_count": 67,
   "id": "17dd0095-ae1e-4374-9d12-767ae734ca36",
   "metadata": {},
   "outputs": [
    {
     "data": {
      "text/plain": [
       "True"
      ]
     },
     "execution_count": 67,
     "metadata": {},
     "output_type": "execute_result"
    }
   ],
   "source": [
    "\"Indonesia\" in ASEAN"
   ]
  },
  {
   "cell_type": "code",
   "execution_count": 69,
   "id": "5ab2092d-f32f-4366-851b-f0006a409e74",
   "metadata": {},
   "outputs": [],
   "source": [
    "## extending Dictionary\n",
    "ASEAN[\"Timor Leste\"] = \"Dili\""
   ]
  },
  {
   "cell_type": "code",
   "execution_count": 70,
   "id": "9d65dedf-8b67-4861-9261-5c21a5649dce",
   "metadata": {},
   "outputs": [
    {
     "name": "stdout",
     "output_type": "stream",
     "text": [
      "{'Thailand': 'Bangkok', 'Kamboja': 'Pnom Penh', 'Indonesia': 'Jakarta', 'Malaysia': 'Kuala Lumpur', 'Myanmar': 'Naypydaw', 'Vietnam': 'Hanoi', 'Filipina': 'Manila', 'Laos': 'Vientiane', 'Brunei Darusalam': 'Bandar Seri Begawan', 'Timor Leste': 'Dili'}\n"
     ]
    }
   ],
   "source": [
    "print(ASEAN)"
   ]
  },
  {
   "cell_type": "code",
   "execution_count": 75,
   "id": "153ed437-745a-4684-9a54-cdf19423954a",
   "metadata": {},
   "outputs": [],
   "source": [
    "## DELETING KEY FROM Dictionary\n",
    "del(ASEAN[\"Thailand\"])"
   ]
  },
  {
   "cell_type": "code",
   "execution_count": 76,
   "id": "ff23997e-60df-4d7e-b6da-12458d7825ac",
   "metadata": {},
   "outputs": [
    {
     "name": "stdout",
     "output_type": "stream",
     "text": [
      "{'Kamboja': 'Pnom Penh', 'Indonesia': 'Jakarta', 'Malaysia': 'Kuala Lumpur', 'Myanmar': 'Naypydaw', 'Vietnam': 'Hanoi', 'Filipina': 'Manila', 'Laos': 'Vientiane', 'Brunei Darusalam': 'Bandar Seri Begawan'}\n"
     ]
    }
   ],
   "source": [
    "print(ASEAN)"
   ]
  },
  {
   "cell_type": "code",
   "execution_count": 84,
   "id": "f4406c88-876c-420c-b867-c08d77c359b3",
   "metadata": {},
   "outputs": [
    {
     "name": "stdout",
     "output_type": "stream",
     "text": [
      "{'USA': {'capital': 'Washington, D.C', 'GDP': 21.44}, 'China': {'capital': 'Beijing', 'GDP': 14.14}, 'Japan': {'capital': 'Osaka', 'GDP': 51.5}, 'Germany': {'capital': 'Berlin', 'GDP': 4.86}}\n"
     ]
    }
   ],
   "source": [
    "# Dictionary with Sub-Dictionaries\n",
    "GDP_country = {\"USA\" :{\"capital\": \"Washington, D.C\", \"GDP\": 21.44},\n",
    "               \"China\" :{\"capital\": \"Beijing\", \"GDP\" : 14.14},\n",
    "               \"Japan\" :{\"capital\": \"Osaka\", \"GDP\" :51.5},\n",
    "               \"Germany\" :{\"capital\" : \"Berlin\", \"GDP\" : 4.86}}\n",
    "print(GDP_country)"
   ]
  },
  {
   "cell_type": "code",
   "execution_count": 85,
   "id": "5fe214a9-166f-408b-847d-fc53e562f073",
   "metadata": {},
   "outputs": [],
   "source": [
    "#extending element in Dictionary with Sub Dictionaries\n",
    "\n",
    "#First create the variabel for russia, we can't directly entry the russia data\n",
    "##into element dictionary\n",
    "#adding capital from russia, and Country GDP\n",
    "russia_data = {\"capital\" : \"Moscow\", \"GDP\": 3.78}\n",
    "\n"
   ]
  },
  {
   "cell_type": "code",
   "execution_count": 88,
   "id": "800fde31-2672-4828-9b92-53b1c4b689dc",
   "metadata": {},
   "outputs": [],
   "source": [
    "#adding russia_data to GDP_country, which key is \"Russia\"\n",
    "GDP_country[\"Russia\"] = russia_data"
   ]
  },
  {
   "cell_type": "code",
   "execution_count": 89,
   "id": "91e76e2d-75e7-4feb-b7a5-b8020767d665",
   "metadata": {},
   "outputs": [
    {
     "name": "stdout",
     "output_type": "stream",
     "text": [
      "{'USA': {'capital': 'Washington, D.C', 'GDP': 21.44}, 'China': {'capital': 'Beijing', 'GDP': 14.14}, 'Japan': {'capital': 'Osaka', 'GDP': 51.5}, 'Germany': {'capital': 'Berlin', 'GDP': 4.86}, 'Russia': {'capital': 'Moscow', 'GDP': 3.78}}\n"
     ]
    }
   ],
   "source": [
    "print(GDP_country)"
   ]
  },
  {
   "cell_type": "code",
   "execution_count": null,
   "id": "8016ee39-dc65-4f6d-81f4-0dff19c3b188",
   "metadata": {},
   "outputs": [],
   "source": []
  }
 ],
 "metadata": {
  "kernelspec": {
   "display_name": "Python 3 (ipykernel)",
   "language": "python",
   "name": "python3"
  },
  "language_info": {
   "codemirror_mode": {
    "name": "ipython",
    "version": 3
   },
   "file_extension": ".py",
   "mimetype": "text/x-python",
   "name": "python",
   "nbconvert_exporter": "python",
   "pygments_lexer": "ipython3",
   "version": "3.10.0"
  }
 },
 "nbformat": 4,
 "nbformat_minor": 5
}
