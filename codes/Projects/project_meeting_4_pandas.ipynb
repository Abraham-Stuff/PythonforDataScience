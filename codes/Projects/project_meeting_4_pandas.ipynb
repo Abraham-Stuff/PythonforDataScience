{
 "cells": [
  {
   "cell_type": "code",
   "execution_count": 1,
   "metadata": {
    "id": "HxDK1CchX5Rp"
   },
   "outputs": [],
   "source": [
    "import pandas as pd"
   ]
  },
  {
   "cell_type": "markdown",
   "metadata": {
    "id": "FypSP2U4X5Rx"
   },
   "source": [
    "# creating DataFrame from Dictionary"
   ]
  },
  {
   "cell_type": "code",
   "execution_count": 3,
   "metadata": {
    "id": "k9N0dju3X5Ry"
   },
   "outputs": [
    {
     "data": {
      "text/html": [
       "<div>\n",
       "<style scoped>\n",
       "    .dataframe tbody tr th:only-of-type {\n",
       "        vertical-align: middle;\n",
       "    }\n",
       "\n",
       "    .dataframe tbody tr th {\n",
       "        vertical-align: top;\n",
       "    }\n",
       "\n",
       "    .dataframe thead th {\n",
       "        text-align: right;\n",
       "    }\n",
       "</style>\n",
       "<table border=\"1\" class=\"dataframe\">\n",
       "  <thead>\n",
       "    <tr style=\"text-align: right;\">\n",
       "      <th></th>\n",
       "      <th>USA</th>\n",
       "      <th>China</th>\n",
       "      <th>Japan</th>\n",
       "      <th>Germany</th>\n",
       "      <th>India</th>\n",
       "      <th>United Kingdom</th>\n",
       "      <th>France</th>\n",
       "      <th>Italy</th>\n",
       "      <th>Brazil</th>\n",
       "      <th>Canada</th>\n",
       "    </tr>\n",
       "  </thead>\n",
       "  <tbody>\n",
       "    <tr>\n",
       "      <th>capital</th>\n",
       "      <td>Washington, D.C.</td>\n",
       "      <td>Beijing</td>\n",
       "      <td>Osaka</td>\n",
       "      <td>Berlin</td>\n",
       "      <td>New Delhi</td>\n",
       "      <td>London</td>\n",
       "      <td>Paris</td>\n",
       "      <td>Rome</td>\n",
       "      <td>Brasilia</td>\n",
       "      <td>Ottawa</td>\n",
       "    </tr>\n",
       "    <tr>\n",
       "      <th>GDP</th>\n",
       "      <td>21.44</td>\n",
       "      <td>14.14</td>\n",
       "      <td>51.5</td>\n",
       "      <td>3.86</td>\n",
       "      <td>2.94</td>\n",
       "      <td>2.83</td>\n",
       "      <td>2.71</td>\n",
       "      <td>1.99</td>\n",
       "      <td>1.85</td>\n",
       "      <td>1.73</td>\n",
       "    </tr>\n",
       "  </tbody>\n",
       "</table>\n",
       "</div>"
      ],
      "text/plain": [
       "                      USA    China  Japan Germany      India United Kingdom  \\\n",
       "capital  Washington, D.C.  Beijing  Osaka  Berlin  New Delhi         London   \n",
       "GDP                 21.44    14.14   51.5    3.86       2.94           2.83   \n",
       "\n",
       "        France Italy    Brazil  Canada  \n",
       "capital  Paris  Rome  Brasilia  Ottawa  \n",
       "GDP       2.71  1.99      1.85    1.73  "
      ]
     },
     "execution_count": 74,
     "metadata": {},
     "output_type": "execute_result"
    }
   ],
   "source": [
    "\n",
    "country_profile = {\"USA\": {\"capital\": \"Washington, D.C.\", \"GDP\": 21.44}, \n",
    "               \"China\": {\"capital\": \"Beijing\", \"GDP\": 14.14},\n",
    "               \"Japan\": {\"capital\": \"Osaka\", \"GDP\": 51.5},\n",
    "               \"Germany\": {\"capital\": \"Berlin\", \"GDP\": 3.86},\n",
    "               \"India\": {\"capital\": \"New Delhi\", \"GDP\": 2.94},\n",
    "               \"United Kingdom\": {\"capital\": \"London\", \"GDP\": 2.83},\n",
    "               \"France\": {\"capital\": \"Paris\", \"GDP\": 2.71},\n",
    "               \"Italy\": {\"capital\": \"Rome\", \"GDP\":  1.99},\n",
    "               \"Brazil\": {\"capital\": \"Brasilia\", \"GDP\": 1.85},\n",
    "               \"Canada\": {\"capital\": \"Ottawa\", \"GDP\": 1.73}}\n",
    "\n",
    "# buatlah DataFrame dari dictionary country_profile di atas\n",
    "\n",
    "dt_country_profile = pd.DataFrame(country_profile)\n",
    "print(dt_country_profile)\n",
    "\n",
    "# print dt_country_profile"
   ]
  },
  {
   "cell_type": "markdown",
   "metadata": {
    "id": "mdLaZlazX5R0"
   },
   "source": [
    "# creating DataFrame from CSV File"
   ]
  },
  {
   "cell_type": "code",
   "execution_count": 10,
   "metadata": {
    "id": "B3oFtz5CX5R1",
    "outputId": "fd05e297-2ae0-4df1-b09b-d4deefa5b211"
   },
   "outputs": [
    {
     "data": {
      "text/plain": [
       "'/Users/abraham/Library/Mobile Documents/com~apple~CloudDocs/Devanta Abraham Tarigan/Projects/Python DSAI/Data Visualisation and Data Manipulation/data'"
      ]
     },
     "execution_count": 10,
     "metadata": {},
     "output_type": "execute_result"
    }
   ],
   "source": [
    "# pertama cek dahulu lokasi csv file pada working directory masing-masing\n",
    "\n",
    "# contoh:\n",
    "\n",
    "import os\n",
    "\n",
    "os.getcwd()   #cek working directory"
   ]
  },
  {
   "cell_type": "code",
   "execution_count": 11,
   "metadata": {
    "id": "_FeefoF7X5R4"
   },
   "outputs": [],
   "source": [
    "# set up working directory\n",
    "\n",
    "os.chdir(\"../data/input/\")"
   ]
  },
  {
   "cell_type": "code",
   "execution_count": 12,
   "metadata": {
    "id": "Uil8hsTrX5R7",
    "outputId": "3d3d4226-61b5-4b43-f4d6-42535e9b8a5f"
   },
   "outputs": [
    {
     "data": {
      "text/plain": [
       "['temperatures.csv',\n",
       " 'brics.csv',\n",
       " 'FIFA_dirty_dataset.csv',\n",
       " 'cars.csv',\n",
       " 'gapminder.csv']"
      ]
     },
     "execution_count": 12,
     "metadata": {},
     "output_type": "execute_result"
    }
   ],
   "source": [
    "os.listdir()  # cek file dan folder apa saja yang ada di working directory"
   ]
  },
  {
   "cell_type": "code",
   "execution_count": 14,
   "metadata": {
    "id": "ih1M3rsJX5R-"
   },
   "outputs": [
    {
     "data": {
      "text/html": [
       "<div>\n",
       "<style scoped>\n",
       "    .dataframe tbody tr th:only-of-type {\n",
       "        vertical-align: middle;\n",
       "    }\n",
       "\n",
       "    .dataframe tbody tr th {\n",
       "        vertical-align: top;\n",
       "    }\n",
       "\n",
       "    .dataframe thead th {\n",
       "        text-align: right;\n",
       "    }\n",
       "</style>\n",
       "<table border=\"1\" class=\"dataframe\">\n",
       "  <thead>\n",
       "    <tr style=\"text-align: right;\">\n",
       "      <th></th>\n",
       "      <th>Unnamed: 0</th>\n",
       "      <th>year</th>\n",
       "      <th>population</th>\n",
       "      <th>cont</th>\n",
       "      <th>life_exp</th>\n",
       "      <th>gdp_cap</th>\n",
       "    </tr>\n",
       "    <tr>\n",
       "      <th>country</th>\n",
       "      <th></th>\n",
       "      <th></th>\n",
       "      <th></th>\n",
       "      <th></th>\n",
       "      <th></th>\n",
       "      <th></th>\n",
       "    </tr>\n",
       "  </thead>\n",
       "  <tbody>\n",
       "    <tr>\n",
       "      <th>Afghanistan</th>\n",
       "      <td>11</td>\n",
       "      <td>2007</td>\n",
       "      <td>31889923.0</td>\n",
       "      <td>Asia</td>\n",
       "      <td>43.828</td>\n",
       "      <td>974.580338</td>\n",
       "    </tr>\n",
       "    <tr>\n",
       "      <th>Albania</th>\n",
       "      <td>23</td>\n",
       "      <td>2007</td>\n",
       "      <td>3600523.0</td>\n",
       "      <td>Europe</td>\n",
       "      <td>76.423</td>\n",
       "      <td>5937.029526</td>\n",
       "    </tr>\n",
       "    <tr>\n",
       "      <th>Algeria</th>\n",
       "      <td>35</td>\n",
       "      <td>2007</td>\n",
       "      <td>33333216.0</td>\n",
       "      <td>Africa</td>\n",
       "      <td>72.301</td>\n",
       "      <td>6223.367465</td>\n",
       "    </tr>\n",
       "    <tr>\n",
       "      <th>Angola</th>\n",
       "      <td>47</td>\n",
       "      <td>2007</td>\n",
       "      <td>12420476.0</td>\n",
       "      <td>Africa</td>\n",
       "      <td>42.731</td>\n",
       "      <td>4797.231267</td>\n",
       "    </tr>\n",
       "    <tr>\n",
       "      <th>Argentina</th>\n",
       "      <td>59</td>\n",
       "      <td>2007</td>\n",
       "      <td>40301927.0</td>\n",
       "      <td>Americas</td>\n",
       "      <td>75.320</td>\n",
       "      <td>12779.379640</td>\n",
       "    </tr>\n",
       "    <tr>\n",
       "      <th>...</th>\n",
       "      <td>...</td>\n",
       "      <td>...</td>\n",
       "      <td>...</td>\n",
       "      <td>...</td>\n",
       "      <td>...</td>\n",
       "      <td>...</td>\n",
       "    </tr>\n",
       "    <tr>\n",
       "      <th>Vietnam</th>\n",
       "      <td>1655</td>\n",
       "      <td>2007</td>\n",
       "      <td>85262356.0</td>\n",
       "      <td>Asia</td>\n",
       "      <td>74.249</td>\n",
       "      <td>2441.576404</td>\n",
       "    </tr>\n",
       "    <tr>\n",
       "      <th>West Bank and Gaza</th>\n",
       "      <td>1667</td>\n",
       "      <td>2007</td>\n",
       "      <td>4018332.0</td>\n",
       "      <td>Asia</td>\n",
       "      <td>73.422</td>\n",
       "      <td>3025.349798</td>\n",
       "    </tr>\n",
       "    <tr>\n",
       "      <th>Yemen, Rep.</th>\n",
       "      <td>1679</td>\n",
       "      <td>2007</td>\n",
       "      <td>22211743.0</td>\n",
       "      <td>Asia</td>\n",
       "      <td>62.698</td>\n",
       "      <td>2280.769906</td>\n",
       "    </tr>\n",
       "    <tr>\n",
       "      <th>Zambia</th>\n",
       "      <td>1691</td>\n",
       "      <td>2007</td>\n",
       "      <td>11746035.0</td>\n",
       "      <td>Africa</td>\n",
       "      <td>42.384</td>\n",
       "      <td>1271.211593</td>\n",
       "    </tr>\n",
       "    <tr>\n",
       "      <th>Zimbabwe</th>\n",
       "      <td>1703</td>\n",
       "      <td>2007</td>\n",
       "      <td>12311143.0</td>\n",
       "      <td>Africa</td>\n",
       "      <td>43.487</td>\n",
       "      <td>469.709298</td>\n",
       "    </tr>\n",
       "  </tbody>\n",
       "</table>\n",
       "<p>142 rows × 6 columns</p>\n",
       "</div>"
      ],
      "text/plain": [
       "                    Unnamed: 0  year  population      cont  life_exp  \\\n",
       "country                                                                \n",
       "Afghanistan                 11  2007  31889923.0      Asia    43.828   \n",
       "Albania                     23  2007   3600523.0    Europe    76.423   \n",
       "Algeria                     35  2007  33333216.0    Africa    72.301   \n",
       "Angola                      47  2007  12420476.0    Africa    42.731   \n",
       "Argentina                   59  2007  40301927.0  Americas    75.320   \n",
       "...                        ...   ...         ...       ...       ...   \n",
       "Vietnam                   1655  2007  85262356.0      Asia    74.249   \n",
       "West Bank and Gaza        1667  2007   4018332.0      Asia    73.422   \n",
       "Yemen, Rep.               1679  2007  22211743.0      Asia    62.698   \n",
       "Zambia                    1691  2007  11746035.0    Africa    42.384   \n",
       "Zimbabwe                  1703  2007  12311143.0    Africa    43.487   \n",
       "\n",
       "                         gdp_cap  \n",
       "country                           \n",
       "Afghanistan           974.580338  \n",
       "Albania              5937.029526  \n",
       "Algeria              6223.367465  \n",
       "Angola               4797.231267  \n",
       "Argentina           12779.379640  \n",
       "...                          ...  \n",
       "Vietnam              2441.576404  \n",
       "West Bank and Gaza   3025.349798  \n",
       "Yemen, Rep.          2280.769906  \n",
       "Zambia               1271.211593  \n",
       "Zimbabwe              469.709298  \n",
       "\n",
       "[142 rows x 6 columns]"
      ]
     },
     "execution_count": 75,
     "metadata": {},
     "output_type": "execute_result"
    }
   ],
   "source": [
    "# sekarang import gapminder.csv menjadi DataFrame,\n",
    "# jadikan nama \"country\" sebagai rows' label, dengan index_col = 1\n",
    "\n",
    "countries_data = pd.read_csv(\"../../data/input/gapminder.csv\", index_col=0)\n",
    "\n",
    "#print countries_data, dan pahami konten dari DataFrame tersebut\n",
    "countries_data"
   ]
  },
  {
   "cell_type": "markdown",
   "metadata": {
    "id": "acZGC27tX5SA"
   },
   "source": [
    "# Subsetting values in DataFrame using [[_]]"
   ]
  },
  {
   "cell_type": "code",
   "execution_count": 84,
   "metadata": {
    "id": "za6XLpRXX5SA"
   },
   "outputs": [
    {
     "data": {
      "text/html": [
       "<div>\n",
       "<style scoped>\n",
       "    .dataframe tbody tr th:only-of-type {\n",
       "        vertical-align: middle;\n",
       "    }\n",
       "\n",
       "    .dataframe tbody tr th {\n",
       "        vertical-align: top;\n",
       "    }\n",
       "\n",
       "    .dataframe thead th {\n",
       "        text-align: right;\n",
       "    }\n",
       "</style>\n",
       "<table border=\"1\" class=\"dataframe\">\n",
       "  <thead>\n",
       "    <tr style=\"text-align: right;\">\n",
       "      <th></th>\n",
       "      <th>population</th>\n",
       "    </tr>\n",
       "    <tr>\n",
       "      <th>country</th>\n",
       "      <th></th>\n",
       "    </tr>\n",
       "  </thead>\n",
       "  <tbody>\n",
       "    <tr>\n",
       "      <th>Afghanistan</th>\n",
       "      <td>31889923.0</td>\n",
       "    </tr>\n",
       "    <tr>\n",
       "      <th>Albania</th>\n",
       "      <td>3600523.0</td>\n",
       "    </tr>\n",
       "    <tr>\n",
       "      <th>Algeria</th>\n",
       "      <td>33333216.0</td>\n",
       "    </tr>\n",
       "    <tr>\n",
       "      <th>Angola</th>\n",
       "      <td>12420476.0</td>\n",
       "    </tr>\n",
       "    <tr>\n",
       "      <th>Argentina</th>\n",
       "      <td>40301927.0</td>\n",
       "    </tr>\n",
       "    <tr>\n",
       "      <th>...</th>\n",
       "      <td>...</td>\n",
       "    </tr>\n",
       "    <tr>\n",
       "      <th>Vietnam</th>\n",
       "      <td>85262356.0</td>\n",
       "    </tr>\n",
       "    <tr>\n",
       "      <th>West Bank and Gaza</th>\n",
       "      <td>4018332.0</td>\n",
       "    </tr>\n",
       "    <tr>\n",
       "      <th>Yemen, Rep.</th>\n",
       "      <td>22211743.0</td>\n",
       "    </tr>\n",
       "    <tr>\n",
       "      <th>Zambia</th>\n",
       "      <td>11746035.0</td>\n",
       "    </tr>\n",
       "    <tr>\n",
       "      <th>Zimbabwe</th>\n",
       "      <td>12311143.0</td>\n",
       "    </tr>\n",
       "  </tbody>\n",
       "</table>\n",
       "<p>142 rows × 1 columns</p>\n",
       "</div>"
      ],
      "text/plain": [
       "                    population\n",
       "country                       \n",
       "Afghanistan         31889923.0\n",
       "Albania              3600523.0\n",
       "Algeria             33333216.0\n",
       "Angola              12420476.0\n",
       "Argentina           40301927.0\n",
       "...                        ...\n",
       "Vietnam             85262356.0\n",
       "West Bank and Gaza   4018332.0\n",
       "Yemen, Rep.         22211743.0\n",
       "Zambia              11746035.0\n",
       "Zimbabwe            12311143.0\n",
       "\n",
       "[142 rows x 1 columns]"
      ]
     },
     "execution_count": 84,
     "metadata": {},
     "output_type": "execute_result"
    }
   ],
   "source": [
    "# dari countries_data pilih hanya nama country dan population\n",
    "\n",
    "countries_data[[\"population\"]]"
   ]
  },
  {
   "cell_type": "markdown",
   "metadata": {
    "id": "BfoxAvy2X5SE"
   },
   "source": [
    "# Subsetting values using .loc[[]] method"
   ]
  },
  {
   "cell_type": "code",
   "execution_count": 88,
   "metadata": {
    "id": "c_4m19BHX5SE"
   },
   "outputs": [
    {
     "data": {
      "text/html": [
       "<div>\n",
       "<style scoped>\n",
       "    .dataframe tbody tr th:only-of-type {\n",
       "        vertical-align: middle;\n",
       "    }\n",
       "\n",
       "    .dataframe tbody tr th {\n",
       "        vertical-align: top;\n",
       "    }\n",
       "\n",
       "    .dataframe thead th {\n",
       "        text-align: right;\n",
       "    }\n",
       "</style>\n",
       "<table border=\"1\" class=\"dataframe\">\n",
       "  <thead>\n",
       "    <tr style=\"text-align: right;\">\n",
       "      <th></th>\n",
       "      <th>Unnamed: 0</th>\n",
       "      <th>year</th>\n",
       "      <th>population</th>\n",
       "      <th>cont</th>\n",
       "      <th>life_exp</th>\n",
       "      <th>gdp_cap</th>\n",
       "    </tr>\n",
       "    <tr>\n",
       "      <th>country</th>\n",
       "      <th></th>\n",
       "      <th></th>\n",
       "      <th></th>\n",
       "      <th></th>\n",
       "      <th></th>\n",
       "      <th></th>\n",
       "    </tr>\n",
       "  </thead>\n",
       "  <tbody>\n",
       "    <tr>\n",
       "      <th>Albania</th>\n",
       "      <td>23</td>\n",
       "      <td>2007</td>\n",
       "      <td>3600523.0</td>\n",
       "      <td>Europe</td>\n",
       "      <td>76.423</td>\n",
       "      <td>5937.029526</td>\n",
       "    </tr>\n",
       "    <tr>\n",
       "      <th>Vietnam</th>\n",
       "      <td>1655</td>\n",
       "      <td>2007</td>\n",
       "      <td>85262356.0</td>\n",
       "      <td>Asia</td>\n",
       "      <td>74.249</td>\n",
       "      <td>2441.576404</td>\n",
       "    </tr>\n",
       "  </tbody>\n",
       "</table>\n",
       "</div>"
      ],
      "text/plain": [
       "         Unnamed: 0  year  population    cont  life_exp      gdp_cap\n",
       "country                                                             \n",
       "Albania          23  2007   3600523.0  Europe    76.423  5937.029526\n",
       "Vietnam        1655  2007  85262356.0    Asia    74.249  2441.576404"
      ]
     },
     "execution_count": 88,
     "metadata": {},
     "output_type": "execute_result"
    }
   ],
   "source": [
    "# cari informasi lengkap dari negara \"Albania\" dan \"Vietnam\"\n",
    "\n",
    "countries_data.loc[[\"Albania\" , \"Vietnam\"]]"
   ]
  },
  {
   "cell_type": "code",
   "execution_count": 87,
   "metadata": {
    "id": "_jrGsQbvX5SG"
   },
   "outputs": [
    {
     "data": {
      "text/html": [
       "<div>\n",
       "<style scoped>\n",
       "    .dataframe tbody tr th:only-of-type {\n",
       "        vertical-align: middle;\n",
       "    }\n",
       "\n",
       "    .dataframe tbody tr th {\n",
       "        vertical-align: top;\n",
       "    }\n",
       "\n",
       "    .dataframe thead th {\n",
       "        text-align: right;\n",
       "    }\n",
       "</style>\n",
       "<table border=\"1\" class=\"dataframe\">\n",
       "  <thead>\n",
       "    <tr style=\"text-align: right;\">\n",
       "      <th></th>\n",
       "      <th>gdp_cap</th>\n",
       "    </tr>\n",
       "    <tr>\n",
       "      <th>country</th>\n",
       "      <th></th>\n",
       "    </tr>\n",
       "  </thead>\n",
       "  <tbody>\n",
       "    <tr>\n",
       "      <th>Indonesia</th>\n",
       "      <td>3540.651564</td>\n",
       "    </tr>\n",
       "    <tr>\n",
       "      <th>Singapore</th>\n",
       "      <td>47143.179640</td>\n",
       "    </tr>\n",
       "  </tbody>\n",
       "</table>\n",
       "</div>"
      ],
      "text/plain": [
       "                gdp_cap\n",
       "country                \n",
       "Indonesia   3540.651564\n",
       "Singapore  47143.179640"
      ]
     },
     "execution_count": 87,
     "metadata": {},
     "output_type": "execute_result"
    }
   ],
   "source": [
    "# cari informasi gdp_cap dan population dari negara Indonesia & Singapore\n",
    "\n",
    "countries_data.loc[[\"Indonesia\", \"Singapore\"], [\"gdp_cap\"]]"
   ]
  },
  {
   "cell_type": "markdown",
   "metadata": {
    "id": "ns5w4-tsX5SJ"
   },
   "source": [
    "# Subsetting values using .iloc[[]] method"
   ]
  },
  {
   "cell_type": "code",
   "execution_count": 96,
   "metadata": {
    "id": "39mtq4M5X5SJ"
   },
   "outputs": [
    {
     "data": {
      "text/html": [
       "<div>\n",
       "<style scoped>\n",
       "    .dataframe tbody tr th:only-of-type {\n",
       "        vertical-align: middle;\n",
       "    }\n",
       "\n",
       "    .dataframe tbody tr th {\n",
       "        vertical-align: top;\n",
       "    }\n",
       "\n",
       "    .dataframe thead th {\n",
       "        text-align: right;\n",
       "    }\n",
       "</style>\n",
       "<table border=\"1\" class=\"dataframe\">\n",
       "  <thead>\n",
       "    <tr style=\"text-align: right;\">\n",
       "      <th></th>\n",
       "      <th>year</th>\n",
       "      <th>gdp_cap</th>\n",
       "    </tr>\n",
       "    <tr>\n",
       "      <th>country</th>\n",
       "      <th></th>\n",
       "      <th></th>\n",
       "    </tr>\n",
       "  </thead>\n",
       "  <tbody>\n",
       "    <tr>\n",
       "      <th>Afghanistan</th>\n",
       "      <td>2007</td>\n",
       "      <td>974.580338</td>\n",
       "    </tr>\n",
       "    <tr>\n",
       "      <th>Benin</th>\n",
       "      <td>2007</td>\n",
       "      <td>1441.284873</td>\n",
       "    </tr>\n",
       "  </tbody>\n",
       "</table>\n",
       "</div>"
      ],
      "text/plain": [
       "             year      gdp_cap\n",
       "country                       \n",
       "Afghanistan  2007   974.580338\n",
       "Benin        2007  1441.284873"
      ]
     },
     "execution_count": 96,
     "metadata": {},
     "output_type": "execute_result"
    }
   ],
   "source": [
    "# pilih row pada index ke-1 dan ke-11, dan column: year dan gdp_cap\n",
    "\n",
    "countries_data.iloc[[0, 10],[1,5]]"
   ]
  },
  {
   "cell_type": "code",
   "execution_count": null,
   "metadata": {},
   "outputs": [],
   "source": []
  }
 ],
 "metadata": {
  "colab": {
   "name": "project_meeting_4_pandas.ipynb",
   "provenance": []
  },
  "kernelspec": {
   "display_name": "Python 3 (ipykernel)",
   "language": "python",
   "name": "python3"
  },
  "language_info": {
   "codemirror_mode": {
    "name": "ipython",
    "version": 3
   },
   "file_extension": ".py",
   "mimetype": "text/x-python",
   "name": "python",
   "nbconvert_exporter": "python",
   "pygments_lexer": "ipython3",
   "version": "3.10.0"
  }
 },
 "nbformat": 4,
 "nbformat_minor": 4
}
