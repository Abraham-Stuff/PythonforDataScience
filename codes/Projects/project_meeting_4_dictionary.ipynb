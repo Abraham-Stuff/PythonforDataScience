{
 "cells": [
  {
   "cell_type": "markdown",
   "metadata": {},
   "source": [
    "# Creating Dictionary"
   ]
  },
  {
   "cell_type": "code",
   "execution_count": 30,
   "metadata": {},
   "outputs": [],
   "source": [
    "# nama negara dan GDP-nya\n",
    "USA = 21.44 # USA\n",
    "CHN = 14.14 # China\n",
    "JPN = 5.15 # Japan\n",
    "DE = 3.86 # Germany\n",
    "IND = 2.94 # India\n",
    "GBR = 2.83 # United Kingdom\n",
    "FRA = 2.71 # France\n",
    "ITA = 1.99 # Italy\n",
    "BRA = 1.85 # Brazil\n",
    "CAN = 1.73 # Canada\n",
    "\n",
    "# Buatlah dictionary dengan key: nama negara diatas. value: GDP-nya\n",
    "\n",
    "top_GDP = {\"USA\" :{\"Capital\" : \"Washington D.C\", \"GDP\": 21.44},\n",
    "           \"CHN\" :{\"Capital\" : \"Beijing\", \"GDP\":14.44},\n",
    "           \"JPN\" :{\"Capital\" : \"Tokyo\", \"GDP\":5.15},\n",
    "           \"DE\"  :{\"Capital\" : \"Berlin\", \"GDP\":3.86},\n",
    "           \"IND\" :{\"Capital\" : \"New Delhi\", \"GDP\":2.94},\n",
    "           \"GBR\" :{\"Capital\" : \"London\", \"GDP\":2.83},\n",
    "           \"FRA\" :{\"Capital\" : \"Paris\", \"GDP\":2.71},\n",
    "           \"ITA\" :{\"Capital\" : \"Roma\", \"GDP\":1.99},\n",
    "           \"BRA\" :{\"Capital\" : \"Rio De Jeneiro\", \"GDP\":1.85},\n",
    "           \"CAN\" :{\"Capital\" : \"Ottawa\", \"GDP\":1.73}}\n"
   ]
  },
  {
   "cell_type": "code",
   "execution_count": 31,
   "metadata": {},
   "outputs": [
    {
     "name": "stdout",
     "output_type": "stream",
     "text": [
      "dict_keys(['USA', 'CHN', 'JPN', 'DE', 'IND', 'GBR', 'FRA', 'ITA', 'BRA', 'CAN'])\n"
     ]
    }
   ],
   "source": [
    "# print \"key\" dari dictionary top_GDP\n",
    "\n",
    "print(top_GDP.keys())"
   ]
  },
  {
   "cell_type": "markdown",
   "metadata": {},
   "source": [
    "# subset dictionary"
   ]
  },
  {
   "cell_type": "code",
   "execution_count": 32,
   "metadata": {},
   "outputs": [
    {
     "data": {
      "text/plain": [
       "{'Capital': 'Berlin', 'GDP': 3.86}"
      ]
     },
     "execution_count": 32,
     "metadata": {},
     "output_type": "execute_result"
    }
   ],
   "source": [
    "# cari GDP dari \"Germany\"\n",
    "top_GDP[\"DE\"]\n"
   ]
  },
  {
   "cell_type": "code",
   "execution_count": 33,
   "metadata": {},
   "outputs": [
    {
     "data": {
      "text/plain": [
       "{'Capital': 'Paris', 'GDP': 2.71}"
      ]
     },
     "execution_count": 33,
     "metadata": {},
     "output_type": "execute_result"
    }
   ],
   "source": [
    "# cari GDP dari \"France\"\n",
    "\n",
    "top_GDP[\"FRA\"]"
   ]
  },
  {
   "cell_type": "code",
   "execution_count": 35,
   "metadata": {},
   "outputs": [
    {
     "data": {
      "text/plain": [
       "True"
      ]
     },
     "execution_count": 35,
     "metadata": {},
     "output_type": "execute_result"
    }
   ],
   "source": [
    "# cari apakah benar Brazil ada di top_GDP (gunakan \"in\" method)\n",
    "\n",
    "\"BRA\" in top_GDP"
   ]
  },
  {
   "cell_type": "markdown",
   "metadata": {},
   "source": [
    "# Extending Dictionary"
   ]
  },
  {
   "cell_type": "code",
   "execution_count": 37,
   "metadata": {},
   "outputs": [
    {
     "name": "stdout",
     "output_type": "stream",
     "text": [
      "{'USA': {'Capital': 'Washington D.C', 'GDP': 21.44}, 'CHN': {'Capital': 'Beijing', 'GDP': 14.44}, 'JPN': {'Capital': 'Tokyo', 'GDP': 5.15}, 'DE': {'Capital': 'Berlin', 'GDP': 3.86}, 'IND': {'Capital': 'New Delhi', 'GDP': 2.94}, 'GBR': {'Capital': 'London', 'GDP': 2.83}, 'FRA': {'Capital': 'Paris', 'GDP': 2.71}, 'ITA': {'Capital': 'Roma', 'GDP': 1.99}, 'BRA': {'Capital': 'Rio De Jeneiro', 'GDP': 1.85}, 'CAN': {'Capital': 'Ottawa', 'GDP': 1.73}, 'Russia': {'Capital': 'Moscow', 'GDP': 1.45}}\n"
     ]
    }
   ],
   "source": [
    "# GDP Russia\n",
    "gdp_russia = 1.45\n",
    "\n",
    "# tambahkan gdp_russia ke top_GDP dictionary, dengan key \"Russia\"\n",
    "russia_data = {\"Capital\" : \"Moscow\", \"GDP\":gdp_russia} \n",
    "top_GDP[\"Russia\"] = russia_data\n",
    "print(top_GDP)"
   ]
  },
  {
   "cell_type": "markdown",
   "metadata": {},
   "source": [
    "# Delete key dari dictionary"
   ]
  },
  {
   "cell_type": "code",
   "execution_count": 38,
   "metadata": {},
   "outputs": [],
   "source": [
    "# hapus Brazil dari dictionary\n",
    "\n",
    "del(top_GDP[\"BRA\"])"
   ]
  },
  {
   "cell_type": "code",
   "execution_count": 39,
   "metadata": {},
   "outputs": [
    {
     "name": "stdout",
     "output_type": "stream",
     "text": [
      "{'USA': {'Capital': 'Washington D.C', 'GDP': 21.44}, 'CHN': {'Capital': 'Beijing', 'GDP': 14.44}, 'JPN': {'Capital': 'Tokyo', 'GDP': 5.15}, 'DE': {'Capital': 'Berlin', 'GDP': 3.86}, 'IND': {'Capital': 'New Delhi', 'GDP': 2.94}, 'GBR': {'Capital': 'London', 'GDP': 2.83}, 'FRA': {'Capital': 'Paris', 'GDP': 2.71}, 'ITA': {'Capital': 'Roma', 'GDP': 1.99}, 'CAN': {'Capital': 'Ottawa', 'GDP': 1.73}, 'Russia': {'Capital': 'Moscow', 'GDP': 1.45}}\n"
     ]
    }
   ],
   "source": [
    "print(top_GDP)"
   ]
  },
  {
   "cell_type": "code",
   "execution_count": null,
   "metadata": {},
   "outputs": [],
   "source": []
  }
 ],
 "metadata": {
  "kernelspec": {
   "display_name": "Python 3 (ipykernel)",
   "language": "python",
   "name": "python3"
  },
  "language_info": {
   "codemirror_mode": {
    "name": "ipython",
    "version": 3
   },
   "file_extension": ".py",
   "mimetype": "text/x-python",
   "name": "python",
   "nbconvert_exporter": "python",
   "pygments_lexer": "ipython3",
   "version": "3.10.0"
  }
 },
 "nbformat": 4,
 "nbformat_minor": 4
}
