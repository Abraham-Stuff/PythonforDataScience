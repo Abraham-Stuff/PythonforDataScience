{
 "cells": [
  {
   "cell_type": "markdown",
   "metadata": {
    "id": "LERSK6TT52c3"
   },
   "source": [
    "# Project Penerapan List, Logic, dan Fungsi\n",
    "## Membuat sistem Perpustakaan\n",
    "### konsep CRUD (CREATE, READ, UPDATE, DELETE) sederhana tanpa Database"
   ]
  },
  {
   "cell_type": "code",
   "execution_count": null,
   "metadata": {
    "id": "Sx4iInEe52c7"
   },
   "outputs": [],
   "source": [
    "# Buat variabel global untuk menyimpan data Buku dengan menggunakan LIST\n",
    "buku = ____\n",
    "\n",
    "# Fungsi untuk menampilkan semua data\n",
    "def tampilkan_buku():\n",
    "    print(\"\\n\")\n",
    "    print(\"----------- Daftar Buku ----------\")\n",
    "    # Check jika jumlah value pada variable buku\n",
    "    # Jika jumlah buku <=0 print(\"Belum Ada Data\")\n",
    "    if len(___) <= ___:\n",
    "        print(\"BELUM ADA DATA\")\n",
    "    # Jika jumlah lebih dari 0, maka kita print buku satu persatu beserta indexnya\n",
    "    # menggunakan For loops\n",
    "    else:\n",
    "        for ____ in range(len(____)):\n",
    "            print(\"[\"+str(____)+\"]\", str(____[____]))"
   ]
  },
  {
   "cell_type": "code",
   "execution_count": null,
   "metadata": {
    "id": "-rzyobFq52c8"
   },
   "outputs": [],
   "source": [
    "# fungsi untuk menambah data\n",
    "def masukkan_data_buku():\n",
    "    # Supaya interaktif, kita buat user input dengan menggunakan fungsi input()\n",
    "    buku_baru = input(\"Masukkan Judul Buku: \")\n",
    "    # gunakan method .append() untuk menambah nilai baru\n",
    "    # perlu diingat method .append() berbeda dengan konsep extending list yang menggunakan (+) *) List + List\n",
    "    buku.____(____)\n",
    "    print(\"Buku dengan judul: \\\"\" + buku_baru + \"\\\" telah berhasil dimasukkan\")"
   ]
  },
  {
   "cell_type": "code",
   "execution_count": null,
   "metadata": {
    "id": "SaEHUdbP52c9"
   },
   "outputs": [],
   "source": [
    "# fungsi untuk edit data\n",
    "def edit_data_buku():\n",
    "    # Tampilkan data buku dengan memanggil fungsi tampilkan_buku\n",
    "    tampilkan_buku()\n",
    "    # Buat user input untuk memasukkan ID buku yang akan di edit\n",
    "    index = input(\"Inputkan ID buku yang akan di edit: \")\n",
    "    index = int(index)\n",
    "    # Check jika ID yang dimasukkan lebih besar dari jumlah buku, maka print(\"ID Salah\")\n",
    "    if(____ + 1 > len(____)):\n",
    "        print(\"ID salah\")\n",
    "    # Else, replace list element dengan judul_baru\n",
    "    else:\n",
    "        ____ = input(\"Judul baru: \")\n",
    "        ____[____] = ____\n",
    "        print(\"Buku dengan judul baru: \\\"\" + ____ + \"\\\" telah berhasil diubah\")"
   ]
  },
  {
   "cell_type": "code",
   "execution_count": null,
   "metadata": {
    "id": "0mEk9PER52c-"
   },
   "outputs": [],
   "source": [
    "# fungsi untuk menhapus data\n",
    "def hapus_data_buku():\n",
    "    tampilkan_buku() #Tampilkan data buku\n",
    "    index = input(\"Inputkan ID buku yang akan di hapus: \") #gunakan input() untuk mendapatkan ID dari user input\n",
    "    index = int(index)\n",
    "    # Check jika ID yang dimasukkan lebih besar dari jumlah buku, maka print(\"ID Salah\")\n",
    "    if(____ + 1 > len(____)):\n",
    "        print(\"ID salah\")\n",
    "    # Else, remove data buku menggunakan method .remove(buku[index]) atau del(buku[index])\n",
    "    else:\n",
    "        buku.____(buku[____])\n",
    "        print(\"Buku dengan index: \\\"\" + str(____) + \"\\\" telah berhasil dihapus\")"
   ]
  },
  {
   "cell_type": "code",
   "execution_count": null,
   "metadata": {
    "id": "ZQtmuxyC52c-",
    "outputId": "9dffe405-6458-428a-a56e-7c8c5d315a90"
   },
   "outputs": [
    {
     "name": "stdout",
     "output_type": "stream",
     "text": [
      "\n",
      "\n",
      "----------- SISTEM PERPUSTAKAAN ----------\n",
      "[1] Tampilkan Buku\n",
      "[2] Masukkan Data Buku\n",
      "[3] Edit Data Buku\n",
      "[4] Hapus Data Buku\n",
      "[5] Exit\n",
      "PILIH MENU> 1\n",
      "\n",
      "\n",
      "\n",
      "\n",
      "----------- Daftar Buku ----------\n",
      "BELUM ADA DATA\n",
      "\n",
      "\n",
      "----------- SISTEM PERPUSTAKAAN ----------\n",
      "[1] Tampilkan Buku\n",
      "[2] Masukkan Data Buku\n",
      "[3] Edit Data Buku\n",
      "[4] Hapus Data Buku\n",
      "[5] Exit\n",
      "PILIH MENU> 2\n",
      "\n",
      "\n",
      "Masukkan Judul Buku: Harry\n",
      "Buku dengan judul: \"Harry\" telah berhasil dimasukkan\n",
      "\n",
      "\n",
      "----------- SISTEM PERPUSTAKAAN ----------\n",
      "[1] Tampilkan Buku\n",
      "[2] Masukkan Data Buku\n",
      "[3] Edit Data Buku\n",
      "[4] Hapus Data Buku\n",
      "[5] Exit\n",
      "PILIH MENU> Math\n",
      "\n",
      "\n",
      "Salah pilih!\n",
      "\n",
      "\n",
      "----------- SISTEM PERPUSTAKAAN ----------\n",
      "[1] Tampilkan Buku\n",
      "[2] Masukkan Data Buku\n",
      "[3] Edit Data Buku\n",
      "[4] Hapus Data Buku\n",
      "[5] Exit\n",
      "PILIH MENU> Physics\n",
      "\n",
      "\n",
      "Salah pilih!\n",
      "\n",
      "\n",
      "----------- SISTEM PERPUSTAKAAN ----------\n",
      "[1] Tampilkan Buku\n",
      "[2] Masukkan Data Buku\n",
      "[3] Edit Data Buku\n",
      "[4] Hapus Data Buku\n",
      "[5] Exit\n",
      "PILIH MENU> 1\n",
      "\n",
      "\n",
      "\n",
      "\n",
      "----------- Daftar Buku ----------\n",
      "[0] Harry\n",
      "\n",
      "\n",
      "----------- SISTEM PERPUSTAKAAN ----------\n",
      "[1] Tampilkan Buku\n",
      "[2] Masukkan Data Buku\n",
      "[3] Edit Data Buku\n",
      "[4] Hapus Data Buku\n",
      "[5] Exit\n",
      "PILIH MENU> 2\n",
      "\n",
      "\n",
      "Masukkan Judul Buku: Math\n",
      "Buku dengan judul: \"Math\" telah berhasil dimasukkan\n",
      "\n",
      "\n",
      "----------- SISTEM PERPUSTAKAAN ----------\n",
      "[1] Tampilkan Buku\n",
      "[2] Masukkan Data Buku\n",
      "[3] Edit Data Buku\n",
      "[4] Hapus Data Buku\n",
      "[5] Exit\n",
      "PILIH MENU> 2\n",
      "\n",
      "\n",
      "Masukkan Judul Buku: Physics\n",
      "Buku dengan judul: \"Physics\" telah berhasil dimasukkan\n",
      "\n",
      "\n",
      "----------- SISTEM PERPUSTAKAAN ----------\n",
      "[1] Tampilkan Buku\n",
      "[2] Masukkan Data Buku\n",
      "[3] Edit Data Buku\n",
      "[4] Hapus Data Buku\n",
      "[5] Exit\n",
      "PILIH MENU> 1\n",
      "\n",
      "\n",
      "\n",
      "\n",
      "----------- Daftar Buku ----------\n",
      "[0] Harry\n",
      "[1] Math\n",
      "[2] Physics\n",
      "\n",
      "\n",
      "----------- SISTEM PERPUSTAKAAN ----------\n",
      "[1] Tampilkan Buku\n",
      "[2] Masukkan Data Buku\n",
      "[3] Edit Data Buku\n",
      "[4] Hapus Data Buku\n",
      "[5] Exit\n"
     ]
    }
   ],
   "source": [
    "# fungsi untuk menampilkan menu\n",
    "def tampilkan_menu_utama():\n",
    "    print(\"\\n\")\n",
    "    print(\"----------- SISTEM PERPUSTAKAAN ----------\")\n",
    "    print(\"[1] Tampilkan Buku\")\n",
    "    print(\"[2] Masukkan Data Buku\")\n",
    "    print(\"[3] Edit Data Buku\")\n",
    "    print(\"[4] Hapus Data Buku\")\n",
    "    print(\"[5] Exit\")\n",
    "    \n",
    "    # Buat input user menggunakan fungsi input()\n",
    "    # kemudian, buat control flow yang bisa memanage pilihan input\n",
    "    \n",
    "    menu = input(\"PILIH MENU> \")\n",
    "    print(\"\\n\")\n",
    "\n",
    "    if menu == \"1\":\n",
    "        ____()\n",
    "    elif menu == \"2\":\n",
    "        ____()\n",
    "    elif menu == \"3\":\n",
    "        ____()\n",
    "    elif menu == \"4\":\n",
    "        ____()\n",
    "    elif menu == \"5\":\n",
    "        exit()\n",
    "    else:\n",
    "        print(\"Salah pilih!\")\n",
    "\n",
    "# Gunakan if __name__ == \"__main__\":, jika ingin menggunakan code yang sudah kita buat menjadi nama_file.py\n",
    "# Sehingga bisa di eksekusi menggunakan command python\n",
    "if __name__ == \"__main__\":  \n",
    "\n",
    "    while(True):\n",
    "        tampilkan_menu_utama()"
   ]
  },
  {
   "cell_type": "markdown",
   "metadata": {
    "id": "Nz0ADgnn52dA"
   },
   "source": [
    "# Referensi:\n",
    "## https://www.scribd.com/document/450041719/74-Pemrograman-System-Python-pdf"
   ]
  },
  {
   "cell_type": "code",
   "execution_count": null,
   "metadata": {
    "id": "ULh_3rbn52dB"
   },
   "outputs": [],
   "source": []
  }
 ],
 "metadata": {
  "colab": {
   "name": "Project_Function_Sistem_Perpustakaan_v0.01.ipynb",
   "provenance": []
  },
  "kernelspec": {
   "display_name": "Python 3 (ipykernel)",
   "language": "python",
   "name": "python3"
  },
  "language_info": {
   "codemirror_mode": {
    "name": "ipython",
    "version": 3
   },
   "file_extension": ".py",
   "mimetype": "text/x-python",
   "name": "python",
   "nbconvert_exporter": "python",
   "pygments_lexer": "ipython3",
   "version": "3.10.0"
  }
 },
 "nbformat": 4,
 "nbformat_minor": 4
}
